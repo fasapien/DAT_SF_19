{
 "cells": [
  {
   "cell_type": "code",
   "execution_count": 6,
   "metadata": {
    "collapsed": true
   },
   "outputs": [],
   "source": [
    "import pandas as pd\n",
    "import numpy as np\n",
    "import re\n",
    "from sklearn.naive_bayes import MultinomialNB\n",
    "from sklearn.feature_extraction.text import CountVectorizer\n",
    "from sklearn.feature_extraction.text import TfidfTransformer\n",
    "from nltk.corpus import stopwords\n",
    "from sklearn.cross_validation import train_test_split\n",
    "from sklearn.cross_validation import cross_val_score\n",
    "\n",
    "from sklearn import metrics\n",
    "data = pd.read_csv(\"health_data.tsv\", header=0, \\\n",
    "                    delimiter=\"\\t\")"
   ]
  },
  {
   "cell_type": "code",
   "execution_count": 7,
   "metadata": {
    "collapsed": false
   },
   "outputs": [
    {
     "data": {
      "text/html": [
       "<div>\n",
       "<table border=\"1\" class=\"dataframe\">\n",
       "  <thead>\n",
       "    <tr style=\"text-align: right;\">\n",
       "      <th></th>\n",
       "      <th>CS_ID</th>\n",
       "      <th>Keyword_ID</th>\n",
       "      <th>Keyword</th>\n",
       "      <th>Intent_1</th>\n",
       "      <th>Authority</th>\n",
       "    </tr>\n",
       "  </thead>\n",
       "  <tbody>\n",
       "    <tr>\n",
       "      <th>0</th>\n",
       "      <td>CS_0001</td>\n",
       "      <td>3486</td>\n",
       "      <td>poison oak pictures</td>\n",
       "      <td>Resource</td>\n",
       "      <td>General</td>\n",
       "    </tr>\n",
       "    <tr>\n",
       "      <th>1</th>\n",
       "      <td>CS_0002</td>\n",
       "      <td>3486</td>\n",
       "      <td>best foods for hypothyroidism</td>\n",
       "      <td>Direct Answer</td>\n",
       "      <td>Expert</td>\n",
       "    </tr>\n",
       "    <tr>\n",
       "      <th>2</th>\n",
       "      <td>CS_0003</td>\n",
       "      <td>3486</td>\n",
       "      <td>kidney stones in women</td>\n",
       "      <td>Generic</td>\n",
       "      <td>Expert</td>\n",
       "    </tr>\n",
       "    <tr>\n",
       "      <th>3</th>\n",
       "      <td>CS_0004</td>\n",
       "      <td>3484</td>\n",
       "      <td>what spider bites look like</td>\n",
       "      <td>Resource</td>\n",
       "      <td>General</td>\n",
       "    </tr>\n",
       "    <tr>\n",
       "      <th>4</th>\n",
       "      <td>CS_0005</td>\n",
       "      <td>3484</td>\n",
       "      <td>fifths disease picture of rash</td>\n",
       "      <td>Resource</td>\n",
       "      <td>General</td>\n",
       "    </tr>\n",
       "    <tr>\n",
       "      <th>5</th>\n",
       "      <td>CS_0006</td>\n",
       "      <td>3484</td>\n",
       "      <td>multi myeloma life expectancy</td>\n",
       "      <td>Direct Answer</td>\n",
       "      <td>Expert</td>\n",
       "    </tr>\n",
       "    <tr>\n",
       "      <th>6</th>\n",
       "      <td>CS_0007</td>\n",
       "      <td>3483</td>\n",
       "      <td>pictures of impetigo</td>\n",
       "      <td>Resource</td>\n",
       "      <td>General</td>\n",
       "    </tr>\n",
       "    <tr>\n",
       "      <th>7</th>\n",
       "      <td>CS_0008</td>\n",
       "      <td>3483</td>\n",
       "      <td>how serious is spinal stenosis</td>\n",
       "      <td>Direct Answer</td>\n",
       "      <td>Expert</td>\n",
       "    </tr>\n",
       "    <tr>\n",
       "      <th>8</th>\n",
       "      <td>CS_0009</td>\n",
       "      <td>3483</td>\n",
       "      <td>how to correct hammer toe</td>\n",
       "      <td>Guide</td>\n",
       "      <td>Expert</td>\n",
       "    </tr>\n",
       "    <tr>\n",
       "      <th>9</th>\n",
       "      <td>CS_0010</td>\n",
       "      <td>3482</td>\n",
       "      <td>ear wax removal peroxide</td>\n",
       "      <td>Direct Answer</td>\n",
       "      <td>Expert</td>\n",
       "    </tr>\n",
       "  </tbody>\n",
       "</table>\n",
       "</div>"
      ],
      "text/plain": [
       "     CS_ID  Keyword_ID                         Keyword       Intent_1  \\\n",
       "0  CS_0001        3486             poison oak pictures       Resource   \n",
       "1  CS_0002        3486   best foods for hypothyroidism  Direct Answer   \n",
       "2  CS_0003        3486          kidney stones in women        Generic   \n",
       "3  CS_0004        3484     what spider bites look like       Resource   \n",
       "4  CS_0005        3484  fifths disease picture of rash       Resource   \n",
       "5  CS_0006        3484   multi myeloma life expectancy  Direct Answer   \n",
       "6  CS_0007        3483            pictures of impetigo       Resource   \n",
       "7  CS_0008        3483  how serious is spinal stenosis  Direct Answer   \n",
       "8  CS_0009        3483       how to correct hammer toe          Guide   \n",
       "9  CS_0010        3482        ear wax removal peroxide  Direct Answer   \n",
       "\n",
       "  Authority  \n",
       "0   General  \n",
       "1    Expert  \n",
       "2    Expert  \n",
       "3   General  \n",
       "4   General  \n",
       "5    Expert  \n",
       "6   General  \n",
       "7    Expert  \n",
       "8    Expert  \n",
       "9    Expert  "
      ]
     },
     "execution_count": 7,
     "metadata": {},
     "output_type": "execute_result"
    }
   ],
   "source": [
    "data.head(10)"
   ]
  },
  {
   "cell_type": "code",
   "execution_count": 8,
   "metadata": {
    "collapsed": false
   },
   "outputs": [],
   "source": [
    "#Drop unwanted columns\n",
    "health_data = data.drop([\"CS_ID\", \"Keyword_ID\", \"Authority\"], axis=1)\n",
    "\n",
    "#Change User Intent labels to numerical values\n",
    "health_data['Intent_1'] = health_data.Intent_1.map({'Resource': 0 , 'Direct Answer': 1, 'Guide': 2, 'Navigational': 3, 'Generic': 4, 'Transactional': 5 })\n"
   ]
  },
  {
   "cell_type": "code",
   "execution_count": 9,
   "metadata": {
    "collapsed": false
   },
   "outputs": [
    {
     "name": "stdout",
     "output_type": "stream",
     "text": [
      "0                poison oak pictures\n",
      "1      best foods for hypothyroidism\n",
      "2             kidney stones in women\n",
      "3        what spider bites look like\n",
      "4     fifths disease picture of rash\n",
      "5      multi myeloma life expectancy\n",
      "6               pictures of impetigo\n",
      "7     how serious is spinal stenosis\n",
      "8          how to correct hammer toe\n",
      "9           ear wax removal peroxide\n",
      "10          side effects of diabetes\n",
      "11           pictures of foot rashes\n",
      "12       zenni optical discount code\n",
      "13                 where is pancreas\n",
      "14           what causes blood clots\n",
      "15        canker sores on the tongue\n",
      "16         what is enlarged prostate\n",
      "17      what is bursitis in the knee\n",
      "18          what is cataract surgery\n",
      "19         what is plantar fasciitis\n",
      "Name: Keyword, dtype: object\n"
     ]
    }
   ],
   "source": [
    "#Take a look at keywords\n",
    "keywords = health_data['Keyword']\n",
    "print(keywords.head(20))"
   ]
  },
  {
   "cell_type": "code",
   "execution_count": 10,
   "metadata": {
    "collapsed": false
   },
   "outputs": [
    {
     "name": "stdout",
     "output_type": "stream",
     "text": [
      "0               poison oak pictures\n",
      "1              foods hypothyroidism\n",
      "2               kidney stones women\n",
      "3            spider bites look like\n",
      "4       fifths disease picture rash\n",
      "5     multi myeloma life expectancy\n",
      "6                 pictures impetigo\n",
      "7       how serious spinal stenosis\n",
      "8         how to correct hammer toe\n",
      "9          ear wax removal peroxide\n",
      "10            side effects diabetes\n",
      "11             pictures foot rashes\n",
      "12      zenni optical discount code\n",
      "13                   where pancreas\n",
      "14               causes blood clots\n",
      "15              canker sores tongue\n",
      "16                enlarged prostate\n",
      "17                    bursitis knee\n",
      "18                 cataract surgery\n",
      "19                plantar fasciitis\n",
      "Name: Keyword, dtype: object\n"
     ]
    }
   ],
   "source": [
    "#Function to clean individual keywords\n",
    "def clean_keywords(keyword):\n",
    "    stopwords = {'a', 'about', 'above', 'after', 'again', 'against', 'aint', 'all', 'am', 'an', 'and', 'any', 'anybody', 'anyone', 'are', 'arent', 'as', 'at', 'be', 'because', 'been', 'before', 'being', 'between', 'both', 'but', 'by', 'can', 'cant', 'could', 'couldnt', 'couldve', 'd', 'didnt', 'doesnt', 'doing', 'don', 'dont', 'during', 'each', 'early', 'everybody', 'everyone', 'fact', 'few', 'for', 'from', 'further', 'gotta', 'had', 'hadnt', 'has', 'hasnt', 'have', 'havent', 'having', 'he', 'hed', 'her', 'here', 'hers', 'herself', 'hes', 'him', 'himself', 'his', 'i', 'if', 'im', 'in', 'into', 'is', 'isnt', 'it', 'itd', 'itll', 'its', 'itself', 'ive', 'lets', 'll', 'm', 'maam', 'many', 'me', 'mean', 'meaning', 'more', 'most', 'much', 'mustnt', 'mustve', 'my', 'myself', 'need', 'neednt', 'no', 'nobody', 'noone', 'nor', 'not', 'notve', 'now', 'of', 'off', 'on', 'once', 'one', 'only', 'or', 'other', 'our', 'ours', 'ourselves', 'out', 'over', 'own', 're', 's', 'same', 'shall', 'shant', 'she', 'shes', 'should', 'shouldnt', 'shouldve', 'so', 'some', 'somebody', 'someone', 'such', 't', 'than', 'that', 'thats', 'the', 'their', 'theirs', 'them', 'themselves', 'then', 'there', 'thered', 'therere', 'theres', 'these', 'they', 'theyd', 'theyll', 'theyre', 'theyve', 'this', 'those', 'through', 'too', 'us', 've', 'very', 'was', 'wasnt', 'we', 'were', 'werent', 'weve', 'what', 'whatll', 'whatre', 'whats', 'whatve', 'which', 'while', 'with', 'wont', 'would', 'wouldnt', 'wouldve', 'yet', 'you', 'youd', 'youll', 'your', 'youre', 'yours', 'yourself', 'yourselves', 'youve', 'below', 'best', 'down', 'fun', 'interesting', 'just', 'might', 'mightnt', 'mightve', 'new', 'top', 'under', 'until', 'up', 'will'}\n",
    "    tokenized_keyword = keyword.split()\n",
    "    meaningful_words = [kw for kw in tokenized_keyword if not kw in stopwords]\n",
    "    return( \" \".join( meaningful_words ))\n",
    "\n",
    "health_data['Keyword'] = keywords.apply(clean_keywords)\n",
    "print(keywords.head(20))"
   ]
  },
  {
   "cell_type": "code",
   "execution_count": 13,
   "metadata": {
    "collapsed": true
   },
   "outputs": [],
   "source": [
    "from sklearn.cross_validation import train_test_split\n",
    "X_train, X_test, y_train, y_test = train_test_split(health_data.Keyword, health_data.Intent_1, random_state=1)"
   ]
  },
  {
   "cell_type": "code",
   "execution_count": 15,
   "metadata": {
    "collapsed": false
   },
   "outputs": [
    {
     "name": "stdout",
     "output_type": "stream",
     "text": [
      "(68126,)\n",
      "48440                     good diabetes\n",
      "84236      urinary tract infection food\n",
      "34039    bladder inflammation treatment\n",
      "82000            side effects hida scan\n",
      "54315                             merca\n",
      "68830                 seizures sleeping\n",
      "19104                  spider look like\n",
      "89192                proxy form example\n",
      "79518          normal vital signs chart\n",
      "13616      cervical fusion side effects\n",
      "10312            signs viral infections\n",
      "48174            green tea side effects\n",
      "7034             gallstone symptoms men\n",
      "4390        thyroid problems older cats\n",
      "67719               eggs good diabetics\n",
      "60482     shoulder joint pain treatment\n",
      "53808               bowel movement size\n",
      "17901          pre diabetes information\n",
      "28893             vietnam ptsd symptoms\n",
      "18789                list foot problems\n",
      "Name: Keyword, dtype: object\n"
     ]
    }
   ],
   "source": [
    "print X_train.shape\n",
    "print X_train[:20]"
   ]
  },
  {
   "cell_type": "code",
   "execution_count": 16,
   "metadata": {
    "collapsed": false
   },
   "outputs": [
    {
     "ename": "TypeError",
     "evalue": "get_feature_names() takes exactly 1 argument (2 given)",
     "output_type": "error",
     "traceback": [
      "\u001b[0;31m---------------------------------------------------------------------------\u001b[0m",
      "\u001b[0;31mTypeError\u001b[0m                                 Traceback (most recent call last)",
      "\u001b[0;32m<ipython-input-16-be9083e4e905>\u001b[0m in \u001b[0;36m<module>\u001b[0;34m()\u001b[0m\n\u001b[1;32m      3\u001b[0m \u001b[0mvect\u001b[0m \u001b[0;34m=\u001b[0m \u001b[0mCountVectorizer\u001b[0m\u001b[0;34m(\u001b[0m\u001b[0mdecode_error\u001b[0m \u001b[0;34m=\u001b[0m \u001b[0;34m'ignore'\u001b[0m\u001b[0;34m)\u001b[0m\u001b[0;34m\u001b[0m\u001b[0m\n\u001b[1;32m      4\u001b[0m \u001b[0mvect\u001b[0m\u001b[0;34m.\u001b[0m\u001b[0mfit\u001b[0m\u001b[0;34m(\u001b[0m\u001b[0mX_train\u001b[0m\u001b[0;34m)\u001b[0m\u001b[0;34m\u001b[0m\u001b[0m\n\u001b[0;32m----> 5\u001b[0;31m \u001b[0mvect\u001b[0m\u001b[0;34m.\u001b[0m\u001b[0mget_feature_names\u001b[0m\u001b[0;34m(\u001b[0m\u001b[0;36m10\u001b[0m\u001b[0;34m)\u001b[0m\u001b[0;34m\u001b[0m\u001b[0m\n\u001b[0m",
      "\u001b[0;31mTypeError\u001b[0m: get_feature_names() takes exactly 1 argument (2 given)"
     ]
    }
   ],
   "source": []
  },
  {
   "cell_type": "code",
   "execution_count": null,
   "metadata": {
    "collapsed": true
   },
   "outputs": [],
   "source": []
  }
 ],
 "metadata": {
  "kernelspec": {
   "display_name": "Python 2",
   "language": "python",
   "name": "python2"
  },
  "language_info": {
   "codemirror_mode": {
    "name": "ipython",
    "version": 2
   },
   "file_extension": ".py",
   "mimetype": "text/x-python",
   "name": "python",
   "nbconvert_exporter": "python",
   "pygments_lexer": "ipython2",
   "version": "2.7.11"
  }
 },
 "nbformat": 4,
 "nbformat_minor": 0
}
