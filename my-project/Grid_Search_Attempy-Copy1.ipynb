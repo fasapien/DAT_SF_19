{
 "cells": [
  {
   "cell_type": "code",
   "execution_count": 135,
   "metadata": {
    "collapsed": false
   },
   "outputs": [],
   "source": [
    "import pandas as pd\n",
    "import numpy as np\n",
    "import re\n",
    "\n",
    "\n",
    "\n",
    "#For Naive Bayes \n",
    "from sklearn.naive_bayes import MultinomialNB\n",
    "\n",
    "from sklearn.feature_extraction.text import CountVectorizer\n",
    "from sklearn.feature_extraction.text import TfidfTransformer\n",
    "from nltk.corpus import stopwords\n",
    "from sklearn.cross_validation import train_test_split\n",
    "from sklearn.cross_validation import cross_val_score\n",
    "\n",
    "from sklearn import metrics\n",
    "data = pd.read_csv(\"healthy.txt\", header=0, \\\n",
    "                    delimiter=\"\\t\")"
   ]
  },
  {
   "cell_type": "code",
   "execution_count": 136,
   "metadata": {
    "collapsed": false
   },
   "outputs": [
    {
     "data": {
      "text/html": [
       "<div>\n",
       "<table border=\"1\" class=\"dataframe\">\n",
       "  <thead>\n",
       "    <tr style=\"text-align: right;\">\n",
       "      <th></th>\n",
       "      <th>﻿CS_ID</th>\n",
       "      <th>Keyword_ID</th>\n",
       "      <th>Keyword</th>\n",
       "      <th>Intent_1</th>\n",
       "      <th>Authority</th>\n",
       "    </tr>\n",
       "  </thead>\n",
       "  <tbody>\n",
       "    <tr>\n",
       "      <th>0</th>\n",
       "      <td>CS-0001</td>\n",
       "      <td>188195</td>\n",
       "      <td>signs of gallbladder problems</td>\n",
       "      <td>Direct Answer</td>\n",
       "      <td>Expert</td>\n",
       "    </tr>\n",
       "    <tr>\n",
       "      <th>1</th>\n",
       "      <td>CS-0002</td>\n",
       "      <td>177403</td>\n",
       "      <td>normal blood pressure chart</td>\n",
       "      <td>Resource</td>\n",
       "      <td>General</td>\n",
       "    </tr>\n",
       "    <tr>\n",
       "      <th>2</th>\n",
       "      <td>CS-0003</td>\n",
       "      <td>159458</td>\n",
       "      <td>what is normal bloodpressure</td>\n",
       "      <td>Direct Answer</td>\n",
       "      <td>General</td>\n",
       "    </tr>\n",
       "    <tr>\n",
       "      <th>3</th>\n",
       "      <td>CS-0004</td>\n",
       "      <td>152734</td>\n",
       "      <td>what is hyperlipidemia</td>\n",
       "      <td>Generic</td>\n",
       "      <td>Expert</td>\n",
       "    </tr>\n",
       "    <tr>\n",
       "      <th>4</th>\n",
       "      <td>CS-0005</td>\n",
       "      <td>139086</td>\n",
       "      <td>pill identifier</td>\n",
       "      <td>Generic</td>\n",
       "      <td>General</td>\n",
       "    </tr>\n",
       "    <tr>\n",
       "      <th>5</th>\n",
       "      <td>CS-0006</td>\n",
       "      <td>98502</td>\n",
       "      <td>blood clots in leg symptoms</td>\n",
       "      <td>Direct Answer</td>\n",
       "      <td>Expert</td>\n",
       "    </tr>\n",
       "    <tr>\n",
       "      <th>6</th>\n",
       "      <td>CS-0007</td>\n",
       "      <td>98115</td>\n",
       "      <td>blood pressure range chart</td>\n",
       "      <td>Resource</td>\n",
       "      <td>General</td>\n",
       "    </tr>\n",
       "    <tr>\n",
       "      <th>7</th>\n",
       "      <td>CS-0008</td>\n",
       "      <td>94122</td>\n",
       "      <td>ask webmd question</td>\n",
       "      <td>Navigational</td>\n",
       "      <td>General</td>\n",
       "    </tr>\n",
       "    <tr>\n",
       "      <th>8</th>\n",
       "      <td>CS-0009</td>\n",
       "      <td>90914</td>\n",
       "      <td>photos of bed bug bites</td>\n",
       "      <td>Resource</td>\n",
       "      <td>General</td>\n",
       "    </tr>\n",
       "    <tr>\n",
       "      <th>9</th>\n",
       "      <td>CS-0010</td>\n",
       "      <td>83756</td>\n",
       "      <td>lyme disease and symptoms</td>\n",
       "      <td>Direct Answer</td>\n",
       "      <td>Expert</td>\n",
       "    </tr>\n",
       "  </tbody>\n",
       "</table>\n",
       "</div>"
      ],
      "text/plain": [
       "    ﻿CS_ID  Keyword_ID                        Keyword       Intent_1 Authority\n",
       "0  CS-0001      188195  signs of gallbladder problems  Direct Answer    Expert\n",
       "1  CS-0002      177403    normal blood pressure chart       Resource   General\n",
       "2  CS-0003      159458   what is normal bloodpressure  Direct Answer   General\n",
       "3  CS-0004      152734         what is hyperlipidemia        Generic    Expert\n",
       "4  CS-0005      139086                pill identifier        Generic   General\n",
       "5  CS-0006       98502    blood clots in leg symptoms  Direct Answer    Expert\n",
       "6  CS-0007       98115     blood pressure range chart       Resource   General\n",
       "7  CS-0008       94122             ask webmd question   Navigational   General\n",
       "8  CS-0009       90914        photos of bed bug bites       Resource   General\n",
       "9  CS-0010       83756      lyme disease and symptoms  Direct Answer    Expert"
      ]
     },
     "execution_count": 136,
     "metadata": {},
     "output_type": "execute_result"
    }
   ],
   "source": [
    "data.head(10)"
   ]
  },
  {
   "cell_type": "code",
   "execution_count": 137,
   "metadata": {
    "collapsed": false
   },
   "outputs": [
    {
     "data": {
      "text/plain": [
       "Generic          43151\n",
       "Direct Answer    37765\n",
       "Guide             9138\n",
       "Resource          7293\n",
       "Transactional     1238\n",
       "Navigational      1196\n",
       "Name: Intent_1, dtype: int64"
      ]
     },
     "execution_count": 137,
     "metadata": {},
     "output_type": "execute_result"
    }
   ],
   "source": [
    "data.Intent_1.value_counts()"
   ]
  },
  {
   "cell_type": "code",
   "execution_count": 138,
   "metadata": {
    "collapsed": false
   },
   "outputs": [
    {
     "data": {
      "text/plain": [
       "count                   99997\n",
       "unique                  98242\n",
       "top       seanol side effects\n",
       "freq                        2\n",
       "Name: Keyword, dtype: object"
      ]
     },
     "execution_count": 138,
     "metadata": {},
     "output_type": "execute_result"
    }
   ],
   "source": [
    "data.Keyword.describe()"
   ]
  },
  {
   "cell_type": "code",
   "execution_count": 139,
   "metadata": {
    "collapsed": false
   },
   "outputs": [
    {
     "data": {
      "text/html": [
       "<div>\n",
       "<table border=\"1\" class=\"dataframe\">\n",
       "  <thead>\n",
       "    <tr style=\"text-align: right;\">\n",
       "      <th></th>\n",
       "      <th>﻿CS_ID</th>\n",
       "      <th>Keyword_ID</th>\n",
       "      <th>Keyword</th>\n",
       "      <th>Intent_1</th>\n",
       "      <th>Authority</th>\n",
       "    </tr>\n",
       "  </thead>\n",
       "  <tbody>\n",
       "    <tr>\n",
       "      <th>0</th>\n",
       "      <td>CS-0001</td>\n",
       "      <td>188195</td>\n",
       "      <td>signs of gallbladder problems</td>\n",
       "      <td>1</td>\n",
       "      <td>Expert</td>\n",
       "    </tr>\n",
       "    <tr>\n",
       "      <th>1</th>\n",
       "      <td>CS-0002</td>\n",
       "      <td>177403</td>\n",
       "      <td>normal blood pressure chart</td>\n",
       "      <td>4</td>\n",
       "      <td>General</td>\n",
       "    </tr>\n",
       "    <tr>\n",
       "      <th>2</th>\n",
       "      <td>CS-0003</td>\n",
       "      <td>159458</td>\n",
       "      <td>what is normal bloodpressure</td>\n",
       "      <td>1</td>\n",
       "      <td>General</td>\n",
       "    </tr>\n",
       "    <tr>\n",
       "      <th>3</th>\n",
       "      <td>CS-0004</td>\n",
       "      <td>152734</td>\n",
       "      <td>what is hyperlipidemia</td>\n",
       "      <td>0</td>\n",
       "      <td>Expert</td>\n",
       "    </tr>\n",
       "    <tr>\n",
       "      <th>4</th>\n",
       "      <td>CS-0005</td>\n",
       "      <td>139086</td>\n",
       "      <td>pill identifier</td>\n",
       "      <td>0</td>\n",
       "      <td>General</td>\n",
       "    </tr>\n",
       "    <tr>\n",
       "      <th>5</th>\n",
       "      <td>CS-0006</td>\n",
       "      <td>98502</td>\n",
       "      <td>blood clots in leg symptoms</td>\n",
       "      <td>1</td>\n",
       "      <td>Expert</td>\n",
       "    </tr>\n",
       "    <tr>\n",
       "      <th>6</th>\n",
       "      <td>CS-0007</td>\n",
       "      <td>98115</td>\n",
       "      <td>blood pressure range chart</td>\n",
       "      <td>4</td>\n",
       "      <td>General</td>\n",
       "    </tr>\n",
       "    <tr>\n",
       "      <th>7</th>\n",
       "      <td>CS-0008</td>\n",
       "      <td>94122</td>\n",
       "      <td>ask webmd question</td>\n",
       "      <td>3</td>\n",
       "      <td>General</td>\n",
       "    </tr>\n",
       "    <tr>\n",
       "      <th>8</th>\n",
       "      <td>CS-0009</td>\n",
       "      <td>90914</td>\n",
       "      <td>photos of bed bug bites</td>\n",
       "      <td>4</td>\n",
       "      <td>General</td>\n",
       "    </tr>\n",
       "    <tr>\n",
       "      <th>9</th>\n",
       "      <td>CS-0010</td>\n",
       "      <td>83756</td>\n",
       "      <td>lyme disease and symptoms</td>\n",
       "      <td>1</td>\n",
       "      <td>Expert</td>\n",
       "    </tr>\n",
       "  </tbody>\n",
       "</table>\n",
       "</div>"
      ],
      "text/plain": [
       "    ﻿CS_ID  Keyword_ID                        Keyword  Intent_1 Authority\n",
       "0  CS-0001      188195  signs of gallbladder problems         1    Expert\n",
       "1  CS-0002      177403    normal blood pressure chart         4   General\n",
       "2  CS-0003      159458   what is normal bloodpressure         1   General\n",
       "3  CS-0004      152734         what is hyperlipidemia         0    Expert\n",
       "4  CS-0005      139086                pill identifier         0   General\n",
       "5  CS-0006       98502    blood clots in leg symptoms         1    Expert\n",
       "6  CS-0007       98115     blood pressure range chart         4   General\n",
       "7  CS-0008       94122             ask webmd question         3   General\n",
       "8  CS-0009       90914        photos of bed bug bites         4   General\n",
       "9  CS-0010       83756      lyme disease and symptoms         1    Expert"
      ]
     },
     "execution_count": 139,
     "metadata": {},
     "output_type": "execute_result"
    }
   ],
   "source": [
    "#Change User Intent labels to numerical values\n",
    "data['Intent_1'] = data.Intent_1.map({'Generic': 0 , 'Direct Answer': 1, 'Guide': 2, 'Navigational': 3, 'Resource': 4, 'Transactional': 5 })\n",
    "data.head(10)"
   ]
  },
  {
   "cell_type": "code",
   "execution_count": 133,
   "metadata": {
    "collapsed": false
   },
   "outputs": [
    {
     "data": {
      "text/html": [
       "<div>\n",
       "<table border=\"1\" class=\"dataframe\">\n",
       "  <thead>\n",
       "    <tr style=\"text-align: right;\">\n",
       "      <th></th>\n",
       "      <th>﻿CS_ID</th>\n",
       "      <th>Keyword_ID</th>\n",
       "      <th>Keyword</th>\n",
       "      <th>Intent_1</th>\n",
       "      <th>duplicates</th>\n",
       "    </tr>\n",
       "  </thead>\n",
       "  <tbody>\n",
       "    <tr>\n",
       "      <th>0</th>\n",
       "      <td>CS-0001</td>\n",
       "      <td>188195</td>\n",
       "      <td>signs of gallbladder problems</td>\n",
       "      <td>NaN</td>\n",
       "      <td>False</td>\n",
       "    </tr>\n",
       "    <tr>\n",
       "      <th>1</th>\n",
       "      <td>CS-0002</td>\n",
       "      <td>177403</td>\n",
       "      <td>normal blood pressure chart</td>\n",
       "      <td>NaN</td>\n",
       "      <td>False</td>\n",
       "    </tr>\n",
       "    <tr>\n",
       "      <th>2</th>\n",
       "      <td>CS-0003</td>\n",
       "      <td>159458</td>\n",
       "      <td>what is normal bloodpressure</td>\n",
       "      <td>NaN</td>\n",
       "      <td>False</td>\n",
       "    </tr>\n",
       "    <tr>\n",
       "      <th>3</th>\n",
       "      <td>CS-0004</td>\n",
       "      <td>152734</td>\n",
       "      <td>what is hyperlipidemia</td>\n",
       "      <td>NaN</td>\n",
       "      <td>False</td>\n",
       "    </tr>\n",
       "    <tr>\n",
       "      <th>4</th>\n",
       "      <td>CS-0005</td>\n",
       "      <td>139086</td>\n",
       "      <td>pill identifier</td>\n",
       "      <td>NaN</td>\n",
       "      <td>False</td>\n",
       "    </tr>\n",
       "    <tr>\n",
       "      <th>5</th>\n",
       "      <td>CS-0006</td>\n",
       "      <td>98502</td>\n",
       "      <td>blood clots in leg symptoms</td>\n",
       "      <td>NaN</td>\n",
       "      <td>False</td>\n",
       "    </tr>\n",
       "    <tr>\n",
       "      <th>6</th>\n",
       "      <td>CS-0007</td>\n",
       "      <td>98115</td>\n",
       "      <td>blood pressure range chart</td>\n",
       "      <td>NaN</td>\n",
       "      <td>False</td>\n",
       "    </tr>\n",
       "    <tr>\n",
       "      <th>7</th>\n",
       "      <td>CS-0008</td>\n",
       "      <td>94122</td>\n",
       "      <td>ask webmd question</td>\n",
       "      <td>NaN</td>\n",
       "      <td>False</td>\n",
       "    </tr>\n",
       "    <tr>\n",
       "      <th>8</th>\n",
       "      <td>CS-0009</td>\n",
       "      <td>90914</td>\n",
       "      <td>photos of bed bug bites</td>\n",
       "      <td>NaN</td>\n",
       "      <td>False</td>\n",
       "    </tr>\n",
       "    <tr>\n",
       "      <th>9</th>\n",
       "      <td>CS-0010</td>\n",
       "      <td>83756</td>\n",
       "      <td>lyme disease and symptoms</td>\n",
       "      <td>NaN</td>\n",
       "      <td>False</td>\n",
       "    </tr>\n",
       "    <tr>\n",
       "      <th>10</th>\n",
       "      <td>CS-0011</td>\n",
       "      <td>83343</td>\n",
       "      <td>mayo clinic symptoms</td>\n",
       "      <td>NaN</td>\n",
       "      <td>False</td>\n",
       "    </tr>\n",
       "    <tr>\n",
       "      <th>11</th>\n",
       "      <td>CS-0012</td>\n",
       "      <td>81829</td>\n",
       "      <td>blood pressure age chart</td>\n",
       "      <td>NaN</td>\n",
       "      <td>False</td>\n",
       "    </tr>\n",
       "    <tr>\n",
       "      <th>12</th>\n",
       "      <td>CS-0013</td>\n",
       "      <td>79480</td>\n",
       "      <td>what is gluten</td>\n",
       "      <td>NaN</td>\n",
       "      <td>False</td>\n",
       "    </tr>\n",
       "    <tr>\n",
       "      <th>13</th>\n",
       "      <td>CS-0014</td>\n",
       "      <td>75248</td>\n",
       "      <td>when is shingles contagious</td>\n",
       "      <td>NaN</td>\n",
       "      <td>False</td>\n",
       "    </tr>\n",
       "    <tr>\n",
       "      <th>14</th>\n",
       "      <td>CS-0015</td>\n",
       "      <td>74395</td>\n",
       "      <td>photos of skin rashes</td>\n",
       "      <td>NaN</td>\n",
       "      <td>False</td>\n",
       "    </tr>\n",
       "    <tr>\n",
       "      <th>15</th>\n",
       "      <td>CS-0016</td>\n",
       "      <td>73280</td>\n",
       "      <td>shingles vaccine side effects</td>\n",
       "      <td>NaN</td>\n",
       "      <td>False</td>\n",
       "    </tr>\n",
       "    <tr>\n",
       "      <th>16</th>\n",
       "      <td>CS-0017</td>\n",
       "      <td>72113</td>\n",
       "      <td>health benefits of chia seeds</td>\n",
       "      <td>NaN</td>\n",
       "      <td>False</td>\n",
       "    </tr>\n",
       "    <tr>\n",
       "      <th>17</th>\n",
       "      <td>CS-0018</td>\n",
       "      <td>72085</td>\n",
       "      <td>express scripts refills</td>\n",
       "      <td>NaN</td>\n",
       "      <td>False</td>\n",
       "    </tr>\n",
       "    <tr>\n",
       "      <th>18</th>\n",
       "      <td>CS-0019</td>\n",
       "      <td>71345</td>\n",
       "      <td>10 signs of heart attack</td>\n",
       "      <td>NaN</td>\n",
       "      <td>False</td>\n",
       "    </tr>\n",
       "    <tr>\n",
       "      <th>19</th>\n",
       "      <td>CS-0020</td>\n",
       "      <td>70433</td>\n",
       "      <td>web medical information</td>\n",
       "      <td>NaN</td>\n",
       "      <td>False</td>\n",
       "    </tr>\n",
       "  </tbody>\n",
       "</table>\n",
       "</div>"
      ],
      "text/plain": [
       "     ﻿CS_ID  Keyword_ID                        Keyword  Intent_1 duplicates\n",
       "0   CS-0001      188195  signs of gallbladder problems       NaN      False\n",
       "1   CS-0002      177403    normal blood pressure chart       NaN      False\n",
       "2   CS-0003      159458   what is normal bloodpressure       NaN      False\n",
       "3   CS-0004      152734         what is hyperlipidemia       NaN      False\n",
       "4   CS-0005      139086                pill identifier       NaN      False\n",
       "5   CS-0006       98502    blood clots in leg symptoms       NaN      False\n",
       "6   CS-0007       98115     blood pressure range chart       NaN      False\n",
       "7   CS-0008       94122             ask webmd question       NaN      False\n",
       "8   CS-0009       90914        photos of bed bug bites       NaN      False\n",
       "9   CS-0010       83756      lyme disease and symptoms       NaN      False\n",
       "10  CS-0011       83343           mayo clinic symptoms       NaN      False\n",
       "11  CS-0012       81829       blood pressure age chart       NaN      False\n",
       "12  CS-0013       79480                 what is gluten       NaN      False\n",
       "13  CS-0014       75248    when is shingles contagious       NaN      False\n",
       "14  CS-0015       74395          photos of skin rashes       NaN      False\n",
       "15  CS-0016       73280  shingles vaccine side effects       NaN      False\n",
       "16  CS-0017       72113  health benefits of chia seeds       NaN      False\n",
       "17  CS-0018       72085        express scripts refills       NaN      False\n",
       "18  CS-0019       71345       10 signs of heart attack       NaN      False\n",
       "19  CS-0020       70433        web medical information       NaN      False"
      ]
     },
     "execution_count": 133,
     "metadata": {},
     "output_type": "execute_result"
    }
   ],
   "source": []
  },
  {
   "cell_type": "code",
   "execution_count": 66,
   "metadata": {
    "collapsed": false
   },
   "outputs": [],
   "source": [
    "healthy = health_data.drop_duplicates('Keyword')\n",
    "keywords = healthy['Keyword']"
   ]
  },
  {
   "cell_type": "code",
   "execution_count": 67,
   "metadata": {
    "collapsed": false
   },
   "outputs": [
    {
     "name": "stdout",
     "output_type": "stream",
     "text": [
      "<class 'pandas.core.frame.DataFrame'>\n",
      "Int64Index: 98242 entries, 0 to 99996\n",
      "Data columns (total 2 columns):\n",
      "Keyword     98242 non-null object\n",
      "Intent_1    0 non-null float64\n",
      "dtypes: float64(1), object(1)\n",
      "memory usage: 2.2+ MB\n"
     ]
    },
    {
     "data": {
      "text/plain": [
       "Series([], Name: Intent_1, dtype: int64)"
      ]
     },
     "execution_count": 67,
     "metadata": {},
     "output_type": "execute_result"
    }
   ],
   "source": [
    "healthy.info()\n",
    "healthy.Intent_1.value_counts()"
   ]
  },
  {
   "cell_type": "code",
   "execution_count": 15,
   "metadata": {
    "collapsed": false
   },
   "outputs": [
    {
     "name": "stdout",
     "output_type": "stream",
     "text": [
      "<class 'pandas.core.frame.DataFrame'>\n",
      "Int64Index: 79665 entries, 0 to 99996\n",
      "Data columns (total 4 columns):\n",
      "﻿CS_ID       79665 non-null object\n",
      "Keyword      79665 non-null object\n",
      "Intent_1     79665 non-null float64\n",
      "Authority    79495 non-null object\n",
      "dtypes: float64(1), object(3)\n",
      "memory usage: 3.0+ MB\n"
     ]
    },
    {
     "data": {
      "text/plain": [
       "0    42947\n",
       "1    36718\n",
       "Name: Intent_1, dtype: int64"
      ]
     },
     "execution_count": 15,
     "metadata": {},
     "output_type": "execute_result"
    }
   ],
   "source": [
    "da_gen_frame = healthy[healthy['Intent_1']<2].copy()\n",
    "kws = da_gen_frame['Keyword']\n",
    "\n",
    "da_gen_frame.info()\n",
    "da_gen_frame.Intent_1.value_counts()"
   ]
  },
  {
   "cell_type": "markdown",
   "metadata": {},
   "source": [
    "#Function to clean individual keywords\n",
    "def clean_keywords(keyword):\n",
    "    stopwords = {'a', 'about', 'above', 'after', 'again', 'against', 'aint', 'all', 'am', 'an', 'and', 'any', 'anybody', 'anyone', 'are', 'arent', 'as', 'at', 'be', 'because', 'been', 'before', 'being', 'between', 'both', 'but', 'by', 'can', 'cant', 'could', 'couldnt', 'couldve', 'd', 'didnt', 'doesnt', 'doing', 'don', 'dont', 'during', 'each', 'early', 'everybody', 'everyone', 'fact', 'few', 'for', 'from', 'further', 'gotta', 'had', 'hadnt', 'has', 'hasnt', 'have', 'havent', 'having', 'he', 'hed', 'her', 'here', 'hers', 'herself', 'hes', 'him', 'himself', 'his', 'i', 'if', 'im', 'in', 'into', 'is', 'isnt', 'it', 'itd', 'itll', 'its', 'itself', 'ive', 'lets', 'll', 'm', 'maam', 'many', 'me', 'mean', 'meaning', 'more', 'most', 'much', 'mustnt', 'mustve', 'my', 'myself', 'need', 'neednt', 'no', 'nobody', 'noone', 'nor', 'not', 'notve', 'now', 'of', 'off', 'on', 'once', 'one', 'only', 'or', 'other', 'our', 'ours', 'ourselves', 'out', 'over', 'own', 're', 's', 'same', 'shall', 'shant', 'she', 'shes', 'should', 'shouldnt', 'shouldve', 'so', 'some', 'somebody', 'someone', 'such', 't', 'than', 'that', 'thats', 'the', 'their', 'theirs', 'them', 'themselves', 'then', 'there', 'thered', 'therere', 'theres', 'these', 'they', 'theyd', 'theyll', 'theyre', 'theyve', 'this', 'those', 'through', 'too', 'us', 've', 'very', 'was', 'wasnt', 'we', 'were', 'werent', 'weve', 'what', 'whatll', 'whatre', 'whats', 'whatve', 'which', 'while', 'with', 'wont', 'would', 'wouldnt', 'wouldve', 'yet', 'you', 'youd', 'youll', 'your', 'youre', 'yours', 'yourself', 'yourselves', 'youve', 'below', 'best', 'down', 'fun', 'interesting', 'just', 'might', 'mightnt', 'mightve', 'new', 'top', 'under', 'until', 'up', 'will'}\n",
    "    tokenized_keyword = keyword.split()\n",
    "    meaningful_words = [kw for kw in tokenized_keyword if not kw in stopwords]\n",
    "    return( \" \".join( meaningful_words ))\n",
    "\n",
    "da_gen_frame['Keyword'] = kws.apply(clean_keywords)\n",
    "da_gen_frame['Keyword'].head(20)"
   ]
  },
  {
   "cell_type": "code",
   "execution_count": 39,
   "metadata": {
    "collapsed": false
   },
   "outputs": [
    {
     "name": "stdout",
     "output_type": "stream",
     "text": [
      "(32869,) (32869,) (10957,) (10957,)\n"
     ]
    }
   ],
   "source": [
    "from sklearn.cross_validation import train_test_split\n",
    "X_train, X_test, y_train, y_test = train_test_split(da_gen_frame.Keyword, da_gen_frame.Intent_1, random_state=1)\n",
    "print X_train.shape, y_train.shape, X_test.shape, y_test.shape"
   ]
  },
  {
   "cell_type": "code",
   "execution_count": 40,
   "metadata": {
    "collapsed": false
   },
   "outputs": [],
   "source": [
    "#TFIDF vectorize and count\n",
    "from sklearn.feature_extraction.text import TfidfVectorizer\n",
    "tfidf_vectorizer = TfidfVectorizer(use_idf=True)\n",
    "\n",
    "train_dtm = tfidf_vectorizer.fit_transform(X_train) #fit the vectorizer to keywords\n",
    "train_features = tfidf_vectorizer.get_feature_names() #list of features/vocab used in tf-idf matrix\n",
    "train_array = train_dtm.toarray() #turn the matrix into an array\n",
    "\n",
    "test_dtm = tfidf_vectorizer.transform(X_test)\n",
    "test_array = test_dtm.toarray()\n",
    "#kws_token_counts = pd.DataFrame({'token':X_train_features, 'count':np.sum(X_train_array, axis=0)}) #create a dataframe with token\n",
    "#kws_token_counts.sort_values(by='count', ascending=False)\n"
   ]
  },
  {
   "cell_type": "code",
   "execution_count": 41,
   "metadata": {
    "collapsed": false
   },
   "outputs": [
    {
     "data": {
      "text/plain": [
       "MultinomialNB(alpha=1.0, class_prior=None, fit_prior=True)"
      ]
     },
     "execution_count": 41,
     "metadata": {},
     "output_type": "execute_result"
    }
   ],
   "source": [
    "#Multinomial Naive Bayes\n",
    "from sklearn.naive_bayes import MultinomialNB\n",
    "nb = MultinomialNB()\n",
    "nb.fit(train_dtm, y_train)"
   ]
  },
  {
   "cell_type": "code",
   "execution_count": 42,
   "metadata": {
    "collapsed": false
   },
   "outputs": [
    {
     "data": {
      "text/plain": [
       "array([1, 0, 0, ..., 1, 1, 0])"
      ]
     },
     "execution_count": 42,
     "metadata": {},
     "output_type": "execute_result"
    }
   ],
   "source": [
    "# make predictions on test data using test_dtm\n",
    "preds = nb.predict(test_dtm)\n",
    "preds"
   ]
  },
  {
   "cell_type": "code",
   "execution_count": 43,
   "metadata": {
    "collapsed": false
   },
   "outputs": [
    {
     "name": "stdout",
     "output_type": "stream",
     "text": [
      "0.778406498129\n",
      "[[4108 1367]\n",
      " [1061 4421]]\n"
     ]
    }
   ],
   "source": [
    "# compare predictions to true labels\n",
    "from sklearn import metrics\n",
    "\n",
    "print metrics.accuracy_score(y_test, preds)\n",
    "print metrics.confusion_matrix(y_test, preds)\n"
   ]
  },
  {
   "cell_type": "code",
   "execution_count": 56,
   "metadata": {
    "collapsed": false
   },
   "outputs": [
    {
     "data": {
      "text/html": [
       "<div>\n",
       "<table border=\"1\" class=\"dataframe\">\n",
       "  <thead>\n",
       "    <tr style=\"text-align: right;\">\n",
       "      <th></th>\n",
       "      <th>Actual Generic</th>\n",
       "      <th>Actual Direct Answer</th>\n",
       "    </tr>\n",
       "  </thead>\n",
       "  <tbody>\n",
       "    <tr>\n",
       "      <th>Predicted Generic</th>\n",
       "      <td>4108</td>\n",
       "      <td>1367</td>\n",
       "    </tr>\n",
       "    <tr>\n",
       "      <th>Predicted Direct Answer</th>\n",
       "      <td>1061</td>\n",
       "      <td>4421</td>\n",
       "    </tr>\n",
       "  </tbody>\n",
       "</table>\n",
       "</div>"
      ],
      "text/plain": [
       "                         Actual Generic  Actual Direct Answer\n",
       "Predicted Generic                  4108                  1367\n",
       "Predicted Direct Answer            1061                  4421"
      ]
     },
     "execution_count": 56,
     "metadata": {},
     "output_type": "execute_result"
    }
   ],
   "source": [
    "cm = metrics.confusion_matrix(y_test,preds)\n",
    "cm_df = pd.DataFrame(cm, index=['Predicted Generic', 'Predicted Direct Answer'], \n",
    "                     columns=['Actual Generic', 'Actual Direct Answer'])\n",
    "\n",
    "cm_df"
   ]
  },
  {
   "cell_type": "code",
   "execution_count": 94,
   "metadata": {
    "collapsed": false
   },
   "outputs": [
    {
     "name": "stdout",
     "output_type": "stream",
     "text": [
      "0.778406498129\n",
      "[[4108 1367]\n",
      " [1061 4421]]\n"
     ]
    }
   ],
   "source": [
    "from sklearn.pipeline import Pipeline\n",
    "text_clf = Pipeline([('vect', CountVectorizer()), ('tfidf', TfidfTransformer()), ('clf', MultinomialNB())])\n",
    "\n",
    "text_clf = text_clf.fit(X_train, y_train)\n",
    "predictions = text_clf.predict(X_test)\n",
    "\n",
    "print metrics.accuracy_score(y_test, predictions)\n",
    "print metrics.confusion_matrix(y_test, predictions)"
   ]
  },
  {
   "cell_type": "code",
   "execution_count": 98,
   "metadata": {
    "collapsed": false
   },
   "outputs": [
    {
     "name": "stdout",
     "output_type": "stream",
     "text": [
      "0.838185634754\n",
      "[[4955  520]\n",
      " [1253 4229]]\n"
     ]
    }
   ],
   "source": [
    "#SGDClassifier\n",
    "from sklearn.linear_model import SGDClassifier\n",
    "text_clf = Pipeline([('vect', CountVectorizer()),('tfidf', TfidfTransformer()),('clf', SGDClassifier(loss='hinge', penalty='l2', n_iter=5, random_state=42)), ])\n",
    "\n",
    "\n",
    "from sklearn.linear_model import SGDClassifier\n",
    "\n",
    "\n",
    "text_clf = text_clf.fit(X_train, y_train)\n",
    "predictions = text_clf.predict(X_test)\n",
    "\n",
    "print metrics.accuracy_score(y_test, predictions)\n",
    "print metrics.confusion_matrix(y_test, predictions)"
   ]
  },
  {
   "cell_type": "code",
   "execution_count": 100,
   "metadata": {
    "collapsed": false
   },
   "outputs": [
    {
     "data": {
      "text/html": [
       "<div>\n",
       "<table border=\"1\" class=\"dataframe\">\n",
       "  <thead>\n",
       "    <tr style=\"text-align: right;\">\n",
       "      <th></th>\n",
       "      <th>Actual Generic</th>\n",
       "      <th>Actual Direct Answer</th>\n",
       "    </tr>\n",
       "  </thead>\n",
       "  <tbody>\n",
       "    <tr>\n",
       "      <th>Predicted Generic</th>\n",
       "      <td>4108</td>\n",
       "      <td>1367</td>\n",
       "    </tr>\n",
       "    <tr>\n",
       "      <th>Predicted Direct Answer</th>\n",
       "      <td>1061</td>\n",
       "      <td>4421</td>\n",
       "    </tr>\n",
       "  </tbody>\n",
       "</table>\n",
       "</div>"
      ],
      "text/plain": [
       "                         Actual Generic  Actual Direct Answer\n",
       "Predicted Generic                  4108                  1367\n",
       "Predicted Direct Answer            1061                  4421"
      ]
     },
     "execution_count": 100,
     "metadata": {},
     "output_type": "execute_result"
    }
   ],
   "source": [
    "cm = metrics.confusion_matrix(y_test,preds)\n",
    "cm_df = pd.DataFrame(cm, index=['Predicted Generic', 'Predicted Direct Answer'], \n",
    "                     columns=['Actual Generic', 'Actual Direct Answer'])\n",
    "\n",
    "cm_df"
   ]
  },
  {
   "cell_type": "code",
   "execution_count": 99,
   "metadata": {
    "collapsed": false
   },
   "outputs": [
    {
     "data": {
      "text/plain": [
       "5720       what is a normal cholesterol\n",
       "38955         bilirubin levels in women\n",
       "19083              what is a normal inr\n",
       "35329        swelling in one ankle only\n",
       "5934           normal troponin 1 levels\n",
       "15314                what is a erythema\n",
       "16819         health care questionnaire\n",
       "23948             breast cancer article\n",
       "12561         diet after hernia surgery\n",
       "13513          what is hansen's disease\n",
       "7207                what is glutathione\n",
       "39879               pacemaker questions\n",
       "11979      stomach bloating weight gain\n",
       "16096         low white blood platelets\n",
       "10850         rite aid shingles vaccine\n",
       "13178            leg pain heart disease\n",
       "18330          municipal code violation\n",
       "13903                 what is pollution\n",
       "36789    back pain and kidney infection\n",
       "24087             lung and liver cancer\n",
       "23962         shoulder bursitis therapy\n",
       "11491     prediabetic blood sugar level\n",
       "5431            psa test results by age\n",
       "6062       stage 4 bone cancer survival\n",
       "12372            swollen parotid glands\n",
       "8388                urine color meaning\n",
       "8715          prolozone therapy doctors\n",
       "18903        best hospital for melanoma\n",
       "25734            high levels in kidneys\n",
       "22111        what side is the kidney on\n",
       "                      ...              \n",
       "11929         test for clogged arteries\n",
       "7941          cardiac and diabetic diet\n",
       "36659          bowel movement frequency\n",
       "11301    what the normal blood pressure\n",
       "13449             lower leg muscle pain\n",
       "27509                  blood cell count\n",
       "12952          bowel resection recovery\n",
       "8488          defiant disorder symptoms\n",
       "13925      is parkinson disease genetic\n",
       "35451         what is fever temperature\n",
       "9780          cognitive impairment test\n",
       "15887             ccs diabetes supplies\n",
       "12707                   mucus in throat\n",
       "37446             who needs a pacemaker\n",
       "15347        dixie elixirs stock symbol\n",
       "34289                        drum facts\n",
       "15587       top pain management doctors\n",
       "27437           life vest heart patient\n",
       "26154                top spine surgeons\n",
       "7926               where is the bladder\n",
       "16789     hipaa compliant authorization\n",
       "9271             adult bilirubin levels\n",
       "12814            what is chronic anemia\n",
       "5317              nephrology definition\n",
       "9601                   blood test codes\n",
       "29562                    stent in heart\n",
       "32066     burning sensation in shoulder\n",
       "10563                     pet scan diet\n",
       "13126        pain after microdiscectomy\n",
       "5161        what are catheters used for\n",
       "Name: Keyword, dtype: object"
      ]
     },
     "execution_count": 99,
     "metadata": {},
     "output_type": "execute_result"
    }
   ],
   "source": [
    "X_test[(y_test == 1) & (preds == 0)]"
   ]
  },
  {
   "cell_type": "code",
   "execution_count": 45,
   "metadata": {
    "collapsed": false
   },
   "outputs": [],
   "source": [
    "# Output false negatives/positives to file? X_test[(y_test == 0) & (preds == 1)]"
   ]
  },
  {
   "cell_type": "code",
   "execution_count": 88,
   "metadata": {
    "collapsed": false
   },
   "outputs": [
    {
     "name": "stdout",
     "output_type": "stream",
     "text": [
      "clf__alpha: 0.01\n",
      "tfidf__use_idf: True\n",
      "vect__ngram_range: (1, 1)\n"
     ]
    }
   ],
   "source": [
    "#SGDClassifier Gridsearch\n",
    "from sklearn.grid_search import GridSearchCV\n",
    "parameters = {'vect__ngram_range': [(1, 1), (1, 2), (1,3)],'tfidf__use_idf': (True, False),'clf__alpha': (1e-2, 1e-3),}\n",
    "\n",
    "gs_clf = GridSearchCV(text_clf, parameters, n_jobs=-1)\n",
    "\n",
    "gs_clf = gs_clf.fit(X_train[:400], y_train[:400])\n",
    "\n",
    "best_parameters, score, _ = max(gs_clf.grid_scores_, key=lambda x: x[1])\n",
    "for param_name in sorted(parameters.keys()):\n",
    "    print(\"%s: %r\" % (param_name, best_parameters[param_name]))"
   ]
  },
  {
   "cell_type": "code",
   "execution_count": null,
   "metadata": {
    "collapsed": true
   },
   "outputs": [],
   "source": []
  }
 ],
 "metadata": {
  "kernelspec": {
   "display_name": "Python 2",
   "language": "python",
   "name": "python2"
  },
  "language_info": {
   "codemirror_mode": {
    "name": "ipython",
    "version": 2
   },
   "file_extension": ".py",
   "mimetype": "text/x-python",
   "name": "python",
   "nbconvert_exporter": "python",
   "pygments_lexer": "ipython2",
   "version": "2.7.11"
  }
 },
 "nbformat": 4,
 "nbformat_minor": 0
}
