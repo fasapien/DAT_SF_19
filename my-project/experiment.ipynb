{
 "cells": [
  {
   "cell_type": "code",
   "execution_count": 1,
   "metadata": {
    "collapsed": true
   },
   "outputs": [],
   "source": [
    "import pandas as pd       \n",
    "health_data = pd.read_csv(\"health_data.tsv\", header=0, \\\n",
    "                    delimiter=\"\\t\")"
   ]
  },
  {
   "cell_type": "code",
   "execution_count": 2,
   "metadata": {
    "collapsed": false
   },
   "outputs": [
    {
     "data": {
      "text/html": [
       "<div>\n",
       "<table border=\"1\" class=\"dataframe\">\n",
       "  <thead>\n",
       "    <tr style=\"text-align: right;\">\n",
       "      <th></th>\n",
       "      <th>CS_ID</th>\n",
       "      <th>Keyword_ID</th>\n",
       "      <th>Keyword</th>\n",
       "      <th>Intent_1</th>\n",
       "      <th>Intent_2</th>\n",
       "      <th>Authority</th>\n",
       "    </tr>\n",
       "  </thead>\n",
       "  <tbody>\n",
       "    <tr>\n",
       "      <th>0</th>\n",
       "      <td>CS_0001</td>\n",
       "      <td>3486</td>\n",
       "      <td>poison oak pictures</td>\n",
       "      <td>Resource</td>\n",
       "      <td>NaN</td>\n",
       "      <td>General</td>\n",
       "    </tr>\n",
       "    <tr>\n",
       "      <th>1</th>\n",
       "      <td>CS_0002</td>\n",
       "      <td>3486</td>\n",
       "      <td>best foods for hypothyroidism</td>\n",
       "      <td>Direct Answer</td>\n",
       "      <td>NaN</td>\n",
       "      <td>Expert</td>\n",
       "    </tr>\n",
       "    <tr>\n",
       "      <th>2</th>\n",
       "      <td>CS_0003</td>\n",
       "      <td>3486</td>\n",
       "      <td>kidney stones in women</td>\n",
       "      <td>Generic</td>\n",
       "      <td>NaN</td>\n",
       "      <td>Expert</td>\n",
       "    </tr>\n",
       "    <tr>\n",
       "      <th>3</th>\n",
       "      <td>CS_0004</td>\n",
       "      <td>3484</td>\n",
       "      <td>what spider bites look like</td>\n",
       "      <td>Resource</td>\n",
       "      <td>NaN</td>\n",
       "      <td>General</td>\n",
       "    </tr>\n",
       "    <tr>\n",
       "      <th>4</th>\n",
       "      <td>CS_0005</td>\n",
       "      <td>3484</td>\n",
       "      <td>fifths disease picture of rash</td>\n",
       "      <td>Resource</td>\n",
       "      <td>NaN</td>\n",
       "      <td>General</td>\n",
       "    </tr>\n",
       "    <tr>\n",
       "      <th>5</th>\n",
       "      <td>CS_0006</td>\n",
       "      <td>3484</td>\n",
       "      <td>multi myeloma life expectancy</td>\n",
       "      <td>Direct Answer</td>\n",
       "      <td>NaN</td>\n",
       "      <td>Expert</td>\n",
       "    </tr>\n",
       "    <tr>\n",
       "      <th>6</th>\n",
       "      <td>CS_0007</td>\n",
       "      <td>3483</td>\n",
       "      <td>pictures of impetigo</td>\n",
       "      <td>Resource</td>\n",
       "      <td>NaN</td>\n",
       "      <td>General</td>\n",
       "    </tr>\n",
       "    <tr>\n",
       "      <th>7</th>\n",
       "      <td>CS_0008</td>\n",
       "      <td>3483</td>\n",
       "      <td>how serious is spinal stenosis</td>\n",
       "      <td>Direct Answer</td>\n",
       "      <td>NaN</td>\n",
       "      <td>Expert</td>\n",
       "    </tr>\n",
       "    <tr>\n",
       "      <th>8</th>\n",
       "      <td>CS_0009</td>\n",
       "      <td>3483</td>\n",
       "      <td>how to correct hammer toe</td>\n",
       "      <td>Guide</td>\n",
       "      <td>NaN</td>\n",
       "      <td>Expert</td>\n",
       "    </tr>\n",
       "    <tr>\n",
       "      <th>9</th>\n",
       "      <td>CS_0010</td>\n",
       "      <td>3482</td>\n",
       "      <td>ear wax removal peroxide</td>\n",
       "      <td>Direct Answer</td>\n",
       "      <td>NaN</td>\n",
       "      <td>Expert</td>\n",
       "    </tr>\n",
       "  </tbody>\n",
       "</table>\n",
       "</div>"
      ],
      "text/plain": [
       "     CS_ID  Keyword_ID                         Keyword       Intent_1  \\\n",
       "0  CS_0001        3486             poison oak pictures       Resource   \n",
       "1  CS_0002        3486   best foods for hypothyroidism  Direct Answer   \n",
       "2  CS_0003        3486          kidney stones in women        Generic   \n",
       "3  CS_0004        3484     what spider bites look like       Resource   \n",
       "4  CS_0005        3484  fifths disease picture of rash       Resource   \n",
       "5  CS_0006        3484   multi myeloma life expectancy  Direct Answer   \n",
       "6  CS_0007        3483            pictures of impetigo       Resource   \n",
       "7  CS_0008        3483  how serious is spinal stenosis  Direct Answer   \n",
       "8  CS_0009        3483       how to correct hammer toe          Guide   \n",
       "9  CS_0010        3482        ear wax removal peroxide  Direct Answer   \n",
       "\n",
       "  Intent_2 Authority  \n",
       "0      NaN   General  \n",
       "1      NaN    Expert  \n",
       "2      NaN    Expert  \n",
       "3      NaN   General  \n",
       "4      NaN   General  \n",
       "5      NaN    Expert  \n",
       "6      NaN   General  \n",
       "7      NaN    Expert  \n",
       "8      NaN    Expert  \n",
       "9      NaN    Expert  "
      ]
     },
     "execution_count": 2,
     "metadata": {},
     "output_type": "execute_result"
    }
   ],
   "source": [
    "health_data.head(10)"
   ]
  },
  {
   "cell_type": "code",
   "execution_count": null,
   "metadata": {
    "collapsed": true
   },
   "outputs": [],
   "source": []
  },
  {
   "cell_type": "code",
   "execution_count": 3,
   "metadata": {
    "collapsed": false
   },
   "outputs": [
    {
     "name": "stdout",
     "output_type": "stream",
     "text": [
      "0               poison oak pictures\n",
      "1     best foods for hypothyroidism\n",
      "2            kidney stones in women\n",
      "3       what spider bites look like\n",
      "4    fifths disease picture of rash\n",
      "5     multi myeloma life expectancy\n",
      "6              pictures of impetigo\n",
      "7    how serious is spinal stenosis\n",
      "8         how to correct hammer toe\n",
      "9          ear wax removal peroxide\n",
      "Name: Keyword, dtype: object\n"
     ]
    }
   ],
   "source": [
    "keywords = health_data['Keyword']\n",
    "print(keywords.head(10))"
   ]
  },
  {
   "cell_type": "code",
   "execution_count": 27,
   "metadata": {
    "collapsed": false
   },
   "outputs": [
    {
     "name": "stdout",
     "output_type": "stream",
     "text": [
      "['poison oak pictures', 'foods hypothyroidism', 'kidney stones women', 'spider bites look like', 'fifths disease picture rash', 'multi myeloma life expectancy', 'pictures impetigo', 'how serious spinal stenosis', 'how to correct hammer toe', 'ear wax removal peroxide']\n"
     ]
    }
   ],
   "source": [
    "def clean_keywords(keyword):\n",
    "    stopwords = {'a', 'about', 'above', 'after', 'again', 'against', 'aint', 'all', 'am', 'an', 'and', 'any', 'anybody', 'anyone', 'are', 'arent', 'as', 'at', 'be', 'because', 'been', 'before', 'being', 'between', 'both', 'but', 'by', 'can', 'cant', 'could', 'couldnt', 'couldve', 'd', 'didnt', 'doesnt', 'doing', 'don', 'dont', 'during', 'each', 'early', 'everybody', 'everyone', 'fact', 'few', 'for', 'from', 'further', 'gotta', 'had', 'hadnt', 'has', 'hasnt', 'have', 'havent', 'having', 'he', 'hed', 'her', 'here', 'hers', 'herself', 'hes', 'him', 'himself', 'his', 'i', 'if', 'im', 'in', 'into', 'is', 'isnt', 'it', 'itd', 'itll', 'its', 'itself', 'ive', 'lets', 'll', 'm', 'maam', 'many', 'me', 'mean', 'meaning', 'more', 'most', 'much', 'mustnt', 'mustve', 'my', 'myself', 'need', 'neednt', 'no', 'nobody', 'noone', 'nor', 'not', 'notve', 'now', 'of', 'off', 'on', 'once', 'one', 'only', 'or', 'other', 'our', 'ours', 'ourselves', 'out', 'over', 'own', 're', 's', 'same', 'shall', 'shant', 'she', 'shes', 'should', 'shouldnt', 'shouldve', 'so', 'some', 'somebody', 'someone', 'such', 't', 'than', 'that', 'thats', 'the', 'their', 'theirs', 'them', 'themselves', 'then', 'there', 'thered', 'therere', 'theres', 'these', 'they', 'theyd', 'theyll', 'theyre', 'theyve', 'this', 'those', 'through', 'too', 'us', 've', 'very', 'was', 'wasnt', 'we', 'were', 'werent', 'weve', 'what', 'whatll', 'whatre', 'whats', 'whatve', 'which', 'while', 'with', 'wont', 'would', 'wouldnt', 'wouldve', 'yet', 'you', 'youd', 'youll', 'your', 'youre', 'yours', 'yourself', 'yourselves', 'youve', 'below', 'best', 'down', 'fun', 'interesting', 'just', 'might', 'mightnt', 'mightve', 'new', 'top', 'under', 'until', 'up', 'will'}\n",
    "    tokenized_keyword = keyword.split()\n",
    "    meaningful_words = [kw for kw in tokenized_keyword if not kw in stopwords]\n",
    "    return( \" \".join( meaningful_words ))\n",
    "\n",
    "\n",
    "num_keywords = keywords.size\n",
    "processed_kw = []\n",
    "for i in xrange( 0, num_keywords ):\n",
    "    processed_kw.append(clean_keywords(keywords[i]))\n",
    "\n",
    "print(processed_kw[:10])"
   ]
  },
  {
   "cell_type": "code",
   "execution_count": null,
   "metadata": {
    "collapsed": true
   },
   "outputs": [],
   "source": [
    "keyword.value_counts()"
   ]
  },
  {
   "cell_type": "code",
   "execution_count": null,
   "metadata": {
    "collapsed": true
   },
   "outputs": [],
   "source": []
  }
 ],
 "metadata": {
  "kernelspec": {
   "display_name": "Python 2",
   "language": "python",
   "name": "python2"
  },
  "language_info": {
   "codemirror_mode": {
    "name": "ipython",
    "version": 2
   },
   "file_extension": ".py",
   "mimetype": "text/x-python",
   "name": "python",
   "nbconvert_exporter": "python",
   "pygments_lexer": "ipython2",
   "version": "2.7.11"
  }
 },
 "nbformat": 4,
 "nbformat_minor": 0
}
