{
 "cells": [
  {
   "cell_type": "code",
   "execution_count": 7,
   "metadata": {
    "collapsed": false
   },
   "outputs": [],
   "source": [
    "import pandas as pd\n",
    "import numpy as np\n",
    "import re\n",
    "\n",
    "\n",
    "\n",
    "#For Naive Bayes \n",
    "from sklearn.naive_bayes import MultinomialNB\n",
    "\n",
    "from sklearn.feature_extraction.text import CountVectorizer\n",
    "from sklearn.feature_extraction.text import TfidfTransformer\n",
    "from nltk.corpus import stopwords\n",
    "from sklearn.cross_validation import train_test_split\n",
    "from sklearn.cross_validation import cross_val_score\n",
    "\n",
    "from sklearn import metrics\n",
    "data = pd.read_csv(\"health_data.tsv\", header=0, \\\n",
    "                    delimiter=\"\\t\")"
   ]
  },
  {
   "cell_type": "code",
   "execution_count": 8,
   "metadata": {
    "collapsed": false
   },
   "outputs": [
    {
     "data": {
      "text/html": [
       "<div>\n",
       "<table border=\"1\" class=\"dataframe\">\n",
       "  <thead>\n",
       "    <tr style=\"text-align: right;\">\n",
       "      <th></th>\n",
       "      <th>CS_ID</th>\n",
       "      <th>Keyword_ID</th>\n",
       "      <th>Keyword</th>\n",
       "      <th>Intent_1</th>\n",
       "      <th>Authority</th>\n",
       "    </tr>\n",
       "  </thead>\n",
       "  <tbody>\n",
       "    <tr>\n",
       "      <th>0</th>\n",
       "      <td>CS_0001</td>\n",
       "      <td>3486</td>\n",
       "      <td>poison oak pictures</td>\n",
       "      <td>Resource</td>\n",
       "      <td>General</td>\n",
       "    </tr>\n",
       "    <tr>\n",
       "      <th>1</th>\n",
       "      <td>CS_0002</td>\n",
       "      <td>3486</td>\n",
       "      <td>best foods for hypothyroidism</td>\n",
       "      <td>Direct Answer</td>\n",
       "      <td>Expert</td>\n",
       "    </tr>\n",
       "    <tr>\n",
       "      <th>2</th>\n",
       "      <td>CS_0003</td>\n",
       "      <td>3486</td>\n",
       "      <td>kidney stones in women</td>\n",
       "      <td>Generic</td>\n",
       "      <td>Expert</td>\n",
       "    </tr>\n",
       "    <tr>\n",
       "      <th>3</th>\n",
       "      <td>CS_0004</td>\n",
       "      <td>3484</td>\n",
       "      <td>what spider bites look like</td>\n",
       "      <td>Resource</td>\n",
       "      <td>General</td>\n",
       "    </tr>\n",
       "    <tr>\n",
       "      <th>4</th>\n",
       "      <td>CS_0005</td>\n",
       "      <td>3484</td>\n",
       "      <td>fifths disease picture of rash</td>\n",
       "      <td>Resource</td>\n",
       "      <td>General</td>\n",
       "    </tr>\n",
       "    <tr>\n",
       "      <th>5</th>\n",
       "      <td>CS_0006</td>\n",
       "      <td>3484</td>\n",
       "      <td>multi myeloma life expectancy</td>\n",
       "      <td>Direct Answer</td>\n",
       "      <td>Expert</td>\n",
       "    </tr>\n",
       "    <tr>\n",
       "      <th>6</th>\n",
       "      <td>CS_0007</td>\n",
       "      <td>3483</td>\n",
       "      <td>pictures of impetigo</td>\n",
       "      <td>Resource</td>\n",
       "      <td>General</td>\n",
       "    </tr>\n",
       "    <tr>\n",
       "      <th>7</th>\n",
       "      <td>CS_0008</td>\n",
       "      <td>3483</td>\n",
       "      <td>how serious is spinal stenosis</td>\n",
       "      <td>Direct Answer</td>\n",
       "      <td>Expert</td>\n",
       "    </tr>\n",
       "    <tr>\n",
       "      <th>8</th>\n",
       "      <td>CS_0009</td>\n",
       "      <td>3483</td>\n",
       "      <td>how to correct hammer toe</td>\n",
       "      <td>Guide</td>\n",
       "      <td>Expert</td>\n",
       "    </tr>\n",
       "    <tr>\n",
       "      <th>9</th>\n",
       "      <td>CS_0010</td>\n",
       "      <td>3482</td>\n",
       "      <td>ear wax removal peroxide</td>\n",
       "      <td>Direct Answer</td>\n",
       "      <td>Expert</td>\n",
       "    </tr>\n",
       "  </tbody>\n",
       "</table>\n",
       "</div>"
      ],
      "text/plain": [
       "     CS_ID  Keyword_ID                         Keyword       Intent_1  \\\n",
       "0  CS_0001        3486             poison oak pictures       Resource   \n",
       "1  CS_0002        3486   best foods for hypothyroidism  Direct Answer   \n",
       "2  CS_0003        3486          kidney stones in women        Generic   \n",
       "3  CS_0004        3484     what spider bites look like       Resource   \n",
       "4  CS_0005        3484  fifths disease picture of rash       Resource   \n",
       "5  CS_0006        3484   multi myeloma life expectancy  Direct Answer   \n",
       "6  CS_0007        3483            pictures of impetigo       Resource   \n",
       "7  CS_0008        3483  how serious is spinal stenosis  Direct Answer   \n",
       "8  CS_0009        3483       how to correct hammer toe          Guide   \n",
       "9  CS_0010        3482        ear wax removal peroxide  Direct Answer   \n",
       "\n",
       "  Authority  \n",
       "0   General  \n",
       "1    Expert  \n",
       "2    Expert  \n",
       "3   General  \n",
       "4   General  \n",
       "5    Expert  \n",
       "6   General  \n",
       "7    Expert  \n",
       "8    Expert  \n",
       "9    Expert  "
      ]
     },
     "execution_count": 8,
     "metadata": {},
     "output_type": "execute_result"
    }
   ],
   "source": [
    "data.head(10)"
   ]
  },
  {
   "cell_type": "code",
   "execution_count": 9,
   "metadata": {
    "collapsed": false
   },
   "outputs": [
    {
     "data": {
      "text/plain": [
       "Direct Answer    43198\n",
       "Generic          30972\n",
       "Guide             7642\n",
       "Resource          6948\n",
       "Transactional     1137\n",
       "Navigational       938\n",
       "Name: Intent_1, dtype: int64"
      ]
     },
     "execution_count": 9,
     "metadata": {},
     "output_type": "execute_result"
    }
   ],
   "source": [
    "data.Intent_1.value_counts()"
   ]
  },
  {
   "cell_type": "code",
   "execution_count": 13,
   "metadata": {
    "collapsed": false
   },
   "outputs": [
    {
     "name": "stdout",
     "output_type": "stream",
     "text": [
      "<class 'pandas.core.frame.DataFrame'>\n",
      "Int64Index: 90835 entries, 0 to 90834\n",
      "Data columns (total 5 columns):\n",
      "CS_ID         90835 non-null object\n",
      "Keyword_ID    5000 non-null float64\n",
      "Keyword       90835 non-null object\n",
      "Intent_1      90835 non-null int64\n",
      "Authority     90185 non-null object\n",
      "dtypes: float64(1), int64(1), object(3)\n",
      "memory usage: 4.2+ MB\n"
     ]
    }
   ],
   "source": [
    "data.Keyword.describe()\n",
    "data.info()"
   ]
  },
  {
   "cell_type": "code",
   "execution_count": 11,
   "metadata": {
    "collapsed": false
   },
   "outputs": [
    {
     "name": "stdout",
     "output_type": "stream",
     "text": [
      "<class 'pandas.core.frame.DataFrame'>\n",
      "Int64Index: 90835 entries, 0 to 90834\n",
      "Data columns (total 2 columns):\n",
      "Keyword     90835 non-null object\n",
      "Intent_1    90835 non-null int64\n",
      "dtypes: int64(1), object(1)\n",
      "memory usage: 2.1+ MB\n"
     ]
    }
   ],
   "source": [
    "#Change User Intent labels to numerical values\n",
    "data['Intent_1'] = data.Intent_1.map({'Generic': 0 , 'Direct Answer': 1, 'Guide': 2, 'Navigational': 3, 'Resource': 4, 'Transactional': 5 })\n",
    "\n",
    "health_data = data.drop(['CS_ID', 'Keyword_ID', 'Authority'], axis=1)\n",
    "health_data.info()"
   ]
  },
  {
   "cell_type": "code",
   "execution_count": 12,
   "metadata": {
    "collapsed": false
   },
   "outputs": [
    {
     "data": {
      "text/html": [
       "<div>\n",
       "<table border=\"1\" class=\"dataframe\">\n",
       "  <thead>\n",
       "    <tr style=\"text-align: right;\">\n",
       "      <th></th>\n",
       "      <th>Keyword</th>\n",
       "      <th>Intent_1</th>\n",
       "    </tr>\n",
       "  </thead>\n",
       "  <tbody>\n",
       "    <tr>\n",
       "      <th>0</th>\n",
       "      <td>poison oak pictures</td>\n",
       "      <td>4</td>\n",
       "    </tr>\n",
       "    <tr>\n",
       "      <th>1</th>\n",
       "      <td>best foods for hypothyroidism</td>\n",
       "      <td>1</td>\n",
       "    </tr>\n",
       "    <tr>\n",
       "      <th>2</th>\n",
       "      <td>kidney stones in women</td>\n",
       "      <td>0</td>\n",
       "    </tr>\n",
       "    <tr>\n",
       "      <th>3</th>\n",
       "      <td>what spider bites look like</td>\n",
       "      <td>4</td>\n",
       "    </tr>\n",
       "    <tr>\n",
       "      <th>4</th>\n",
       "      <td>fifths disease picture of rash</td>\n",
       "      <td>4</td>\n",
       "    </tr>\n",
       "    <tr>\n",
       "      <th>5</th>\n",
       "      <td>multi myeloma life expectancy</td>\n",
       "      <td>1</td>\n",
       "    </tr>\n",
       "    <tr>\n",
       "      <th>6</th>\n",
       "      <td>pictures of impetigo</td>\n",
       "      <td>4</td>\n",
       "    </tr>\n",
       "    <tr>\n",
       "      <th>7</th>\n",
       "      <td>how serious is spinal stenosis</td>\n",
       "      <td>1</td>\n",
       "    </tr>\n",
       "    <tr>\n",
       "      <th>8</th>\n",
       "      <td>how to correct hammer toe</td>\n",
       "      <td>2</td>\n",
       "    </tr>\n",
       "    <tr>\n",
       "      <th>9</th>\n",
       "      <td>ear wax removal peroxide</td>\n",
       "      <td>1</td>\n",
       "    </tr>\n",
       "    <tr>\n",
       "      <th>10</th>\n",
       "      <td>side effects of diabetes</td>\n",
       "      <td>1</td>\n",
       "    </tr>\n",
       "    <tr>\n",
       "      <th>11</th>\n",
       "      <td>pictures of foot rashes</td>\n",
       "      <td>4</td>\n",
       "    </tr>\n",
       "    <tr>\n",
       "      <th>12</th>\n",
       "      <td>zenni optical discount code</td>\n",
       "      <td>5</td>\n",
       "    </tr>\n",
       "    <tr>\n",
       "      <th>13</th>\n",
       "      <td>where is pancreas</td>\n",
       "      <td>1</td>\n",
       "    </tr>\n",
       "    <tr>\n",
       "      <th>14</th>\n",
       "      <td>what causes blood clots</td>\n",
       "      <td>1</td>\n",
       "    </tr>\n",
       "    <tr>\n",
       "      <th>15</th>\n",
       "      <td>canker sores on the tongue</td>\n",
       "      <td>0</td>\n",
       "    </tr>\n",
       "    <tr>\n",
       "      <th>16</th>\n",
       "      <td>what is enlarged prostate</td>\n",
       "      <td>0</td>\n",
       "    </tr>\n",
       "    <tr>\n",
       "      <th>17</th>\n",
       "      <td>what is bursitis in the knee</td>\n",
       "      <td>0</td>\n",
       "    </tr>\n",
       "    <tr>\n",
       "      <th>18</th>\n",
       "      <td>what is cataract surgery</td>\n",
       "      <td>0</td>\n",
       "    </tr>\n",
       "    <tr>\n",
       "      <th>19</th>\n",
       "      <td>what is plantar fasciitis</td>\n",
       "      <td>0</td>\n",
       "    </tr>\n",
       "  </tbody>\n",
       "</table>\n",
       "</div>"
      ],
      "text/plain": [
       "                           Keyword  Intent_1\n",
       "0              poison oak pictures         4\n",
       "1    best foods for hypothyroidism         1\n",
       "2           kidney stones in women         0\n",
       "3      what spider bites look like         4\n",
       "4   fifths disease picture of rash         4\n",
       "5    multi myeloma life expectancy         1\n",
       "6             pictures of impetigo         4\n",
       "7   how serious is spinal stenosis         1\n",
       "8        how to correct hammer toe         2\n",
       "9         ear wax removal peroxide         1\n",
       "10        side effects of diabetes         1\n",
       "11         pictures of foot rashes         4\n",
       "12     zenni optical discount code         5\n",
       "13               where is pancreas         1\n",
       "14         what causes blood clots         1\n",
       "15      canker sores on the tongue         0\n",
       "16       what is enlarged prostate         0\n",
       "17    what is bursitis in the knee         0\n",
       "18        what is cataract surgery         0\n",
       "19       what is plantar fasciitis         0"
      ]
     },
     "execution_count": 12,
     "metadata": {},
     "output_type": "execute_result"
    }
   ],
   "source": [
    "#health_data['duplicates'] = health_data.duplicated('Keyword')\n",
    "health_data.head(20)"
   ]
  },
  {
   "cell_type": "code",
   "execution_count": 36,
   "metadata": {
    "collapsed": false
   },
   "outputs": [],
   "source": [
    "healthy = health_data.drop_duplicates('Keyword')\n",
    "keywords = healthy['Keyword']"
   ]
  },
  {
   "cell_type": "code",
   "execution_count": 37,
   "metadata": {
    "collapsed": false
   },
   "outputs": [
    {
     "name": "stdout",
     "output_type": "stream",
     "text": [
      "<class 'pandas.core.frame.DataFrame'>\n",
      "Int64Index: 55000 entries, 0 to 65832\n",
      "Data columns (total 2 columns):\n",
      "Keyword     55000 non-null object\n",
      "Intent_1    55000 non-null int64\n",
      "dtypes: int64(1), object(1)\n",
      "memory usage: 1.3+ MB\n"
     ]
    },
    {
     "data": {
      "text/plain": [
       "1    21958\n",
       "0    21868\n",
       "2     5280\n",
       "4     4631\n",
       "5      642\n",
       "3      621\n",
       "Name: Intent_1, dtype: int64"
      ]
     },
     "execution_count": 37,
     "metadata": {},
     "output_type": "execute_result"
    }
   ],
   "source": [
    "healthy.info()\n",
    "healthy.Intent_1.value_counts()"
   ]
  },
  {
   "cell_type": "code",
   "execution_count": 38,
   "metadata": {
    "collapsed": false
   },
   "outputs": [
    {
     "name": "stdout",
     "output_type": "stream",
     "text": [
      "<class 'pandas.core.frame.DataFrame'>\n",
      "Int64Index: 43826 entries, 1 to 65832\n",
      "Data columns (total 2 columns):\n",
      "Keyword     43826 non-null object\n",
      "Intent_1    43826 non-null int64\n",
      "dtypes: int64(1), object(1)\n",
      "memory usage: 1.0+ MB\n"
     ]
    },
    {
     "data": {
      "text/plain": [
       "1    21958\n",
       "0    21868\n",
       "Name: Intent_1, dtype: int64"
      ]
     },
     "execution_count": 38,
     "metadata": {},
     "output_type": "execute_result"
    }
   ],
   "source": [
    "da_gen_frame = healthy[healthy['Intent_1']<2].copy()\n",
    "kws = da_gen_frame['Keyword']\n",
    "\n",
    "da_gen_frame.info()\n",
    "da_gen_frame.Intent_1.value_counts()"
   ]
  },
  {
   "cell_type": "markdown",
   "metadata": {},
   "source": [
    "#Function to clean individual keywords\n",
    "def clean_keywords(keyword):\n",
    "    stopwords = {'a', 'about', 'above', 'after', 'again', 'against', 'aint', 'all', 'am', 'an', 'and', 'any', 'anybody', 'anyone', 'are', 'arent', 'as', 'at', 'be', 'because', 'been', 'before', 'being', 'between', 'both', 'but', 'by', 'can', 'cant', 'could', 'couldnt', 'couldve', 'd', 'didnt', 'doesnt', 'doing', 'don', 'dont', 'during', 'each', 'early', 'everybody', 'everyone', 'fact', 'few', 'for', 'from', 'further', 'gotta', 'had', 'hadnt', 'has', 'hasnt', 'have', 'havent', 'having', 'he', 'hed', 'her', 'here', 'hers', 'herself', 'hes', 'him', 'himself', 'his', 'i', 'if', 'im', 'in', 'into', 'is', 'isnt', 'it', 'itd', 'itll', 'its', 'itself', 'ive', 'lets', 'll', 'm', 'maam', 'many', 'me', 'mean', 'meaning', 'more', 'most', 'much', 'mustnt', 'mustve', 'my', 'myself', 'need', 'neednt', 'no', 'nobody', 'noone', 'nor', 'not', 'notve', 'now', 'of', 'off', 'on', 'once', 'one', 'only', 'or', 'other', 'our', 'ours', 'ourselves', 'out', 'over', 'own', 're', 's', 'same', 'shall', 'shant', 'she', 'shes', 'should', 'shouldnt', 'shouldve', 'so', 'some', 'somebody', 'someone', 'such', 't', 'than', 'that', 'thats', 'the', 'their', 'theirs', 'them', 'themselves', 'then', 'there', 'thered', 'therere', 'theres', 'these', 'they', 'theyd', 'theyll', 'theyre', 'theyve', 'this', 'those', 'through', 'too', 'us', 've', 'very', 'was', 'wasnt', 'we', 'were', 'werent', 'weve', 'what', 'whatll', 'whatre', 'whats', 'whatve', 'which', 'while', 'with', 'wont', 'would', 'wouldnt', 'wouldve', 'yet', 'you', 'youd', 'youll', 'your', 'youre', 'yours', 'yourself', 'yourselves', 'youve', 'below', 'best', 'down', 'fun', 'interesting', 'just', 'might', 'mightnt', 'mightve', 'new', 'top', 'under', 'until', 'up', 'will'}\n",
    "    tokenized_keyword = keyword.split()\n",
    "    meaningful_words = [kw for kw in tokenized_keyword if not kw in stopwords]\n",
    "    return( \" \".join( meaningful_words ))\n",
    "\n",
    "da_gen_frame['Keyword'] = kws.apply(clean_keywords)\n",
    "da_gen_frame['Keyword'].head(20)"
   ]
  },
  {
   "cell_type": "code",
   "execution_count": 39,
   "metadata": {
    "collapsed": false
   },
   "outputs": [
    {
     "name": "stdout",
     "output_type": "stream",
     "text": [
      "(32869,) (32869,) (10957,) (10957,)\n"
     ]
    }
   ],
   "source": [
    "from sklearn.cross_validation import train_test_split\n",
    "X_train, X_test, y_train, y_test = train_test_split(da_gen_frame.Keyword, da_gen_frame.Intent_1, random_state=1)\n",
    "print X_train.shape, y_train.shape, X_test.shape, y_test.shape"
   ]
  },
  {
   "cell_type": "code",
   "execution_count": 40,
   "metadata": {
    "collapsed": false
   },
   "outputs": [],
   "source": [
    "#TFIDF vectorize and count\n",
    "from sklearn.feature_extraction.text import TfidfVectorizer\n",
    "tfidf_vectorizer = TfidfVectorizer(use_idf=True)\n",
    "\n",
    "train_dtm = tfidf_vectorizer.fit_transform(X_train) #fit the vectorizer to keywords\n",
    "train_features = tfidf_vectorizer.get_feature_names() #list of features/vocab used in tf-idf matrix\n",
    "train_array = train_dtm.toarray() #turn the matrix into an array\n",
    "\n",
    "test_dtm = tfidf_vectorizer.transform(X_test)\n",
    "test_array = test_dtm.toarray()\n",
    "#kws_token_counts = pd.DataFrame({'token':X_train_features, 'count':np.sum(X_train_array, axis=0)}) #create a dataframe with token\n",
    "#kws_token_counts.sort_values(by='count', ascending=False)\n"
   ]
  },
  {
   "cell_type": "code",
   "execution_count": 41,
   "metadata": {
    "collapsed": false
   },
   "outputs": [
    {
     "data": {
      "text/plain": [
       "MultinomialNB(alpha=1.0, class_prior=None, fit_prior=True)"
      ]
     },
     "execution_count": 41,
     "metadata": {},
     "output_type": "execute_result"
    }
   ],
   "source": [
    "#Multinomial Naive Bayes\n",
    "from sklearn.naive_bayes import MultinomialNB\n",
    "nb = MultinomialNB()\n",
    "nb.fit(train_dtm, y_train)"
   ]
  },
  {
   "cell_type": "code",
   "execution_count": 42,
   "metadata": {
    "collapsed": false
   },
   "outputs": [
    {
     "data": {
      "text/plain": [
       "array([1, 0, 0, ..., 1, 1, 0])"
      ]
     },
     "execution_count": 42,
     "metadata": {},
     "output_type": "execute_result"
    }
   ],
   "source": [
    "# make predictions on test data using test_dtm\n",
    "preds = nb.predict(test_dtm)\n",
    "preds"
   ]
  },
  {
   "cell_type": "code",
   "execution_count": 43,
   "metadata": {
    "collapsed": false
   },
   "outputs": [
    {
     "name": "stdout",
     "output_type": "stream",
     "text": [
      "0.778406498129\n",
      "[[4108 1367]\n",
      " [1061 4421]]\n"
     ]
    }
   ],
   "source": [
    "# compare predictions to true labels\n",
    "from sklearn import metrics\n",
    "\n",
    "print metrics.accuracy_score(y_test, preds)\n",
    "print metrics.confusion_matrix(y_test, preds)\n"
   ]
  },
  {
   "cell_type": "code",
   "execution_count": 56,
   "metadata": {
    "collapsed": false
   },
   "outputs": [
    {
     "data": {
      "text/html": [
       "<div>\n",
       "<table border=\"1\" class=\"dataframe\">\n",
       "  <thead>\n",
       "    <tr style=\"text-align: right;\">\n",
       "      <th></th>\n",
       "      <th>Actual Generic</th>\n",
       "      <th>Actual Direct Answer</th>\n",
       "    </tr>\n",
       "  </thead>\n",
       "  <tbody>\n",
       "    <tr>\n",
       "      <th>Predicted Generic</th>\n",
       "      <td>4108</td>\n",
       "      <td>1367</td>\n",
       "    </tr>\n",
       "    <tr>\n",
       "      <th>Predicted Direct Answer</th>\n",
       "      <td>1061</td>\n",
       "      <td>4421</td>\n",
       "    </tr>\n",
       "  </tbody>\n",
       "</table>\n",
       "</div>"
      ],
      "text/plain": [
       "                         Actual Generic  Actual Direct Answer\n",
       "Predicted Generic                  4108                  1367\n",
       "Predicted Direct Answer            1061                  4421"
      ]
     },
     "execution_count": 56,
     "metadata": {},
     "output_type": "execute_result"
    }
   ],
   "source": [
    "cm = metrics.confusion_matrix(y_test,preds)\n",
    "cm_df = pd.DataFrame(cm, index=['Predicted Generic', 'Predicted Direct Answer'], \n",
    "                     columns=['Actual Generic', 'Actual Direct Answer'])\n",
    "\n",
    "cm_df"
   ]
  },
  {
   "cell_type": "code",
   "execution_count": 94,
   "metadata": {
    "collapsed": false
   },
   "outputs": [
    {
     "name": "stdout",
     "output_type": "stream",
     "text": [
      "0.778406498129\n",
      "[[4108 1367]\n",
      " [1061 4421]]\n"
     ]
    }
   ],
   "source": [
    "from sklearn.pipeline import Pipeline\n",
    "text_clf = Pipeline([('vect', CountVectorizer()), ('tfidf', TfidfTransformer()), ('clf', MultinomialNB())])\n",
    "\n",
    "text_clf = text_clf.fit(X_train, y_train)\n",
    "predictions = text_clf.predict(X_test)\n",
    "\n",
    "print metrics.accuracy_score(y_test, predictions)\n",
    "print metrics.confusion_matrix(y_test, predictions)"
   ]
  },
  {
   "cell_type": "code",
   "execution_count": 98,
   "metadata": {
    "collapsed": false
   },
   "outputs": [
    {
     "name": "stdout",
     "output_type": "stream",
     "text": [
      "0.838185634754\n",
      "[[4955  520]\n",
      " [1253 4229]]\n"
     ]
    }
   ],
   "source": [
    "#SGDClassifier\n",
    "from sklearn.linear_model import SGDClassifier\n",
    "text_clf = Pipeline([('vect', CountVectorizer()),('tfidf', TfidfTransformer()),('clf', SGDClassifier(loss='hinge', penalty='l2', n_iter=5, random_state=42)), ])\n",
    "\n",
    "\n",
    "from sklearn.linear_model import SGDClassifier\n",
    "\n",
    "\n",
    "text_clf = text_clf.fit(X_train, y_train)\n",
    "predictions = text_clf.predict(X_test)\n",
    "\n",
    "print metrics.accuracy_score(y_test, predictions)\n",
    "print metrics.confusion_matrix(y_test, predictions)"
   ]
  },
  {
   "cell_type": "code",
   "execution_count": 100,
   "metadata": {
    "collapsed": false
   },
   "outputs": [
    {
     "data": {
      "text/html": [
       "<div>\n",
       "<table border=\"1\" class=\"dataframe\">\n",
       "  <thead>\n",
       "    <tr style=\"text-align: right;\">\n",
       "      <th></th>\n",
       "      <th>Actual Generic</th>\n",
       "      <th>Actual Direct Answer</th>\n",
       "    </tr>\n",
       "  </thead>\n",
       "  <tbody>\n",
       "    <tr>\n",
       "      <th>Predicted Generic</th>\n",
       "      <td>4108</td>\n",
       "      <td>1367</td>\n",
       "    </tr>\n",
       "    <tr>\n",
       "      <th>Predicted Direct Answer</th>\n",
       "      <td>1061</td>\n",
       "      <td>4421</td>\n",
       "    </tr>\n",
       "  </tbody>\n",
       "</table>\n",
       "</div>"
      ],
      "text/plain": [
       "                         Actual Generic  Actual Direct Answer\n",
       "Predicted Generic                  4108                  1367\n",
       "Predicted Direct Answer            1061                  4421"
      ]
     },
     "execution_count": 100,
     "metadata": {},
     "output_type": "execute_result"
    }
   ],
   "source": [
    "cm = metrics.confusion_matrix(y_test,preds)\n",
    "cm_df = pd.DataFrame(cm, index=['Predicted Generic', 'Predicted Direct Answer'], \n",
    "                     columns=['Actual Generic', 'Actual Direct Answer'])\n",
    "\n",
    "cm_df"
   ]
  },
  {
   "cell_type": "code",
   "execution_count": 99,
   "metadata": {
    "collapsed": false
   },
   "outputs": [
    {
     "data": {
      "text/plain": [
       "5720       what is a normal cholesterol\n",
       "38955         bilirubin levels in women\n",
       "19083              what is a normal inr\n",
       "35329        swelling in one ankle only\n",
       "5934           normal troponin 1 levels\n",
       "15314                what is a erythema\n",
       "16819         health care questionnaire\n",
       "23948             breast cancer article\n",
       "12561         diet after hernia surgery\n",
       "13513          what is hansen's disease\n",
       "7207                what is glutathione\n",
       "39879               pacemaker questions\n",
       "11979      stomach bloating weight gain\n",
       "16096         low white blood platelets\n",
       "10850         rite aid shingles vaccine\n",
       "13178            leg pain heart disease\n",
       "18330          municipal code violation\n",
       "13903                 what is pollution\n",
       "36789    back pain and kidney infection\n",
       "24087             lung and liver cancer\n",
       "23962         shoulder bursitis therapy\n",
       "11491     prediabetic blood sugar level\n",
       "5431            psa test results by age\n",
       "6062       stage 4 bone cancer survival\n",
       "12372            swollen parotid glands\n",
       "8388                urine color meaning\n",
       "8715          prolozone therapy doctors\n",
       "18903        best hospital for melanoma\n",
       "25734            high levels in kidneys\n",
       "22111        what side is the kidney on\n",
       "                      ...              \n",
       "11929         test for clogged arteries\n",
       "7941          cardiac and diabetic diet\n",
       "36659          bowel movement frequency\n",
       "11301    what the normal blood pressure\n",
       "13449             lower leg muscle pain\n",
       "27509                  blood cell count\n",
       "12952          bowel resection recovery\n",
       "8488          defiant disorder symptoms\n",
       "13925      is parkinson disease genetic\n",
       "35451         what is fever temperature\n",
       "9780          cognitive impairment test\n",
       "15887             ccs diabetes supplies\n",
       "12707                   mucus in throat\n",
       "37446             who needs a pacemaker\n",
       "15347        dixie elixirs stock symbol\n",
       "34289                        drum facts\n",
       "15587       top pain management doctors\n",
       "27437           life vest heart patient\n",
       "26154                top spine surgeons\n",
       "7926               where is the bladder\n",
       "16789     hipaa compliant authorization\n",
       "9271             adult bilirubin levels\n",
       "12814            what is chronic anemia\n",
       "5317              nephrology definition\n",
       "9601                   blood test codes\n",
       "29562                    stent in heart\n",
       "32066     burning sensation in shoulder\n",
       "10563                     pet scan diet\n",
       "13126        pain after microdiscectomy\n",
       "5161        what are catheters used for\n",
       "Name: Keyword, dtype: object"
      ]
     },
     "execution_count": 99,
     "metadata": {},
     "output_type": "execute_result"
    }
   ],
   "source": [
    "X_test[(y_test == 1) & (preds == 0)]"
   ]
  },
  {
   "cell_type": "code",
   "execution_count": 45,
   "metadata": {
    "collapsed": false
   },
   "outputs": [],
   "source": [
    "# Output false negatives/positives to file? X_test[(y_test == 0) & (preds == 1)]"
   ]
  },
  {
   "cell_type": "code",
   "execution_count": 88,
   "metadata": {
    "collapsed": false
   },
   "outputs": [
    {
     "name": "stdout",
     "output_type": "stream",
     "text": [
      "clf__alpha: 0.01\n",
      "tfidf__use_idf: True\n",
      "vect__ngram_range: (1, 1)\n"
     ]
    }
   ],
   "source": [
    "#SGDClassifier Gridsearch\n",
    "from sklearn.grid_search import GridSearchCV\n",
    "parameters = {'vect__ngram_range': [(1, 1), (1, 2), (1,3)],'tfidf__use_idf': (True, False),'clf__alpha': (1e-2, 1e-3),}\n",
    "\n",
    "gs_clf = GridSearchCV(text_clf, parameters, n_jobs=-1)\n",
    "\n",
    "gs_clf = gs_clf.fit(X_train[:400], y_train[:400])\n",
    "\n",
    "best_parameters, score, _ = max(gs_clf.grid_scores_, key=lambda x: x[1])\n",
    "for param_name in sorted(parameters.keys()):\n",
    "    print(\"%s: %r\" % (param_name, best_parameters[param_name]))"
   ]
  },
  {
   "cell_type": "code",
   "execution_count": null,
   "metadata": {
    "collapsed": true
   },
   "outputs": [],
   "source": []
  }
 ],
 "metadata": {
  "kernelspec": {
   "display_name": "Python 2",
   "language": "python",
   "name": "python2"
  },
  "language_info": {
   "codemirror_mode": {
    "name": "ipython",
    "version": 2
   },
   "file_extension": ".py",
   "mimetype": "text/x-python",
   "name": "python",
   "nbconvert_exporter": "python",
   "pygments_lexer": "ipython2",
   "version": "2.7.11"
  }
 },
 "nbformat": 4,
 "nbformat_minor": 0
}
