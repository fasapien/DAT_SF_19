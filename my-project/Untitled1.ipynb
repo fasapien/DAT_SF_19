{
 "cells": [
  {
   "cell_type": "markdown",
   "metadata": {},
   "source": [
    "## User Intent Classification\n",
    "#### General Assembly Data Science, Session 19\n",
    "\n",
    "\n",
    "\n",
    "### Problem Background\n",
    "\n",
    "This project came about last year \n",
    "\n",
    "### Data Overview and Provenance\n",
    "\n",
    "This is real financial data. Avoid ML-specific terminology and details; cover the idea of what the technique is trying to achieve, and how well it does it.\n",
    "\n",
    "### Data Cleaning and Feature Selection\n",
    "\n",
    "- cognitive aid to human trader\n",
    "- weight in existing algo-driven models\n",
    "- foundation of a pure AI-driven model\n",
    "\n",
    "### Classification Methods\n",
    "\n",
    "And the associated benefits from a finance perspective\n",
    "\n",
    "### Conclusions\n",
    "\n",
    "Shows promise; lots of upside for refinement and productionization"
   ]
  }
 ],
 "metadata": {
  "kernelspec": {
   "display_name": "Python 2",
   "language": "python",
   "name": "python2"
  },
  "language_info": {
   "codemirror_mode": {
    "name": "ipython",
    "version": 2
   },
   "file_extension": ".py",
   "mimetype": "text/x-python",
   "name": "python",
   "nbconvert_exporter": "python",
   "pygments_lexer": "ipython2",
   "version": "2.7.11"
  }
 },
 "nbformat": 4,
 "nbformat_minor": 0
}
