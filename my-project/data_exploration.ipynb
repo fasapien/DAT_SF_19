{
 "cells": [
  {
   "cell_type": "code",
   "execution_count": 4,
   "metadata": {
    "collapsed": false
   },
   "outputs": [],
   "source": [
    "import pandas as pd\n",
    "import numpy as np\n",
    "import re\n",
    "\n",
    "\n",
    "\n",
    "#For Naive Bayes \n",
    "from sklearn.naive_bayes import MultinomialNB\n",
    "\n",
    "from sklearn.feature_extraction.text import CountVectorizer\n",
    "from sklearn.feature_extraction.text import TfidfTransformer\n",
    "from nltk.corpus import stopwords\n",
    "from sklearn.cross_validation import train_test_split\n",
    "from sklearn.cross_validation import cross_val_score\n",
    "\n",
    "from sklearn import metrics\n",
    "data = pd.read_csv(\"health_data2.tsv\", header=0, \\\n",
    "                    delimiter=\"\\t\")"
   ]
  },
  {
   "cell_type": "code",
   "execution_count": 5,
   "metadata": {
    "collapsed": false
   },
   "outputs": [
    {
     "data": {
      "text/html": [
       "<div>\n",
       "<table border=\"1\" class=\"dataframe\">\n",
       "  <thead>\n",
       "    <tr style=\"text-align: right;\">\n",
       "      <th></th>\n",
       "      <th>﻿CS_ID</th>\n",
       "      <th>Keyword</th>\n",
       "      <th>Intent_1</th>\n",
       "      <th>Authority</th>\n",
       "    </tr>\n",
       "  </thead>\n",
       "  <tbody>\n",
       "    <tr>\n",
       "      <th>0</th>\n",
       "      <td>CS-0001</td>\n",
       "      <td>signs of gallbladder problems</td>\n",
       "      <td>Direct Answer</td>\n",
       "      <td>Expert</td>\n",
       "    </tr>\n",
       "    <tr>\n",
       "      <th>1</th>\n",
       "      <td>CS-0002</td>\n",
       "      <td>normal blood pressure chart</td>\n",
       "      <td>Resource</td>\n",
       "      <td>General</td>\n",
       "    </tr>\n",
       "    <tr>\n",
       "      <th>2</th>\n",
       "      <td>CS-0003</td>\n",
       "      <td>what is normal bloodpressure</td>\n",
       "      <td>Direct Answer</td>\n",
       "      <td>General</td>\n",
       "    </tr>\n",
       "    <tr>\n",
       "      <th>3</th>\n",
       "      <td>CS-0004</td>\n",
       "      <td>what is hyperlipidemia</td>\n",
       "      <td>Generic</td>\n",
       "      <td>Expert</td>\n",
       "    </tr>\n",
       "    <tr>\n",
       "      <th>4</th>\n",
       "      <td>CS-0005</td>\n",
       "      <td>pill identifier</td>\n",
       "      <td>Generic</td>\n",
       "      <td>General</td>\n",
       "    </tr>\n",
       "    <tr>\n",
       "      <th>5</th>\n",
       "      <td>CS-0006</td>\n",
       "      <td>blood clots in leg symptoms</td>\n",
       "      <td>Direct Answer</td>\n",
       "      <td>Expert</td>\n",
       "    </tr>\n",
       "    <tr>\n",
       "      <th>6</th>\n",
       "      <td>CS-0007</td>\n",
       "      <td>blood pressure range chart</td>\n",
       "      <td>Resource</td>\n",
       "      <td>General</td>\n",
       "    </tr>\n",
       "    <tr>\n",
       "      <th>7</th>\n",
       "      <td>CS-0008</td>\n",
       "      <td>ask webmd question</td>\n",
       "      <td>Navigational</td>\n",
       "      <td>General</td>\n",
       "    </tr>\n",
       "    <tr>\n",
       "      <th>8</th>\n",
       "      <td>CS-0009</td>\n",
       "      <td>photos of bed bug bites</td>\n",
       "      <td>Resource</td>\n",
       "      <td>General</td>\n",
       "    </tr>\n",
       "    <tr>\n",
       "      <th>9</th>\n",
       "      <td>CS-0010</td>\n",
       "      <td>lyme disease and symptoms</td>\n",
       "      <td>Direct Answer</td>\n",
       "      <td>Expert</td>\n",
       "    </tr>\n",
       "  </tbody>\n",
       "</table>\n",
       "</div>"
      ],
      "text/plain": [
       "    ﻿CS_ID                        Keyword       Intent_1 Authority\n",
       "0  CS-0001  signs of gallbladder problems  Direct Answer    Expert\n",
       "1  CS-0002    normal blood pressure chart       Resource   General\n",
       "2  CS-0003   what is normal bloodpressure  Direct Answer   General\n",
       "3  CS-0004         what is hyperlipidemia        Generic    Expert\n",
       "4  CS-0005                pill identifier        Generic   General\n",
       "5  CS-0006    blood clots in leg symptoms  Direct Answer    Expert\n",
       "6  CS-0007     blood pressure range chart       Resource   General\n",
       "7  CS-0008             ask webmd question   Navigational   General\n",
       "8  CS-0009        photos of bed bug bites       Resource   General\n",
       "9  CS-0010      lyme disease and symptoms  Direct Answer    Expert"
      ]
     },
     "execution_count": 5,
     "metadata": {},
     "output_type": "execute_result"
    }
   ],
   "source": [
    "data.head(10)"
   ]
  },
  {
   "cell_type": "code",
   "execution_count": 6,
   "metadata": {
    "collapsed": false
   },
   "outputs": [
    {
     "data": {
      "text/plain": [
       "Generic          43151\n",
       "Direct Answer    37765\n",
       "Guide             9138\n",
       "Resource          7293\n",
       "Transactional     1238\n",
       "Navigational      1196\n",
       "Name: Intent_1, dtype: int64"
      ]
     },
     "execution_count": 6,
     "metadata": {},
     "output_type": "execute_result"
    }
   ],
   "source": [
    "data.Intent_1.value_counts()"
   ]
  },
  {
   "cell_type": "code",
   "execution_count": 5,
   "metadata": {
    "collapsed": false
   },
   "outputs": [
    {
     "data": {
      "text/plain": [
       "count                         90835\n",
       "unique                        55000\n",
       "top       major depression symptoms\n",
       "freq                              4\n",
       "Name: Keyword, dtype: object"
      ]
     },
     "execution_count": 5,
     "metadata": {},
     "output_type": "execute_result"
    }
   ],
   "source": [
    "data.Keyword.describe()"
   ]
  },
  {
   "cell_type": "code",
   "execution_count": 6,
   "metadata": {
    "collapsed": false
   },
   "outputs": [
    {
     "name": "stdout",
     "output_type": "stream",
     "text": [
      "<class 'pandas.core.frame.DataFrame'>\n",
      "Int64Index: 90835 entries, 0 to 90834\n",
      "Data columns (total 2 columns):\n",
      "Keyword     90835 non-null object\n",
      "Intent_1    90835 non-null int64\n",
      "dtypes: int64(1), object(1)\n",
      "memory usage: 2.1+ MB\n"
     ]
    }
   ],
   "source": [
    "#Change User Intent labels to numerical values\n",
    "data['Intent_1'] = data.Intent_1.map({'Generic': 0 , 'Direct Answer': 1, 'Guide': 2, 'Navigational': 3, 'Resource': 4, 'Transactional': 5 })\n",
    "\n",
    "health_data = data.drop(['CS_ID', 'Keyword_ID', 'Authority'], axis=1)\n",
    "health_data.info()"
   ]
  },
  {
   "cell_type": "code",
   "execution_count": 14,
   "metadata": {
    "collapsed": false
   },
   "outputs": [
    {
     "data": {
      "text/html": [
       "<div>\n",
       "<table border=\"1\" class=\"dataframe\">\n",
       "  <thead>\n",
       "    <tr style=\"text-align: right;\">\n",
       "      <th></th>\n",
       "      <th>Keyword</th>\n",
       "      <th>Intent_1</th>\n",
       "      <th>duplicates</th>\n",
       "    </tr>\n",
       "  </thead>\n",
       "  <tbody>\n",
       "    <tr>\n",
       "      <th>8690</th>\n",
       "      <td>major depression symptoms</td>\n",
       "      <td>1</td>\n",
       "      <td>True</td>\n",
       "    </tr>\n",
       "    <tr>\n",
       "      <th>11062</th>\n",
       "      <td>signs of depression in men</td>\n",
       "      <td>1</td>\n",
       "      <td>True</td>\n",
       "    </tr>\n",
       "    <tr>\n",
       "      <th>40833</th>\n",
       "      <td>arthritis symptoms</td>\n",
       "      <td>1</td>\n",
       "      <td>True</td>\n",
       "    </tr>\n",
       "    <tr>\n",
       "      <th>40835</th>\n",
       "      <td>shingles causes and cures</td>\n",
       "      <td>1</td>\n",
       "      <td>True</td>\n",
       "    </tr>\n",
       "    <tr>\n",
       "      <th>40837</th>\n",
       "      <td>a1c average blood sugar</td>\n",
       "      <td>1</td>\n",
       "      <td>True</td>\n",
       "    </tr>\n",
       "    <tr>\n",
       "      <th>40839</th>\n",
       "      <td>how does shingles spread</td>\n",
       "      <td>1</td>\n",
       "      <td>True</td>\n",
       "    </tr>\n",
       "    <tr>\n",
       "      <th>40843</th>\n",
       "      <td>itar compliance checklist</td>\n",
       "      <td>1</td>\n",
       "      <td>True</td>\n",
       "    </tr>\n",
       "    <tr>\n",
       "      <th>40844</th>\n",
       "      <td>edgepark medical supplies</td>\n",
       "      <td>1</td>\n",
       "      <td>True</td>\n",
       "    </tr>\n",
       "    <tr>\n",
       "      <th>40846</th>\n",
       "      <td>severe bad breath causes</td>\n",
       "      <td>1</td>\n",
       "      <td>True</td>\n",
       "    </tr>\n",
       "    <tr>\n",
       "      <th>40849</th>\n",
       "      <td>causes of chronic dry cough</td>\n",
       "      <td>1</td>\n",
       "      <td>True</td>\n",
       "    </tr>\n",
       "    <tr>\n",
       "      <th>40850</th>\n",
       "      <td>names of statins</td>\n",
       "      <td>1</td>\n",
       "      <td>True</td>\n",
       "    </tr>\n",
       "    <tr>\n",
       "      <th>40851</th>\n",
       "      <td>diabetic foot ulcer symptoms</td>\n",
       "      <td>1</td>\n",
       "      <td>True</td>\n",
       "    </tr>\n",
       "    <tr>\n",
       "      <th>40852</th>\n",
       "      <td>homeopathic remedy finder</td>\n",
       "      <td>1</td>\n",
       "      <td>True</td>\n",
       "    </tr>\n",
       "    <tr>\n",
       "      <th>40854</th>\n",
       "      <td>diet for fatty liver</td>\n",
       "      <td>1</td>\n",
       "      <td>True</td>\n",
       "    </tr>\n",
       "    <tr>\n",
       "      <th>40855</th>\n",
       "      <td>shingles contagious</td>\n",
       "      <td>1</td>\n",
       "      <td>True</td>\n",
       "    </tr>\n",
       "    <tr>\n",
       "      <th>40856</th>\n",
       "      <td>dandelion root benefits</td>\n",
       "      <td>1</td>\n",
       "      <td>True</td>\n",
       "    </tr>\n",
       "    <tr>\n",
       "      <th>40860</th>\n",
       "      <td>leiomyosarcoma survival rate</td>\n",
       "      <td>1</td>\n",
       "      <td>True</td>\n",
       "    </tr>\n",
       "    <tr>\n",
       "      <th>40861</th>\n",
       "      <td>beta blocker side effects</td>\n",
       "      <td>1</td>\n",
       "      <td>True</td>\n",
       "    </tr>\n",
       "    <tr>\n",
       "      <th>40862</th>\n",
       "      <td>mold symptoms in humans</td>\n",
       "      <td>1</td>\n",
       "      <td>True</td>\n",
       "    </tr>\n",
       "    <tr>\n",
       "      <th>40863</th>\n",
       "      <td>hla b27 symptoms</td>\n",
       "      <td>1</td>\n",
       "      <td>True</td>\n",
       "    </tr>\n",
       "    <tr>\n",
       "      <th>40865</th>\n",
       "      <td>enlarged prostate symptom</td>\n",
       "      <td>1</td>\n",
       "      <td>True</td>\n",
       "    </tr>\n",
       "    <tr>\n",
       "      <th>40866</th>\n",
       "      <td>where to buy osmo patch</td>\n",
       "      <td>5</td>\n",
       "      <td>True</td>\n",
       "    </tr>\n",
       "    <tr>\n",
       "      <th>40873</th>\n",
       "      <td>symptoms of uterine fibroids</td>\n",
       "      <td>1</td>\n",
       "      <td>True</td>\n",
       "    </tr>\n",
       "    <tr>\n",
       "      <th>40879</th>\n",
       "      <td>mayo hospital locations</td>\n",
       "      <td>1</td>\n",
       "      <td>True</td>\n",
       "    </tr>\n",
       "    <tr>\n",
       "      <th>40880</th>\n",
       "      <td>what is scarlatina rash</td>\n",
       "      <td>1</td>\n",
       "      <td>True</td>\n",
       "    </tr>\n",
       "    <tr>\n",
       "      <th>40881</th>\n",
       "      <td>falling bladder symptoms</td>\n",
       "      <td>1</td>\n",
       "      <td>True</td>\n",
       "    </tr>\n",
       "    <tr>\n",
       "      <th>40882</th>\n",
       "      <td>how long the flu last</td>\n",
       "      <td>1</td>\n",
       "      <td>True</td>\n",
       "    </tr>\n",
       "    <tr>\n",
       "      <th>40883</th>\n",
       "      <td>natural remedies for thrush</td>\n",
       "      <td>1</td>\n",
       "      <td>True</td>\n",
       "    </tr>\n",
       "    <tr>\n",
       "      <th>40885</th>\n",
       "      <td>what causes bleeding</td>\n",
       "      <td>1</td>\n",
       "      <td>True</td>\n",
       "    </tr>\n",
       "    <tr>\n",
       "      <th>40886</th>\n",
       "      <td>prostatectomy side effects</td>\n",
       "      <td>1</td>\n",
       "      <td>True</td>\n",
       "    </tr>\n",
       "    <tr>\n",
       "      <th>...</th>\n",
       "      <td>...</td>\n",
       "      <td>...</td>\n",
       "      <td>...</td>\n",
       "    </tr>\n",
       "    <tr>\n",
       "      <th>90805</th>\n",
       "      <td>rash photos rash images</td>\n",
       "      <td>4</td>\n",
       "      <td>True</td>\n",
       "    </tr>\n",
       "    <tr>\n",
       "      <th>90806</th>\n",
       "      <td>liver cancer foods to avoid</td>\n",
       "      <td>1</td>\n",
       "      <td>True</td>\n",
       "    </tr>\n",
       "    <tr>\n",
       "      <th>90807</th>\n",
       "      <td>lupus hand rash pictures</td>\n",
       "      <td>4</td>\n",
       "      <td>True</td>\n",
       "    </tr>\n",
       "    <tr>\n",
       "      <th>90808</th>\n",
       "      <td>pre cancerous polyp in colon</td>\n",
       "      <td>0</td>\n",
       "      <td>True</td>\n",
       "    </tr>\n",
       "    <tr>\n",
       "      <th>90809</th>\n",
       "      <td>different types of catheters</td>\n",
       "      <td>1</td>\n",
       "      <td>True</td>\n",
       "    </tr>\n",
       "    <tr>\n",
       "      <th>90810</th>\n",
       "      <td>numb feet and diabetes</td>\n",
       "      <td>1</td>\n",
       "      <td>True</td>\n",
       "    </tr>\n",
       "    <tr>\n",
       "      <th>90811</th>\n",
       "      <td>herbal cure for acid reflux</td>\n",
       "      <td>1</td>\n",
       "      <td>True</td>\n",
       "    </tr>\n",
       "    <tr>\n",
       "      <th>90812</th>\n",
       "      <td>signs of gall bladder trouble</td>\n",
       "      <td>1</td>\n",
       "      <td>True</td>\n",
       "    </tr>\n",
       "    <tr>\n",
       "      <th>90813</th>\n",
       "      <td>is there a cure for glaucoma</td>\n",
       "      <td>1</td>\n",
       "      <td>True</td>\n",
       "    </tr>\n",
       "    <tr>\n",
       "      <th>90814</th>\n",
       "      <td>research studies</td>\n",
       "      <td>0</td>\n",
       "      <td>True</td>\n",
       "    </tr>\n",
       "    <tr>\n",
       "      <th>90815</th>\n",
       "      <td>wegener's kidney disease</td>\n",
       "      <td>0</td>\n",
       "      <td>True</td>\n",
       "    </tr>\n",
       "    <tr>\n",
       "      <th>90816</th>\n",
       "      <td>operating procedure template</td>\n",
       "      <td>4</td>\n",
       "      <td>True</td>\n",
       "    </tr>\n",
       "    <tr>\n",
       "      <th>90817</th>\n",
       "      <td>about h pylori bacteria</td>\n",
       "      <td>0</td>\n",
       "      <td>True</td>\n",
       "    </tr>\n",
       "    <tr>\n",
       "      <th>90818</th>\n",
       "      <td>nodule on the thyroid</td>\n",
       "      <td>0</td>\n",
       "      <td>True</td>\n",
       "    </tr>\n",
       "    <tr>\n",
       "      <th>90819</th>\n",
       "      <td>black spots on lungs</td>\n",
       "      <td>0</td>\n",
       "      <td>True</td>\n",
       "    </tr>\n",
       "    <tr>\n",
       "      <th>90820</th>\n",
       "      <td>hand washing facts</td>\n",
       "      <td>1</td>\n",
       "      <td>True</td>\n",
       "    </tr>\n",
       "    <tr>\n",
       "      <th>90821</th>\n",
       "      <td>eyelid treatment</td>\n",
       "      <td>1</td>\n",
       "      <td>True</td>\n",
       "    </tr>\n",
       "    <tr>\n",
       "      <th>90822</th>\n",
       "      <td>what causes a leaky bladder</td>\n",
       "      <td>1</td>\n",
       "      <td>True</td>\n",
       "    </tr>\n",
       "    <tr>\n",
       "      <th>90823</th>\n",
       "      <td>treat tendonitis elbow</td>\n",
       "      <td>2</td>\n",
       "      <td>True</td>\n",
       "    </tr>\n",
       "    <tr>\n",
       "      <th>90824</th>\n",
       "      <td>what is poliomyelitis</td>\n",
       "      <td>0</td>\n",
       "      <td>True</td>\n",
       "    </tr>\n",
       "    <tr>\n",
       "      <th>90825</th>\n",
       "      <td>ant bite photos</td>\n",
       "      <td>4</td>\n",
       "      <td>True</td>\n",
       "    </tr>\n",
       "    <tr>\n",
       "      <th>90826</th>\n",
       "      <td>sty in my eye treatment</td>\n",
       "      <td>1</td>\n",
       "      <td>True</td>\n",
       "    </tr>\n",
       "    <tr>\n",
       "      <th>90827</th>\n",
       "      <td>prostate cancer numbers</td>\n",
       "      <td>0</td>\n",
       "      <td>True</td>\n",
       "    </tr>\n",
       "    <tr>\n",
       "      <th>90828</th>\n",
       "      <td>home remedies itching</td>\n",
       "      <td>2</td>\n",
       "      <td>True</td>\n",
       "    </tr>\n",
       "    <tr>\n",
       "      <th>90829</th>\n",
       "      <td>nut allergy signs</td>\n",
       "      <td>1</td>\n",
       "      <td>True</td>\n",
       "    </tr>\n",
       "    <tr>\n",
       "      <th>90830</th>\n",
       "      <td>best hairball remedy for cats</td>\n",
       "      <td>1</td>\n",
       "      <td>True</td>\n",
       "    </tr>\n",
       "    <tr>\n",
       "      <th>90831</th>\n",
       "      <td>causes of salty mouth</td>\n",
       "      <td>1</td>\n",
       "      <td>True</td>\n",
       "    </tr>\n",
       "    <tr>\n",
       "      <th>90832</th>\n",
       "      <td>toe joint pain</td>\n",
       "      <td>0</td>\n",
       "      <td>True</td>\n",
       "    </tr>\n",
       "    <tr>\n",
       "      <th>90833</th>\n",
       "      <td>gastroenterology associates</td>\n",
       "      <td>0</td>\n",
       "      <td>True</td>\n",
       "    </tr>\n",
       "    <tr>\n",
       "      <th>90834</th>\n",
       "      <td>list of communication devices</td>\n",
       "      <td>1</td>\n",
       "      <td>True</td>\n",
       "    </tr>\n",
       "  </tbody>\n",
       "</table>\n",
       "<p>35835 rows × 3 columns</p>\n",
       "</div>"
      ],
      "text/plain": [
       "                             Keyword  Intent_1 duplicates\n",
       "8690       major depression symptoms         1       True\n",
       "11062     signs of depression in men         1       True\n",
       "40833             arthritis symptoms         1       True\n",
       "40835      shingles causes and cures         1       True\n",
       "40837        a1c average blood sugar         1       True\n",
       "40839       how does shingles spread         1       True\n",
       "40843      itar compliance checklist         1       True\n",
       "40844      edgepark medical supplies         1       True\n",
       "40846       severe bad breath causes         1       True\n",
       "40849    causes of chronic dry cough         1       True\n",
       "40850               names of statins         1       True\n",
       "40851   diabetic foot ulcer symptoms         1       True\n",
       "40852      homeopathic remedy finder         1       True\n",
       "40854           diet for fatty liver         1       True\n",
       "40855            shingles contagious         1       True\n",
       "40856        dandelion root benefits         1       True\n",
       "40860   leiomyosarcoma survival rate         1       True\n",
       "40861      beta blocker side effects         1       True\n",
       "40862        mold symptoms in humans         1       True\n",
       "40863               hla b27 symptoms         1       True\n",
       "40865      enlarged prostate symptom         1       True\n",
       "40866        where to buy osmo patch         5       True\n",
       "40873   symptoms of uterine fibroids         1       True\n",
       "40879        mayo hospital locations         1       True\n",
       "40880        what is scarlatina rash         1       True\n",
       "40881       falling bladder symptoms         1       True\n",
       "40882          how long the flu last         1       True\n",
       "40883    natural remedies for thrush         1       True\n",
       "40885           what causes bleeding         1       True\n",
       "40886     prostatectomy side effects         1       True\n",
       "...                              ...       ...        ...\n",
       "90805        rash photos rash images         4       True\n",
       "90806    liver cancer foods to avoid         1       True\n",
       "90807       lupus hand rash pictures         4       True\n",
       "90808   pre cancerous polyp in colon         0       True\n",
       "90809   different types of catheters         1       True\n",
       "90810         numb feet and diabetes         1       True\n",
       "90811    herbal cure for acid reflux         1       True\n",
       "90812  signs of gall bladder trouble         1       True\n",
       "90813   is there a cure for glaucoma         1       True\n",
       "90814               research studies         0       True\n",
       "90815       wegener's kidney disease         0       True\n",
       "90816   operating procedure template         4       True\n",
       "90817        about h pylori bacteria         0       True\n",
       "90818          nodule on the thyroid         0       True\n",
       "90819           black spots on lungs         0       True\n",
       "90820             hand washing facts         1       True\n",
       "90821               eyelid treatment         1       True\n",
       "90822    what causes a leaky bladder         1       True\n",
       "90823         treat tendonitis elbow         2       True\n",
       "90824          what is poliomyelitis         0       True\n",
       "90825                ant bite photos         4       True\n",
       "90826        sty in my eye treatment         1       True\n",
       "90827        prostate cancer numbers         0       True\n",
       "90828          home remedies itching         2       True\n",
       "90829              nut allergy signs         1       True\n",
       "90830  best hairball remedy for cats         1       True\n",
       "90831          causes of salty mouth         1       True\n",
       "90832                 toe joint pain         0       True\n",
       "90833    gastroenterology associates         0       True\n",
       "90834  list of communication devices         1       True\n",
       "\n",
       "[35835 rows x 3 columns]"
      ]
     },
     "execution_count": 14,
     "metadata": {},
     "output_type": "execute_result"
    }
   ],
   "source": [
    "health_data['duplicates'] = health_data.duplicated('Keyword')\n",
    "health_data[health_data['duplicates']==True]"
   ]
  },
  {
   "cell_type": "code",
   "execution_count": 8,
   "metadata": {
    "collapsed": false
   },
   "outputs": [],
   "source": [
    "healthy = health_data.drop_duplicates('Keyword')\n",
    "keywords = healthy['Keyword']\n",
    "\n"
   ]
  },
  {
   "cell_type": "code",
   "execution_count": 9,
   "metadata": {
    "collapsed": false
   },
   "outputs": [
    {
     "name": "stdout",
     "output_type": "stream",
     "text": [
      "<class 'pandas.core.frame.DataFrame'>\n",
      "Int64Index: 55000 entries, 0 to 65832\n",
      "Data columns (total 3 columns):\n",
      "Keyword       55000 non-null object\n",
      "Intent_1      55000 non-null int64\n",
      "duplicates    55000 non-null bool\n",
      "dtypes: bool(1), int64(1), object(1)\n",
      "memory usage: 1.3+ MB\n"
     ]
    },
    {
     "data": {
      "text/plain": [
       "1    21958\n",
       "0    21868\n",
       "2     5280\n",
       "4     4631\n",
       "5      642\n",
       "3      621\n",
       "Name: Intent_1, dtype: int64"
      ]
     },
     "execution_count": 9,
     "metadata": {},
     "output_type": "execute_result"
    }
   ],
   "source": [
    "healthy.info()\n",
    "healthy.Intent_1.value_counts()"
   ]
  },
  {
   "cell_type": "code",
   "execution_count": 10,
   "metadata": {
    "collapsed": false
   },
   "outputs": [],
   "source": [
    "#vect = CountVectorizer(decode_error = 'ignore', stop_words = 'english')\n",
    "#vect.fit(keywords)\n",
    "#kw_features = vect.get_feature_names()\n",
    "#instantiate CountVectorizer, fit the data, get the features\n",
    "\n",
    "#kw_dtm = vect.transform(keywords)\n",
    "#kw_array = kw_dtm.toarray()\n",
    "\n",
    "\n",
    "#kw_token_counts = pd.DataFrame({'token':kw_features, 'count':np.sum(kw_array, axis=0)})\n",
    "#kw_token_counts.sort_values(by='count', ascending=False)"
   ]
  },
  {
   "cell_type": "markdown",
   "metadata": {
    "collapsed": true
   },
   "source": [
    "my_ks = range(2,16)\n",
    "silhouettes = []\n",
    "for k in my_ks:\n",
    "    temp_kn = KMeans(k)\n",
    "    temp_kn.fit(X)\n",
    "    temp_labels = temp_kn.labels_\n",
    "    new_score = silhouette_score(X,temp_labels,metric='euclidean')\n",
    "    silhouettes.append(new_score)\n",
    "silhouettes"
   ]
  },
  {
   "cell_type": "code",
   "execution_count": 160,
   "metadata": {
    "collapsed": false
   },
   "outputs": [
    {
     "name": "stdout",
     "output_type": "stream",
     "text": [
      "<class 'pandas.core.frame.DataFrame'>\n",
      "Int64Index: 43826 entries, 1 to 65832\n",
      "Data columns (total 2 columns):\n",
      "Keyword     43826 non-null object\n",
      "Intent_1    43826 non-null int64\n",
      "dtypes: int64(1), object(1)\n",
      "memory usage: 1.0+ MB\n"
     ]
    },
    {
     "data": {
      "text/plain": [
       "1    21958\n",
       "0    21868\n",
       "Name: Intent_1, dtype: int64"
      ]
     },
     "execution_count": 160,
     "metadata": {},
     "output_type": "execute_result"
    }
   ],
   "source": [
    "#da_frame= healthy[healthy['Intent_1'] == 1]\n",
    "#kws = da_frame['Keyword']\n",
    "\n",
    "da_gen_frame = healthy[healthy['Intent_1']<2].copy()\n",
    "kws = da_gen_frame['Keyword']\n",
    "\n",
    "da_gen_frame.info()\n",
    "da_gen_frame.Intent_1.value_counts()"
   ]
  },
  {
   "cell_type": "markdown",
   "metadata": {},
   "source": [
    "#Adding this tanks precision from 78 - 74%\n",
    "#Function to clean individual keyword\n",
    "def clean_keywords(keyword):\n",
    "    \n",
    "    #Remove non-letters\n",
    "    letters_only = re.sub(\"[^a-zA-Z]\", \" \", keyword)\n",
    "    \n",
    "    #Lowercase & splits the keyword on white space so we can iterate through individual words of the keyword\n",
    "    tokenized_keyword = letters_only.lower().split()\n",
    "    \n",
    "    #Stopwords are terms that occur frequently but generally do not carry much meaning within sentence/phrase (i.e. \"the\", \"her\")\n",
    "    #The NLTK toolkit has a built-in stopword list. This line grabs the list and turns it into a set for faster processing.\n",
    "    stopword = set(stopwords.words(\"english\"))\n",
    "    \n",
    "    #Removes words contain in the stopword list\n",
    "    meaningful_words = [kw for kw in tokenized_keyword if not kw in stopword]\n",
    "    \n",
    "    #Replaces the whitespace\n",
    "    return( \" \".join( meaningful_words ))\n",
    "\n",
    "#Apply function to all the keywords!\n",
    "da_gen_frame['Keyword'] = kws.apply(clean_keywords)\n",
    "kws.head(10)"
   ]
  },
  {
   "cell_type": "code",
   "execution_count": 161,
   "metadata": {
    "collapsed": false
   },
   "outputs": [
    {
     "name": "stdout",
     "output_type": "stream",
     "text": [
      "(32869,) (32869,) (10957,) (10957,)\n"
     ]
    }
   ],
   "source": [
    "from sklearn.cross_validation import train_test_split\n",
    "X_train, X_test, y_train, y_test = train_test_split(da_gen_frame.Keyword, da_gen_frame.Intent_1, random_state=1)\n",
    "print X_train.shape, y_train.shape, X_test.shape, y_test.shape"
   ]
  },
  {
   "cell_type": "code",
   "execution_count": 162,
   "metadata": {
    "collapsed": false
   },
   "outputs": [],
   "source": [
    "#TFIDF vectorize and count\n",
    "from sklearn.feature_extraction.text import TfidfVectorizer\n",
    "tfidf_vectorizer = TfidfVectorizer(use_idf=True)\n",
    "\n",
    "train_dtm = tfidf_vectorizer.fit_transform(X_train) #fit the vectorizer to keywords\n",
    "train_features = tfidf_vectorizer.get_feature_names() #list of features/vocab used in tf-idf matrix\n",
    "train_array = X_train_dtm.toarray() #turn the matrix into an array\n",
    "\n",
    "test_dtm = tfidf_vectorizer.transform(X_test)\n",
    "test_array = X_test_dtm.toarray()\n",
    "#kws_token_counts = pd.DataFrame({'token':X_train_features, 'count':np.sum(X_train_array, axis=0)}) #create a dataframe with token\n",
    "#kws_token_counts.sort_values(by='count', ascending=False)\n"
   ]
  },
  {
   "cell_type": "code",
   "execution_count": null,
   "metadata": {
    "collapsed": true
   },
   "outputs": [],
   "source": [
    "#Multinomial Naive Bayes\n",
    "from sklearn.naive_bayes import MultinomialNB\n",
    "nb = MultinomialNB()\n",
    "nb.fit(train_dtm, y_train)"
   ]
  },
  {
   "cell_type": "code",
   "execution_count": 147,
   "metadata": {
    "collapsed": false
   },
   "outputs": [
    {
     "data": {
      "text/plain": [
       "array([1, 0, 0, ..., 1, 1, 0])"
      ]
     },
     "execution_count": 147,
     "metadata": {},
     "output_type": "execute_result"
    }
   ],
   "source": [
    "# make predictions on test data using test_dtm\n",
    "preds = nb.predict(test_dtm)\n",
    "preds"
   ]
  },
  {
   "cell_type": "code",
   "execution_count": 148,
   "metadata": {
    "collapsed": false
   },
   "outputs": [
    {
     "name": "stdout",
     "output_type": "stream",
     "text": [
      "0.778406498129\n",
      "[[4108 1367]\n",
      " [1061 4421]]\n"
     ]
    }
   ],
   "source": [
    "# compare predictions to true labels\n",
    "from sklearn import metrics\n",
    "\n",
    "print metrics.accuracy_score(y_test, preds)\n",
    "print metrics.confusion_matrix(y_test, preds)\n"
   ]
  },
  {
   "cell_type": "code",
   "execution_count": 149,
   "metadata": {
    "collapsed": false
   },
   "outputs": [
    {
     "data": {
      "text/html": [
       "<div>\n",
       "<table border=\"1\" class=\"dataframe\">\n",
       "  <thead>\n",
       "    <tr style=\"text-align: right;\">\n",
       "      <th></th>\n",
       "      <th>Actual Generic</th>\n",
       "      <th>Actual Direct Answer</th>\n",
       "    </tr>\n",
       "  </thead>\n",
       "  <tbody>\n",
       "    <tr>\n",
       "      <th>Predicted Generic</th>\n",
       "      <td>4108</td>\n",
       "      <td>1367</td>\n",
       "    </tr>\n",
       "    <tr>\n",
       "      <th>Predicted Direct Answer</th>\n",
       "      <td>1061</td>\n",
       "      <td>4421</td>\n",
       "    </tr>\n",
       "  </tbody>\n",
       "</table>\n",
       "</div>"
      ],
      "text/plain": [
       "                         Actual Generic  Actual Direct Answer\n",
       "Predicted Generic                  4108                  1367\n",
       "Predicted Direct Answer            1061                  4421"
      ]
     },
     "execution_count": 149,
     "metadata": {},
     "output_type": "execute_result"
    }
   ],
   "source": [
    "cm = metrics.confusion_matrix(y_test,preds)\n",
    "cm_df = pd.DataFrame(cm, index=['Predicted Generic', 'Predicted Direct Answer'], \n",
    "                     columns=['Actual Generic', 'Actual Direct Answer'])\n",
    "\n",
    "cm_df"
   ]
  },
  {
   "cell_type": "code",
   "execution_count": 150,
   "metadata": {
    "collapsed": false
   },
   "outputs": [
    {
     "data": {
      "text/plain": [
       "38831     irregular menstruation period\n",
       "19907          health benefits of cacao\n",
       "54448                 normal gfr by age\n",
       "60692          involuntary head shaking\n",
       "55379                overactive thyroid\n",
       "39287          magnesium as a sleep aid\n",
       "60077              liver detoxification\n",
       "37271            icy hot medicated roll\n",
       "17604              lithotripsy recovery\n",
       "47778         blood sugar normal ranges\n",
       "26396       foods with fiber for adults\n",
       "19757          bronchitis home remedies\n",
       "60586           types of brain seizures\n",
       "44846      denture cream zinc poisoning\n",
       "55756         what is black cohosh root\n",
       "36003                antibiotic listing\n",
       "19317                     flu shot 2014\n",
       "52211             cherry juice and gout\n",
       "3124                 lung cancer stages\n",
       "54781              severe carpal tunnel\n",
       "19798                      uvula cancer\n",
       "34769                 senokot laxatives\n",
       "33672            herbal muscle relaxers\n",
       "58991          cure for liver cirrhosis\n",
       "37406                  hiv aids summary\n",
       "16307        chemotherapy and radiation\n",
       "60068           swelling on side of jaw\n",
       "26063           life expectancy of 2014\n",
       "17259                   asthmatic cough\n",
       "18159     are grapes good for diabetics\n",
       "                      ...              \n",
       "21592               doctor office signs\n",
       "36024                         petri oil\n",
       "58978            the legal drinking age\n",
       "20871       late stages of lyme disease\n",
       "37957    heart attacks in women over 50\n",
       "57012        rheumatoid arthritis lupus\n",
       "39832              optometrists near me\n",
       "23754             list of birth defects\n",
       "64685             buffalo hump in women\n",
       "47230          ferritin levels in blood\n",
       "16045         willow bark for arthritis\n",
       "38595             can you see head lice\n",
       "60552        symptom checker from webmd\n",
       "56839                 what is dysphagia\n",
       "24548         pet scan to detect cancer\n",
       "2846          how many stages in cancer\n",
       "39193       recipes for hemochromatosis\n",
       "22918        what is echinacea good for\n",
       "43014             high cholestrol foods\n",
       "53935           excessive iron in blood\n",
       "48818       diuretic foods or beverages\n",
       "57181         what are uterine fibroids\n",
       "65302     natural herbs for pain relief\n",
       "2470               what is saw palmetto\n",
       "39636           gallstones in bile duct\n",
       "25363               what is hot flashes\n",
       "52679           cubital tunnel syndrome\n",
       "35375                what is normal hdl\n",
       "25782           what's ginseng used for\n",
       "50059           stent for kidney stones\n",
       "Name: Keyword, dtype: object"
      ]
     },
     "execution_count": 150,
     "metadata": {},
     "output_type": "execute_result"
    }
   ],
   "source": [
    "X_test[(y_test == 0) & (preds == 1)]"
   ]
  },
  {
   "cell_type": "code",
   "execution_count": null,
   "metadata": {
    "collapsed": true
   },
   "outputs": [],
   "source": []
  },
  {
   "cell_type": "code",
   "execution_count": null,
   "metadata": {
    "collapsed": true
   },
   "outputs": [],
   "source": []
  }
 ],
 "metadata": {
  "kernelspec": {
   "display_name": "Python 2",
   "language": "python",
   "name": "python2"
  },
  "language_info": {
   "codemirror_mode": {
    "name": "ipython",
    "version": 2
   },
   "file_extension": ".py",
   "mimetype": "text/x-python",
   "name": "python",
   "nbconvert_exporter": "python",
   "pygments_lexer": "ipython2",
   "version": "2.7.11"
  }
 },
 "nbformat": 4,
 "nbformat_minor": 0
}
