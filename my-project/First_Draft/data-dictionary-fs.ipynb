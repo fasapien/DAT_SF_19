{
 "cells": [
  {
   "cell_type": "markdown",
   "metadata": {},
   "source": [
    "## Data Dictionary\n",
    "\n",
    "## Data Features\n",
    "\n",
    "These features appear in the raw file. Currently, some are dropped for this analysis. They are listed in order of appearance (L to R) in the file.\n",
    "\n",
    "#### CS_ID (Dropped)\n",
    "ID number assigned to the keyword for internal tracking by Crowdsource.\n",
    "\n",
    "#### Keyword_ID (Dropped)\n",
    "ID number assigned to the keyword for internal tracking by Ask.\n",
    "\n",
    "#### Keyword\n",
    "Text of the keywords that were labeled by Crowdsource for User Intent and Authority.\n",
    "\n",
    "#### Intent_1\n",
    "User intent label assigned to the keyword. The user intent labels try to answer the question: \"What is the user trying to find or accomplish when they type in this keyword?\" The first part of my model is a binary classifier that tackles the two most prevalent intents in the data (Direct Answer and Generic). I will be building another classifier to handle the smaller user intent labels. The final model will take the output of the first classifier and pipe it to the second.\n",
    "\n",
    "##### Summary of User Intent Labels:\n",
    "- **Generic**:     The keyword has a clear topic, but no additional context which would indicate what the users would like to know or see. Generic seems to imply the user request: \"Show/Tell me *anything* about Topic\"   \n",
    "\n",
    "\n",
    "- **Direct Answer**:  The keyword indicates that the user has a specific question, and is looking for a specific answer. The length of the answer can vary from a single word to an entire article. This label includes requests for lists, or keywords that would prompt a list-like response. Direct Answer implies the user request: \"Show/Tell me *X* about Topic\"   \n",
    "\n",
    "\n",
    "- **Resource**:      User wants to find a specific type of resource or media type.  The resource can be confined to the web, such as reviews, calculators, or look ups, OR the resource can be something that can be printed out, downloaded, or viewed.\n",
    "\n",
    "\n",
    "- **Navigational**:    User wants to navigate to a website, or information hosted on a specific website. Business names and government agencies without additional context are included in navigational.\n",
    "\n",
    "\n",
    "- **Guide**: User's intent is to find the steps to accomplish a task or project. This includes instructions, guides, and recipes.\n",
    "\n",
    "\n",
    "- **Transactional**:   This category can be applied to keywords with any explicit transactional component-- keywords about buying, selling, renting, prices, costs, values, etc. It also is applied to all product names, any item that can be bought or sold\n",
    "\n",
    "#### Authority (Dropped)\n",
    "Label applied by Crowdsource to indicate the perceived level of authority required to address the keyword in question. Through our user intent labeling, it became increasingly clear that we also wanted to answer the question-- what is the level of expertise required to address this request? Thus, we created the Authority parameter, which has three potential classes: General reference (anyone, answer can be completely uncited), Opinion (peer-level opinion and crowd-sourced opinion), and Expert (requires expert or professional-level authority).\n",
    "\n",
    "## Current Features Used in Analysis\n",
    "\n",
    "- Keyword\n",
    "- Intent_1: Generic, Direct Answer\n",
    "\n"
   ]
  },
  {
   "cell_type": "code",
   "execution_count": null,
   "metadata": {
    "collapsed": true
   },
   "outputs": [],
   "source": []
  }
 ],
 "metadata": {
  "kernelspec": {
   "display_name": "Python 2",
   "language": "python",
   "name": "python2"
  },
  "language_info": {
   "codemirror_mode": {
    "name": "ipython",
    "version": 2
   },
   "file_extension": ".py",
   "mimetype": "text/x-python",
   "name": "python",
   "nbconvert_exporter": "python",
   "pygments_lexer": "ipython2",
   "version": "2.7.11"
  }
 },
 "nbformat": 4,
 "nbformat_minor": 0
}
