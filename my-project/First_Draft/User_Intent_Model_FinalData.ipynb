{
 "cells": [
  {
   "cell_type": "code",
   "execution_count": 2,
   "metadata": {
    "collapsed": true
   },
   "outputs": [],
   "source": [
    "import pandas as pd\n",
    "import numpy as np\n",
    "import re\n",
    "\n",
    "from sklearn.feature_extraction.text import CountVectorizer\n",
    "from sklearn.feature_extraction.text import TfidfTransformer\n",
    "from sklearn.cross_validation import train_test_split\n",
    "from sklearn.cross_validation import cross_val_score\n",
    "from sklearn.pipeline import Pipeline\n",
    "from sklearn import metrics\n",
    "\n"
   ]
  },
  {
   "cell_type": "code",
   "execution_count": 3,
   "metadata": {
    "collapsed": false
   },
   "outputs": [
    {
     "data": {
      "text/html": [
       "<div>\n",
       "<table border=\"1\" class=\"dataframe\">\n",
       "  <thead>\n",
       "    <tr style=\"text-align: right;\">\n",
       "      <th></th>\n",
       "      <th>﻿CS_ID</th>\n",
       "      <th>Keyword_ID</th>\n",
       "      <th>Keyword</th>\n",
       "      <th>Intent_1</th>\n",
       "      <th>Authority</th>\n",
       "    </tr>\n",
       "  </thead>\n",
       "  <tbody>\n",
       "    <tr>\n",
       "      <th>0</th>\n",
       "      <td>CS-0001</td>\n",
       "      <td>188195</td>\n",
       "      <td>signs of gallbladder problems</td>\n",
       "      <td>Direct Answer</td>\n",
       "      <td>Expert</td>\n",
       "    </tr>\n",
       "    <tr>\n",
       "      <th>1</th>\n",
       "      <td>CS-0002</td>\n",
       "      <td>177403</td>\n",
       "      <td>normal blood pressure chart</td>\n",
       "      <td>Resource</td>\n",
       "      <td>General</td>\n",
       "    </tr>\n",
       "    <tr>\n",
       "      <th>2</th>\n",
       "      <td>CS-0003</td>\n",
       "      <td>159458</td>\n",
       "      <td>what is normal bloodpressure</td>\n",
       "      <td>Direct Answer</td>\n",
       "      <td>General</td>\n",
       "    </tr>\n",
       "    <tr>\n",
       "      <th>3</th>\n",
       "      <td>CS-0004</td>\n",
       "      <td>152734</td>\n",
       "      <td>what is hyperlipidemia</td>\n",
       "      <td>Generic</td>\n",
       "      <td>Expert</td>\n",
       "    </tr>\n",
       "    <tr>\n",
       "      <th>4</th>\n",
       "      <td>CS-0005</td>\n",
       "      <td>139086</td>\n",
       "      <td>pill identifier</td>\n",
       "      <td>Generic</td>\n",
       "      <td>General</td>\n",
       "    </tr>\n",
       "    <tr>\n",
       "      <th>5</th>\n",
       "      <td>CS-0006</td>\n",
       "      <td>98502</td>\n",
       "      <td>blood clots in leg symptoms</td>\n",
       "      <td>Direct Answer</td>\n",
       "      <td>Expert</td>\n",
       "    </tr>\n",
       "    <tr>\n",
       "      <th>6</th>\n",
       "      <td>CS-0007</td>\n",
       "      <td>98115</td>\n",
       "      <td>blood pressure range chart</td>\n",
       "      <td>Resource</td>\n",
       "      <td>General</td>\n",
       "    </tr>\n",
       "    <tr>\n",
       "      <th>7</th>\n",
       "      <td>CS-0008</td>\n",
       "      <td>94122</td>\n",
       "      <td>ask webmd question</td>\n",
       "      <td>Navigational</td>\n",
       "      <td>General</td>\n",
       "    </tr>\n",
       "    <tr>\n",
       "      <th>8</th>\n",
       "      <td>CS-0009</td>\n",
       "      <td>90914</td>\n",
       "      <td>photos of bed bug bites</td>\n",
       "      <td>Resource</td>\n",
       "      <td>General</td>\n",
       "    </tr>\n",
       "    <tr>\n",
       "      <th>9</th>\n",
       "      <td>CS-0010</td>\n",
       "      <td>83756</td>\n",
       "      <td>lyme disease and symptoms</td>\n",
       "      <td>Direct Answer</td>\n",
       "      <td>Expert</td>\n",
       "    </tr>\n",
       "  </tbody>\n",
       "</table>\n",
       "</div>"
      ],
      "text/plain": [
       "    ﻿CS_ID  Keyword_ID                        Keyword       Intent_1 Authority\n",
       "0  CS-0001      188195  signs of gallbladder problems  Direct Answer    Expert\n",
       "1  CS-0002      177403    normal blood pressure chart       Resource   General\n",
       "2  CS-0003      159458   what is normal bloodpressure  Direct Answer   General\n",
       "3  CS-0004      152734         what is hyperlipidemia        Generic    Expert\n",
       "4  CS-0005      139086                pill identifier        Generic   General\n",
       "5  CS-0006       98502    blood clots in leg symptoms  Direct Answer    Expert\n",
       "6  CS-0007       98115     blood pressure range chart       Resource   General\n",
       "7  CS-0008       94122             ask webmd question   Navigational   General\n",
       "8  CS-0009       90914        photos of bed bug bites       Resource   General\n",
       "9  CS-0010       83756      lyme disease and symptoms  Direct Answer    Expert"
      ]
     },
     "execution_count": 3,
     "metadata": {},
     "output_type": "execute_result"
    }
   ],
   "source": [
    "data = pd.read_csv(\"healthy.txt\", header=0, \\\n",
    "                    delimiter=\"\\t\")\n",
    "data.head(10)"
   ]
  },
  {
   "cell_type": "code",
   "execution_count": 4,
   "metadata": {
    "collapsed": false
   },
   "outputs": [
    {
     "data": {
      "text/plain": [
       "Generic          43151\n",
       "Direct Answer    37765\n",
       "Guide             9138\n",
       "Resource          7293\n",
       "Transactional     1238\n",
       "Navigational      1196\n",
       "Name: Intent_1, dtype: int64"
      ]
     },
     "execution_count": 4,
     "metadata": {},
     "output_type": "execute_result"
    }
   ],
   "source": [
    "#The \"Intent_1\" column contains the values that we'll be working with for the classifier\n",
    "data.Intent_1.value_counts()"
   ]
  },
  {
   "cell_type": "code",
   "execution_count": 5,
   "metadata": {
    "collapsed": false
   },
   "outputs": [
    {
     "data": {
      "text/html": [
       "<div>\n",
       "<table border=\"1\" class=\"dataframe\">\n",
       "  <thead>\n",
       "    <tr style=\"text-align: right;\">\n",
       "      <th></th>\n",
       "      <th>﻿CS_ID</th>\n",
       "      <th>Keyword_ID</th>\n",
       "      <th>Keyword</th>\n",
       "      <th>Intent_1</th>\n",
       "      <th>Authority</th>\n",
       "    </tr>\n",
       "  </thead>\n",
       "  <tbody>\n",
       "    <tr>\n",
       "      <th>0</th>\n",
       "      <td>CS-0001</td>\n",
       "      <td>188195</td>\n",
       "      <td>signs of gallbladder problems</td>\n",
       "      <td>1</td>\n",
       "      <td>Expert</td>\n",
       "    </tr>\n",
       "    <tr>\n",
       "      <th>1</th>\n",
       "      <td>CS-0002</td>\n",
       "      <td>177403</td>\n",
       "      <td>normal blood pressure chart</td>\n",
       "      <td>4</td>\n",
       "      <td>General</td>\n",
       "    </tr>\n",
       "    <tr>\n",
       "      <th>2</th>\n",
       "      <td>CS-0003</td>\n",
       "      <td>159458</td>\n",
       "      <td>what is normal bloodpressure</td>\n",
       "      <td>1</td>\n",
       "      <td>General</td>\n",
       "    </tr>\n",
       "    <tr>\n",
       "      <th>3</th>\n",
       "      <td>CS-0004</td>\n",
       "      <td>152734</td>\n",
       "      <td>what is hyperlipidemia</td>\n",
       "      <td>0</td>\n",
       "      <td>Expert</td>\n",
       "    </tr>\n",
       "    <tr>\n",
       "      <th>4</th>\n",
       "      <td>CS-0005</td>\n",
       "      <td>139086</td>\n",
       "      <td>pill identifier</td>\n",
       "      <td>0</td>\n",
       "      <td>General</td>\n",
       "    </tr>\n",
       "    <tr>\n",
       "      <th>5</th>\n",
       "      <td>CS-0006</td>\n",
       "      <td>98502</td>\n",
       "      <td>blood clots in leg symptoms</td>\n",
       "      <td>1</td>\n",
       "      <td>Expert</td>\n",
       "    </tr>\n",
       "    <tr>\n",
       "      <th>6</th>\n",
       "      <td>CS-0007</td>\n",
       "      <td>98115</td>\n",
       "      <td>blood pressure range chart</td>\n",
       "      <td>4</td>\n",
       "      <td>General</td>\n",
       "    </tr>\n",
       "    <tr>\n",
       "      <th>7</th>\n",
       "      <td>CS-0008</td>\n",
       "      <td>94122</td>\n",
       "      <td>ask webmd question</td>\n",
       "      <td>3</td>\n",
       "      <td>General</td>\n",
       "    </tr>\n",
       "    <tr>\n",
       "      <th>8</th>\n",
       "      <td>CS-0009</td>\n",
       "      <td>90914</td>\n",
       "      <td>photos of bed bug bites</td>\n",
       "      <td>4</td>\n",
       "      <td>General</td>\n",
       "    </tr>\n",
       "    <tr>\n",
       "      <th>9</th>\n",
       "      <td>CS-0010</td>\n",
       "      <td>83756</td>\n",
       "      <td>lyme disease and symptoms</td>\n",
       "      <td>1</td>\n",
       "      <td>Expert</td>\n",
       "    </tr>\n",
       "  </tbody>\n",
       "</table>\n",
       "</div>"
      ],
      "text/plain": [
       "    ﻿CS_ID  Keyword_ID                        Keyword  Intent_1 Authority\n",
       "0  CS-0001      188195  signs of gallbladder problems         1    Expert\n",
       "1  CS-0002      177403    normal blood pressure chart         4   General\n",
       "2  CS-0003      159458   what is normal bloodpressure         1   General\n",
       "3  CS-0004      152734         what is hyperlipidemia         0    Expert\n",
       "4  CS-0005      139086                pill identifier         0   General\n",
       "5  CS-0006       98502    blood clots in leg symptoms         1    Expert\n",
       "6  CS-0007       98115     blood pressure range chart         4   General\n",
       "7  CS-0008       94122             ask webmd question         3   General\n",
       "8  CS-0009       90914        photos of bed bug bites         4   General\n",
       "9  CS-0010       83756      lyme disease and symptoms         1    Expert"
      ]
     },
     "execution_count": 5,
     "metadata": {},
     "output_type": "execute_result"
    }
   ],
   "source": [
    "#Change the values in the 'Intent_1' column to numeric labels, so they can be processed by the classifier\n",
    "data['Intent_1'] = data.Intent_1.map({'Generic': 0 , 'Direct Answer': 1, 'Guide': 2, 'Navigational': 3, 'Resource': 4, 'Transactional': 5 })\n",
    "data.head(10)"
   ]
  },
  {
   "cell_type": "code",
   "execution_count": 11,
   "metadata": {
    "collapsed": false
   },
   "outputs": [
    {
     "name": "stdout",
     "output_type": "stream",
     "text": [
      "<class 'pandas.core.frame.DataFrame'>\n",
      "Int64Index: 98140 entries, 0 to 98139\n",
      "Data columns (total 2 columns):\n",
      "Keyword     98140 non-null object\n",
      "Intent_1    98140 non-null float64\n",
      "dtypes: float64(1), object(1)\n",
      "memory usage: 2.2+ MB\n"
     ]
    }
   ],
   "source": [
    "#Some data cleanup: unused columns, null rows, remove duplicate keywords, and reindex the data.\n",
    "health_data = data.drop(['\\xef\\xbb\\xbfCS_ID', 'Keyword_ID', 'Authority'], axis=1).dropna()\n",
    "health_data = health_data.drop_duplicates('Keyword')\n",
    "health_data_reindex = health_data.reset_index(drop=True)\n",
    "health_data_reindex.info()"
   ]
  },
  {
   "cell_type": "code",
   "execution_count": 12,
   "metadata": {
    "collapsed": false
   },
   "outputs": [
    {
     "name": "stdout",
     "output_type": "stream",
     "text": [
      "<class 'pandas.core.frame.DataFrame'>\n",
      "Int64Index: 79684 entries, 0 to 98139\n",
      "Data columns (total 2 columns):\n",
      "Keyword     79684 non-null object\n",
      "Intent_1    79684 non-null float64\n",
      "dtypes: float64(1), object(1)\n",
      "memory usage: 1.8+ MB\n"
     ]
    },
    {
     "data": {
      "text/plain": [
       "0    0.539042\n",
       "1    0.460958\n",
       "Name: Intent_1, dtype: float64"
      ]
     },
     "execution_count": 12,
     "metadata": {},
     "output_type": "execute_result"
    }
   ],
   "source": [
    "#Make a new dataframe with just Generic and Direct Answer. The first portion of the classifier deals with the two largest intents\n",
    "da_gen_frame = health_data_reindex[health_data_reindex['Intent_1']<2].copy()\n",
    "kws = da_gen_frame['Keyword']\n",
    "\n",
    "da_gen_frame.info()\n",
    "da_gen_frame.Intent_1.value_counts(1)"
   ]
  },
  {
   "cell_type": "code",
   "execution_count": 13,
   "metadata": {
    "collapsed": false
   },
   "outputs": [
    {
     "name": "stdout",
     "output_type": "stream",
     "text": [
      "(59763,) (59763,) (19921,) (19921,)\n"
     ]
    }
   ],
   "source": [
    "\n",
    "#Split the data into training and test sets\n",
    "kw_features = da_gen_frame.Keyword\n",
    "kw_target = da_gen_frame.Intent_1\n",
    "\n",
    "from sklearn.cross_validation import train_test_split\n",
    "X_train, X_test, y_train, y_test = train_test_split(kw_features, kw_target, random_state=1)\n",
    "print X_train.shape, y_train.shape, X_test.shape, y_test.shape"
   ]
  },
  {
   "cell_type": "code",
   "execution_count": 10,
   "metadata": {
    "collapsed": false
   },
   "outputs": [
    {
     "ename": "NameError",
     "evalue": "name 'X_train' is not defined",
     "output_type": "error",
     "traceback": [
      "\u001b[0;31m---------------------------------------------------------------------------\u001b[0m",
      "\u001b[0;31mNameError\u001b[0m                                 Traceback (most recent call last)",
      "\u001b[0;32m<ipython-input-10-6f134327f883>\u001b[0m in \u001b[0;36m<module>\u001b[0;34m()\u001b[0m\n\u001b[1;32m      4\u001b[0m \u001b[0;34m\u001b[0m\u001b[0m\n\u001b[1;32m      5\u001b[0m \u001b[0;31m#Fit and train model\u001b[0m\u001b[0;34m\u001b[0m\u001b[0;34m\u001b[0m\u001b[0m\n\u001b[0;32m----> 6\u001b[0;31m \u001b[0mtext_clf_fit\u001b[0m \u001b[0;34m=\u001b[0m \u001b[0mtext_clf\u001b[0m\u001b[0;34m.\u001b[0m\u001b[0mfit\u001b[0m\u001b[0;34m(\u001b[0m\u001b[0mX_train\u001b[0m\u001b[0;34m,\u001b[0m \u001b[0my_train\u001b[0m\u001b[0;34m)\u001b[0m\u001b[0;34m\u001b[0m\u001b[0m\n\u001b[0m\u001b[1;32m      7\u001b[0m \u001b[0;34m\u001b[0m\u001b[0m\n\u001b[1;32m      8\u001b[0m \u001b[0;31m#Output predictions\u001b[0m\u001b[0;34m\u001b[0m\u001b[0;34m\u001b[0m\u001b[0m\n",
      "\u001b[0;31mNameError\u001b[0m: name 'X_train' is not defined"
     ]
    }
   ],
   "source": [
    "from sklearn.svm import SVC\n",
    "\n",
    "text_clf= Pipeline([('vect', CountVectorizer()), ('tfidf', TfidfTransformer()), ('clf', SVC(kernel='linear'))])\n",
    "\n",
    "#Fit and train model\n",
    "text_clf_fit = text_clf.fit(X_train, y_train)\n",
    "\n",
    "#Output predictions\n",
    "predictions = text_clf_fit.predict(X_test)\n",
    "\n",
    "#Let's look at some metrics!\n",
    "print metrics.accuracy_score(y_test, predictions)\n",
    "print metrics.confusion_matrix(y_test, predictions)\n",
    "print(roc_auc_score(y_test,predictions))\n",
    "\n",
    "cross_val_accuracy = cross_val_score(text_clf, kw_features, kw_target, cv=5).mean()\n",
    "cross_val_accuracy"
   ]
  },
  {
   "cell_type": "code",
   "execution_count": 32,
   "metadata": {
    "collapsed": false
   },
   "outputs": [
    {
     "name": "stdout",
     "output_type": "stream",
     "text": [
      "0.833140906581\n",
      "[[9858  906]\n",
      " [2418 6739]]\n",
      "0.825885132257\n"
     ]
    },
    {
     "data": {
      "text/plain": [
       "0.82893598749556774"
      ]
     },
     "execution_count": 32,
     "metadata": {},
     "output_type": "execute_result"
    }
   ],
   "source": [
    "#The SGDClassifier is a linear SVM model with stochastic gradient descent (SGD) learning.\n",
    "\n",
    "from sklearn.linear_model import SGDClassifier\n",
    "\n",
    "# Classifier pipeline-- CountVectorizer and TfidfTransformer vectorize the keywords and transform them into numerical values\n",
    "text_clf = Pipeline([('vect', CountVectorizer()),('tfidf', TfidfTransformer()),('clf', SGDClassifier(loss='hinge', penalty='l2', n_iter=5, random_state=42)), ])\n",
    "\n",
    "\n",
    "#Fit and train model\n",
    "text_clf_fit = text_clf.fit(X_train, y_train)\n",
    "\n",
    "#Output predictions\n",
    "predictions = text_clf_fit.predict(X_test)\n",
    "\n",
    "#Let's look at some metrics!\n",
    "print metrics.accuracy_score(y_test, predictions)\n",
    "print metrics.confusion_matrix(y_test, predictions)\n",
    "print(roc_auc_score(y_test,predictions))\n",
    "\n",
    "cross_val_accuracy = cross_val_score(text_clf, kw_features, kw_target, cv=5).mean()\n",
    "cross_val_accuracy"
   ]
  },
  {
   "cell_type": "code",
   "execution_count": null,
   "metadata": {
    "collapsed": true
   },
   "outputs": [],
   "source": []
  },
  {
   "cell_type": "code",
   "execution_count": null,
   "metadata": {
    "collapsed": true
   },
   "outputs": [],
   "source": []
  },
  {
   "cell_type": "code",
   "execution_count": 33,
   "metadata": {
    "collapsed": false
   },
   "outputs": [
    {
     "data": {
      "text/html": [
       "<div>\n",
       "<table border=\"1\" class=\"dataframe\">\n",
       "  <thead>\n",
       "    <tr style=\"text-align: right;\">\n",
       "      <th></th>\n",
       "      <th>Actual Generic</th>\n",
       "      <th>Actual Direct Answer</th>\n",
       "    </tr>\n",
       "  </thead>\n",
       "  <tbody>\n",
       "    <tr>\n",
       "      <th>Predicted Generic</th>\n",
       "      <td>9858</td>\n",
       "      <td>906</td>\n",
       "    </tr>\n",
       "    <tr>\n",
       "      <th>Predicted Direct Answer</th>\n",
       "      <td>2418</td>\n",
       "      <td>6739</td>\n",
       "    </tr>\n",
       "  </tbody>\n",
       "</table>\n",
       "</div>"
      ],
      "text/plain": [
       "                         Actual Generic  Actual Direct Answer\n",
       "Predicted Generic                  9858                   906\n",
       "Predicted Direct Answer            2418                  6739"
      ]
     },
     "execution_count": 33,
     "metadata": {},
     "output_type": "execute_result"
    }
   ],
   "source": [
    "#Data frame with our confusion matrix-- shows the # of labeling errors\n",
    "cm = metrics.confusion_matrix(y_test,predictions)\n",
    "cm_df = pd.DataFrame(cm, index=['Predicted Generic', 'Predicted Direct Answer'], \n",
    "                     columns=['Actual Generic', 'Actual Direct Answer'])\n",
    "\n",
    "cm_df"
   ]
  },
  {
   "cell_type": "code",
   "execution_count": 34,
   "metadata": {
    "collapsed": false
   },
   "outputs": [
    {
     "name": "stdout",
     "output_type": "stream",
     "text": [
      "             precision    recall  f1-score   support\n",
      "\n",
      "        0.0       0.80      0.92      0.86     10764\n",
      "        1.0       0.88      0.74      0.80      9157\n",
      "\n",
      "avg / total       0.84      0.83      0.83     19921\n",
      "\n"
     ]
    }
   ],
   "source": [
    "#Classification report\n",
    "from sklearn.metrics import classification_report\n",
    "print(classification_report(y_test,predictions))"
   ]
  },
  {
   "cell_type": "code",
   "execution_count": null,
   "metadata": {
    "collapsed": false
   },
   "outputs": [],
   "source": [
    "#Outputs a CSV containing the errors from my model\n",
    "incorrect_DAs = X_test[(y_test == 0) & (predictions == 1)]\n",
    "incorrect_GENs = X_test[(y_test ==1) & (predictions == 0)]\n",
    "\n",
    "with open('errors_output.txt', 'w') as w:\n",
    "    for i in incorrect_DAs:\n",
    "        w.write(i+'\\t'+'False Direct Answer'+'\\n')\n",
    "    for g in incorrect_GENs:\n",
    "        w.write(g+'\\t'+'False Generic'+'\\n')"
   ]
  },
  {
   "cell_type": "code",
   "execution_count": null,
   "metadata": {
    "collapsed": true
   },
   "outputs": [],
   "source": []
  }
 ],
 "metadata": {
  "kernelspec": {
   "display_name": "Python 2",
   "language": "python",
   "name": "python2"
  },
  "language_info": {
   "codemirror_mode": {
    "name": "ipython",
    "version": 2
   },
   "file_extension": ".py",
   "mimetype": "text/x-python",
   "name": "python",
   "nbconvert_exporter": "python",
   "pygments_lexer": "ipython2",
   "version": "2.7.11"
  }
 },
 "nbformat": 4,
 "nbformat_minor": 0
}
