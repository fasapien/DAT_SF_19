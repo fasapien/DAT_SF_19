{
 "cells": [
  {
   "cell_type": "code",
   "execution_count": 36,
   "metadata": {
    "collapsed": false
   },
   "outputs": [],
   "source": [
    "import pandas as pd\n",
    "import numpy as np\n",
    "import re\n",
    "\n",
    "from sklearn.naive_bayes import MultinomialNB\n",
    "from sklearn.feature_extraction.text import CountVectorizer\n",
    "from sklearn.feature_extraction.text import TfidfTransformer\n",
    "from sklearn.cross_validation import train_test_split\n",
    "from sklearn.cross_validation import cross_val_score\n",
    "from sklearn.pipeline import Pipeline\n",
    "from sklearn.linear_model import SGDClassifier\n",
    "\n",
    "from sklearn import metrics\n",
    "data = pd.read_csv(\"healthy.txt\", header=0, \\\n",
    "                    delimiter=\"\\t\")"
   ]
  },
  {
   "cell_type": "code",
   "execution_count": 37,
   "metadata": {
    "collapsed": false
   },
   "outputs": [
    {
     "data": {
      "text/html": [
       "<div>\n",
       "<table border=\"1\" class=\"dataframe\">\n",
       "  <thead>\n",
       "    <tr style=\"text-align: right;\">\n",
       "      <th></th>\n",
       "      <th>﻿CS_ID</th>\n",
       "      <th>Keyword_ID</th>\n",
       "      <th>Keyword</th>\n",
       "      <th>Intent_1</th>\n",
       "      <th>Authority</th>\n",
       "    </tr>\n",
       "  </thead>\n",
       "  <tbody>\n",
       "    <tr>\n",
       "      <th>0</th>\n",
       "      <td>CS-0001</td>\n",
       "      <td>188195</td>\n",
       "      <td>signs of gallbladder problems</td>\n",
       "      <td>Direct Answer</td>\n",
       "      <td>Expert</td>\n",
       "    </tr>\n",
       "    <tr>\n",
       "      <th>1</th>\n",
       "      <td>CS-0002</td>\n",
       "      <td>177403</td>\n",
       "      <td>normal blood pressure chart</td>\n",
       "      <td>Resource</td>\n",
       "      <td>General</td>\n",
       "    </tr>\n",
       "    <tr>\n",
       "      <th>2</th>\n",
       "      <td>CS-0003</td>\n",
       "      <td>159458</td>\n",
       "      <td>what is normal bloodpressure</td>\n",
       "      <td>Direct Answer</td>\n",
       "      <td>General</td>\n",
       "    </tr>\n",
       "    <tr>\n",
       "      <th>3</th>\n",
       "      <td>CS-0004</td>\n",
       "      <td>152734</td>\n",
       "      <td>what is hyperlipidemia</td>\n",
       "      <td>Generic</td>\n",
       "      <td>Expert</td>\n",
       "    </tr>\n",
       "    <tr>\n",
       "      <th>4</th>\n",
       "      <td>CS-0005</td>\n",
       "      <td>139086</td>\n",
       "      <td>pill identifier</td>\n",
       "      <td>Generic</td>\n",
       "      <td>General</td>\n",
       "    </tr>\n",
       "    <tr>\n",
       "      <th>5</th>\n",
       "      <td>CS-0006</td>\n",
       "      <td>98502</td>\n",
       "      <td>blood clots in leg symptoms</td>\n",
       "      <td>Direct Answer</td>\n",
       "      <td>Expert</td>\n",
       "    </tr>\n",
       "    <tr>\n",
       "      <th>6</th>\n",
       "      <td>CS-0007</td>\n",
       "      <td>98115</td>\n",
       "      <td>blood pressure range chart</td>\n",
       "      <td>Resource</td>\n",
       "      <td>General</td>\n",
       "    </tr>\n",
       "    <tr>\n",
       "      <th>7</th>\n",
       "      <td>CS-0008</td>\n",
       "      <td>94122</td>\n",
       "      <td>ask webmd question</td>\n",
       "      <td>Navigational</td>\n",
       "      <td>General</td>\n",
       "    </tr>\n",
       "    <tr>\n",
       "      <th>8</th>\n",
       "      <td>CS-0009</td>\n",
       "      <td>90914</td>\n",
       "      <td>photos of bed bug bites</td>\n",
       "      <td>Resource</td>\n",
       "      <td>General</td>\n",
       "    </tr>\n",
       "    <tr>\n",
       "      <th>9</th>\n",
       "      <td>CS-0010</td>\n",
       "      <td>83756</td>\n",
       "      <td>lyme disease and symptoms</td>\n",
       "      <td>Direct Answer</td>\n",
       "      <td>Expert</td>\n",
       "    </tr>\n",
       "  </tbody>\n",
       "</table>\n",
       "</div>"
      ],
      "text/plain": [
       "    ﻿CS_ID  Keyword_ID                        Keyword       Intent_1 Authority\n",
       "0  CS-0001      188195  signs of gallbladder problems  Direct Answer    Expert\n",
       "1  CS-0002      177403    normal blood pressure chart       Resource   General\n",
       "2  CS-0003      159458   what is normal bloodpressure  Direct Answer   General\n",
       "3  CS-0004      152734         what is hyperlipidemia        Generic    Expert\n",
       "4  CS-0005      139086                pill identifier        Generic   General\n",
       "5  CS-0006       98502    blood clots in leg symptoms  Direct Answer    Expert\n",
       "6  CS-0007       98115     blood pressure range chart       Resource   General\n",
       "7  CS-0008       94122             ask webmd question   Navigational   General\n",
       "8  CS-0009       90914        photos of bed bug bites       Resource   General\n",
       "9  CS-0010       83756      lyme disease and symptoms  Direct Answer    Expert"
      ]
     },
     "execution_count": 37,
     "metadata": {},
     "output_type": "execute_result"
    }
   ],
   "source": [
    "data.head(10)"
   ]
  },
  {
   "cell_type": "code",
   "execution_count": 38,
   "metadata": {
    "collapsed": false
   },
   "outputs": [
    {
     "data": {
      "text/plain": [
       "Generic          43151\n",
       "Direct Answer    37765\n",
       "Guide             9138\n",
       "Resource          7293\n",
       "Transactional     1238\n",
       "Navigational      1196\n",
       "Name: Intent_1, dtype: int64"
      ]
     },
     "execution_count": 38,
     "metadata": {},
     "output_type": "execute_result"
    }
   ],
   "source": [
    "data.Intent_1.value_counts()"
   ]
  },
  {
   "cell_type": "code",
   "execution_count": 41,
   "metadata": {
    "collapsed": false
   },
   "outputs": [],
   "source": [
    "data.Keyword.describe()\n",
    "\n",
    "data.Keyword = data.Keyword.str.lower()"
   ]
  },
  {
   "cell_type": "code",
   "execution_count": 24,
   "metadata": {
    "collapsed": false
   },
   "outputs": [
    {
     "name": "stdout",
     "output_type": "stream",
     "text": [
      "<class 'pandas.core.frame.DataFrame'>\n",
      "Int64Index: 98140 entries, 0 to 98139\n",
      "Data columns (total 2 columns):\n",
      "Keyword     98140 non-null object\n",
      "Intent_1    98140 non-null float64\n",
      "dtypes: float64(1), object(1)\n",
      "memory usage: 2.2+ MB\n"
     ]
    },
    {
     "data": {
      "text/html": [
       "<div>\n",
       "<table border=\"1\" class=\"dataframe\">\n",
       "  <thead>\n",
       "    <tr style=\"text-align: right;\">\n",
       "      <th></th>\n",
       "      <th>Keyword</th>\n",
       "      <th>Intent_1</th>\n",
       "    </tr>\n",
       "  </thead>\n",
       "  <tbody>\n",
       "    <tr>\n",
       "      <th>0</th>\n",
       "      <td>signs of gallbladder problems</td>\n",
       "      <td>1</td>\n",
       "    </tr>\n",
       "    <tr>\n",
       "      <th>1</th>\n",
       "      <td>normal blood pressure chart</td>\n",
       "      <td>4</td>\n",
       "    </tr>\n",
       "    <tr>\n",
       "      <th>2</th>\n",
       "      <td>what is normal bloodpressure</td>\n",
       "      <td>1</td>\n",
       "    </tr>\n",
       "    <tr>\n",
       "      <th>3</th>\n",
       "      <td>what is hyperlipidemia</td>\n",
       "      <td>0</td>\n",
       "    </tr>\n",
       "    <tr>\n",
       "      <th>4</th>\n",
       "      <td>pill identifier</td>\n",
       "      <td>0</td>\n",
       "    </tr>\n",
       "    <tr>\n",
       "      <th>5</th>\n",
       "      <td>blood clots in leg symptoms</td>\n",
       "      <td>1</td>\n",
       "    </tr>\n",
       "    <tr>\n",
       "      <th>6</th>\n",
       "      <td>blood pressure range chart</td>\n",
       "      <td>4</td>\n",
       "    </tr>\n",
       "    <tr>\n",
       "      <th>7</th>\n",
       "      <td>ask webmd question</td>\n",
       "      <td>3</td>\n",
       "    </tr>\n",
       "    <tr>\n",
       "      <th>8</th>\n",
       "      <td>photos of bed bug bites</td>\n",
       "      <td>4</td>\n",
       "    </tr>\n",
       "    <tr>\n",
       "      <th>9</th>\n",
       "      <td>lyme disease and symptoms</td>\n",
       "      <td>1</td>\n",
       "    </tr>\n",
       "  </tbody>\n",
       "</table>\n",
       "</div>"
      ],
      "text/plain": [
       "                         Keyword  Intent_1\n",
       "0  signs of gallbladder problems         1\n",
       "1    normal blood pressure chart         4\n",
       "2   what is normal bloodpressure         1\n",
       "3         what is hyperlipidemia         0\n",
       "4                pill identifier         0\n",
       "5    blood clots in leg symptoms         1\n",
       "6     blood pressure range chart         4\n",
       "7             ask webmd question         3\n",
       "8        photos of bed bug bites         4\n",
       "9      lyme disease and symptoms         1"
      ]
     },
     "execution_count": 24,
     "metadata": {},
     "output_type": "execute_result"
    }
   ],
   "source": [
    "#Change User Intent labels to numerical values\n",
    "data['Intent_1'] = data.Intent_1.map({'Generic': 0 , 'Direct Answer': 1, 'Guide': 2, 'Navigational': 3, 'Resource': 4, 'Transactional': 5 })\n",
    "\n",
    "#Drop unused columns, null rows, and reindex\n",
    "\n",
    "health_data = data.drop(['\\xef\\xbb\\xbfCS_ID', 'Keyword_ID', 'Authority'], axis=1)\n",
    "health_data = health_data.dropna()\n",
    "health_data = health_data.drop_duplicates('Keyword')\n",
    "health_data_reindex = health_data.reset_index(drop=True)\n",
    "health_data_reindex.info()\n",
    "health_data_reindex.head(10)"
   ]
  },
  {
   "cell_type": "code",
   "execution_count": 25,
   "metadata": {
    "collapsed": false
   },
   "outputs": [
    {
     "name": "stdout",
     "output_type": "stream",
     "text": [
      "<class 'pandas.core.frame.DataFrame'>\n",
      "Int64Index: 18456 entries, 1 to 99978\n",
      "Data columns (total 2 columns):\n",
      "Keyword     18456 non-null object\n",
      "Intent_1    18456 non-null float64\n",
      "dtypes: float64(1), object(1)\n",
      "memory usage: 432.6+ KB\n"
     ]
    },
    {
     "data": {
      "text/plain": [
       "2    9008\n",
       "4    7064\n",
       "5    1226\n",
       "3    1158\n",
       "Name: Intent_1, dtype: int64"
      ]
     },
     "execution_count": 25,
     "metadata": {},
     "output_type": "execute_result"
    }
   ],
   "source": [
    "da_other_intents = healthy[healthy['Intent_1']>1].copy()\n",
    "da_other_intents.info()\n",
    "da_other_intents.Intent_1.value_counts()"
   ]
  },
  {
   "cell_type": "markdown",
   "metadata": {
    "collapsed": false
   },
   "source": [
    "#Function to clean individual keywords\n",
    "def clean_keywords(keyword):\n",
    "    stopwords = {'a', 'about', 'above', 'after', 'again', 'against', 'aint', 'all', 'am', 'an', 'and', 'any', 'anybody', 'anyone', 'are', 'arent', 'as', 'at', 'be', 'because', 'been', 'before', 'being', 'between', 'both', 'but', 'by', 'can', 'cant', 'could', 'couldnt', 'couldve', 'd', 'didnt', 'doesnt', 'doing', 'don', 'dont', 'during', 'each', 'early', 'everybody', 'everyone', 'fact', 'few', 'for', 'from', 'further', 'gotta', 'had', 'hadnt', 'has', 'hasnt', 'have', 'havent', 'having', 'he', 'hed', 'her', 'here', 'hers', 'herself', 'hes', 'him', 'himself', 'his', 'i', 'if', 'im', 'in', 'into', 'is', 'isnt', 'it', 'itd', 'itll', 'its', 'itself', 'ive', 'lets', 'll', 'm', 'maam', 'many', 'me', 'mean', 'meaning', 'more', 'most', 'much', 'mustnt', 'mustve', 'my', 'myself', 'need', 'neednt', 'no', 'nobody', 'noone', 'nor', 'not', 'notve', 'now', 'of', 'off', 'on', 'once', 'one', 'only', 'or', 'other', 'our', 'ours', 'ourselves', 'out', 'over', 'own', 're', 's', 'same', 'shall', 'shant', 'she', 'shes', 'should', 'shouldnt', 'shouldve', 'so', 'some', 'somebody', 'someone', 'such', 't', 'than', 'that', 'thats', 'the', 'their', 'theirs', 'them', 'themselves', 'then', 'there', 'thered', 'therere', 'theres', 'these', 'they', 'theyd', 'theyll', 'theyre', 'theyve', 'this', 'those', 'through', 'too', 'us', 've', 'very', 'was', 'wasnt', 'we', 'were', 'werent', 'weve', 'what', 'whatll', 'whatre', 'whats', 'whatve', 'which', 'while', 'with', 'wont', 'would', 'wouldnt', 'wouldve', 'yet', 'you', 'youd', 'youll', 'your', 'youre', 'yours', 'yourself', 'yourselves', 'youve', 'below', 'best', 'down', 'fun', 'interesting', 'just', 'might', 'mightnt', 'mightve', 'new', 'top', 'under', 'until', 'up', 'will'}\n",
    "    tokenized_keyword = keyword.split()\n",
    "    meaningful_words = [kw for kw in tokenized_keyword if not kw in stopwords]\n",
    "    return( \" \".join( meaningful_words ))\n",
    "\n",
    "da_other_intents['Keyword'] = kws.apply(clean_keywords)\n",
    "da_other_intents['Keyword'].head(20)"
   ]
  },
  {
   "cell_type": "code",
   "execution_count": 26,
   "metadata": {
    "collapsed": false
   },
   "outputs": [
    {
     "name": "stdout",
     "output_type": "stream",
     "text": [
      "(13842,) (13842,) (4614,) (4614,)\n"
     ]
    }
   ],
   "source": [
    "kw_features = da_other_intents.Keyword\n",
    "kw_target = da_other_intents.Intent_1\n",
    "\n",
    "\n",
    "X_train, X_test, y_train, y_test = train_test_split(kw_features, kw_target, random_state=1)\n",
    "print X_train.shape, y_train.shape, X_test.shape, y_test.shape"
   ]
  },
  {
   "cell_type": "code",
   "execution_count": 27,
   "metadata": {
    "collapsed": false
   },
   "outputs": [
    {
     "name": "stdout",
     "output_type": "stream",
     "text": [
      "0.939458086367\n",
      "[[ 200   92    6]\n",
      " [   8 1756    3]\n",
      " [  10   24  263]]\n"
     ]
    }
   ],
   "source": [
    "#Multinomial Naive Bayes\n",
    "text_clf = Pipeline([('vect', CountVectorizer()), ('tfidf', TfidfTransformer()), ('clf', MultinomialNB())])\n",
    "\n",
    "text_clf = text_clf.fit(X_train, y_train)\n",
    "predictions = text_clf.predict(X_test)\n",
    "\n",
    "print metrics.accuracy_score(y_test, predictions)\n",
    "print metrics.confusion_matrix(y_test, predictions)"
   ]
  },
  {
   "cell_type": "code",
   "execution_count": 30,
   "metadata": {
    "collapsed": false
   },
   "outputs": [
    {
     "name": "stdout",
     "output_type": "stream",
     "text": [
      "0.970307758994\n",
      "[[2172    2   21    2]\n",
      " [  10  268   19    2]\n",
      " [  41   17 1741    1]\n",
      " [   4    9    9  296]]\n"
     ]
    },
    {
     "data": {
      "text/plain": [
       "0.96353501220959115"
      ]
     },
     "execution_count": 30,
     "metadata": {},
     "output_type": "execute_result"
    }
   ],
   "source": [
    "#SGDClassifier\n",
    "\n",
    "text_clf = Pipeline([('vect', CountVectorizer()),('tfidf', TfidfTransformer()),('clf', SGDClassifier(loss='hinge', penalty='l2', n_iter=5, random_state=42)), ])\n",
    "\n",
    "text_clf_fit = text_clf.fit(X_train, y_train)\n",
    "predictions = text_clf_fit.predict(X_test)\n",
    "\n",
    "print metrics.accuracy_score(y_test, predictions)\n",
    "print metrics.confusion_matrix(y_test, predictions)\n",
    "\n",
    "cross_val_accuracy = cross_val_score(text_clf, kw_features, kw_target, cv=5).mean()\n",
    "cross_val_accuracy"
   ]
  },
  {
   "cell_type": "code",
   "execution_count": 32,
   "metadata": {
    "collapsed": false
   },
   "outputs": [
    {
     "data": {
      "text/html": [
       "<div>\n",
       "<table border=\"1\" class=\"dataframe\">\n",
       "  <thead>\n",
       "    <tr style=\"text-align: right;\">\n",
       "      <th></th>\n",
       "      <th>Actual GUIDE (2)</th>\n",
       "      <th>Actual NAV (3)</th>\n",
       "      <th>Actual RES (4)</th>\n",
       "      <th>Actual BUY (5)</th>\n",
       "    </tr>\n",
       "  </thead>\n",
       "  <tbody>\n",
       "    <tr>\n",
       "      <th>Predicted GUIDE (2)</th>\n",
       "      <td>2172</td>\n",
       "      <td>2</td>\n",
       "      <td>21</td>\n",
       "      <td>2</td>\n",
       "    </tr>\n",
       "    <tr>\n",
       "      <th>Predicted NAV (3)</th>\n",
       "      <td>10</td>\n",
       "      <td>268</td>\n",
       "      <td>19</td>\n",
       "      <td>2</td>\n",
       "    </tr>\n",
       "    <tr>\n",
       "      <th>Predicted RES (4)</th>\n",
       "      <td>41</td>\n",
       "      <td>17</td>\n",
       "      <td>1741</td>\n",
       "      <td>1</td>\n",
       "    </tr>\n",
       "    <tr>\n",
       "      <th>Predicted BUY (5)</th>\n",
       "      <td>4</td>\n",
       "      <td>9</td>\n",
       "      <td>9</td>\n",
       "      <td>296</td>\n",
       "    </tr>\n",
       "  </tbody>\n",
       "</table>\n",
       "</div>"
      ],
      "text/plain": [
       "                     Actual GUIDE (2)  Actual NAV (3)  Actual RES (4)  \\\n",
       "Predicted GUIDE (2)              2172               2              21   \n",
       "Predicted NAV (3)                  10             268              19   \n",
       "Predicted RES (4)                  41              17            1741   \n",
       "Predicted BUY (5)                   4               9               9   \n",
       "\n",
       "                     Actual BUY (5)  \n",
       "Predicted GUIDE (2)               2  \n",
       "Predicted NAV (3)                 2  \n",
       "Predicted RES (4)                 1  \n",
       "Predicted BUY (5)               296  "
      ]
     },
     "execution_count": 32,
     "metadata": {},
     "output_type": "execute_result"
    }
   ],
   "source": [
    "cm = metrics.confusion_matrix(y_test,predictions)\n",
    "cm_df = pd.DataFrame(cm, index=['Predicted GUIDE (2)', 'Predicted NAV (3)', 'Predicted RES (4)', 'Predicted BUY (5)'], \n",
    "                     columns=['Actual GUIDE (2)', 'Actual NAV (3)', 'Actual RES (4)', 'Actual BUY (5)'])\n",
    "\n",
    "cm_df"
   ]
  },
  {
   "cell_type": "code",
   "execution_count": 29,
   "metadata": {
    "collapsed": false
   },
   "outputs": [
    {
     "name": "stdout",
     "output_type": "stream",
     "text": [
      "             precision    recall  f1-score   support\n",
      "\n",
      "        2.0       0.98      0.99      0.98      2197\n",
      "        3.0       0.91      0.90      0.90       299\n",
      "        4.0       0.97      0.97      0.97      1800\n",
      "        5.0       0.98      0.93      0.96       318\n",
      "\n",
      "avg / total       0.97      0.97      0.97      4614\n",
      "\n"
     ]
    }
   ],
   "source": [
    "from sklearn.metrics import classification_report\n",
    "print(classification_report(y_test,predictions))"
   ]
  },
  {
   "cell_type": "code",
   "execution_count": 35,
   "metadata": {
    "collapsed": false
   },
   "outputs": [
    {
     "data": {
      "text/plain": [
       "7001          best cure for tennis elbow\n",
       "14260           kidney failure treatment\n",
       "44215             brain injury treatment\n",
       "61478      what can i do for acid reflux\n",
       "35036        treatment for high sed rate\n",
       "17986             mosquito bite remedies\n",
       "95833            sun poisoning treatment\n",
       "98868               intertrigo treatment\n",
       "19421          treating 2nd degree burns\n",
       "77547             how to remove fibroids\n",
       "75519           herbal remedies for copd\n",
       "16029             treatment for glaucoma\n",
       "41567         mild sleep apnea treatment\n",
       "13350          how to use oil of oregano\n",
       "98032          how to lower hypertension\n",
       "27343              how to start an essay\n",
       "18724           treatment for flatulence\n",
       "95926    how to kill head lice naturally\n",
       "55373     getting rid of poison ivy rash\n",
       "79776                 urostomy procedure\n",
       "46627           how to treat lymph nodes\n",
       "7366         esophageal reflux treatment\n",
       "86442              exercise for diabetes\n",
       "74464          how to incubate duck eggs\n",
       "48693                    cure for hernia\n",
       "48196         what to do for a black eye\n",
       "76503       how to dissolve eye floaters\n",
       "50160      how can i get rid of bloating\n",
       "422         best remedy for constipation\n",
       "41917             cure for labyrinthitis\n",
       "                      ...               \n",
       "25927           home treatments for lice\n",
       "76914           diabetic ulcer treatment\n",
       "38808              treatment hemorrhoids\n",
       "48649                 cervical treatment\n",
       "38927        how to get rid of bed mites\n",
       "24997        how to cure hyperthyroidism\n",
       "17875            leg angiogram procedure\n",
       "60917          how to treat severe burns\n",
       "74663          how to remove black moles\n",
       "23523           prolapsed bladder repair\n",
       "50940           how to diagnose sciatica\n",
       "95758         h pylori treatment natural\n",
       "21595      treatment varicose veins legs\n",
       "99858                      how to do ekg\n",
       "76705            how is a dexa scan done\n",
       "9476            treatment of dehydration\n",
       "1117           home cure for acid reflux\n",
       "23693                   hipaa guidelines\n",
       "87318       how to raise red blood count\n",
       "33464         how can i get rid of fleas\n",
       "67936           cures for hypothyroidism\n",
       "57949       natural pain relief remedies\n",
       "23580           deep breathing exercises\n",
       "72869            ear congestion remedies\n",
       "99804         how to use a defibrillator\n",
       "71494         giardia parasite treatment\n",
       "70759            chipped elbow treatment\n",
       "8585            what to do for knee pain\n",
       "42340       dyslexia in adults treatment\n",
       "99690             remedy for fatty liver\n",
       "Name: Keyword, dtype: object"
      ]
     },
     "execution_count": 35,
     "metadata": {},
     "output_type": "execute_result"
    }
   ],
   "source": [
    "X_test[(y_test == 2) & (predictions == 2)]"
   ]
  },
  {
   "cell_type": "code",
   "execution_count": 45,
   "metadata": {
    "collapsed": false
   },
   "outputs": [],
   "source": [
    "# Output false negatives/positives to file? X_test[(y_test == 0) & (preds == 1)]"
   ]
  },
  {
   "cell_type": "code",
   "execution_count": 88,
   "metadata": {
    "collapsed": false
   },
   "outputs": [
    {
     "name": "stdout",
     "output_type": "stream",
     "text": [
      "clf__alpha: 0.01\n",
      "tfidf__use_idf: True\n",
      "vect__ngram_range: (1, 1)\n"
     ]
    }
   ],
   "source": [
    "#SGDClassifier Gridsearch\n",
    "from sklearn.grid_search import GridSearchCV\n",
    "parameters = {'vect__ngram_range': [(1, 1), (1, 2), (1,3)],'tfidf__use_idf': (True, False),'clf__alpha': (1e-2, 1e-3),}\n",
    "\n",
    "gs_clf = GridSearchCV(text_clf, parameters, n_jobs=-1)\n",
    "\n",
    "gs_clf = gs_clf.fit(X_train[:400], y_train[:400])\n",
    "\n",
    "best_parameters, score, _ = max(gs_clf.grid_scores_, key=lambda x: x[1])\n",
    "for param_name in sorted(parameters.keys()):\n",
    "    print(\"%s: %r\" % (param_name, best_parameters[param_name]))"
   ]
  },
  {
   "cell_type": "code",
   "execution_count": null,
   "metadata": {
    "collapsed": true
   },
   "outputs": [],
   "source": []
  }
 ],
 "metadata": {
  "kernelspec": {
   "display_name": "Python 2",
   "language": "python",
   "name": "python2"
  },
  "language_info": {
   "codemirror_mode": {
    "name": "ipython",
    "version": 2
   },
   "file_extension": ".py",
   "mimetype": "text/x-python",
   "name": "python",
   "nbconvert_exporter": "python",
   "pygments_lexer": "ipython2",
   "version": "2.7.11"
  }
 },
 "nbformat": 4,
 "nbformat_minor": 0
}
