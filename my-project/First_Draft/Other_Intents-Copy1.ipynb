{
 "cells": [
  {
   "cell_type": "code",
   "execution_count": 180,
   "metadata": {
    "collapsed": false
   },
   "outputs": [],
   "source": [
    "import pandas as pd\n",
    "import numpy as np\n",
    "import re\n",
    "\n",
    "from sklearn.feature_extraction.text import CountVectorizer\n",
    "from sklearn.feature_extraction.text import TfidfTransformer\n",
    "from sklearn.cross_validation import train_test_split\n",
    "from sklearn.cross_validation import cross_val_score\n",
    "from sklearn.pipeline import Pipeline\n",
    "from sklearn.linear_model import SGDClassifier\n",
    "from sklearn import metrics\n"
   ]
  },
  {
   "cell_type": "code",
   "execution_count": 181,
   "metadata": {
    "collapsed": false
   },
   "outputs": [
    {
     "data": {
      "text/html": [
       "<div>\n",
       "<table border=\"1\" class=\"dataframe\">\n",
       "  <thead>\n",
       "    <tr style=\"text-align: right;\">\n",
       "      <th></th>\n",
       "      <th>﻿CS_ID</th>\n",
       "      <th>Keyword_ID</th>\n",
       "      <th>Keyword</th>\n",
       "      <th>Intent_1</th>\n",
       "      <th>Authority</th>\n",
       "    </tr>\n",
       "  </thead>\n",
       "  <tbody>\n",
       "    <tr>\n",
       "      <th>0</th>\n",
       "      <td>CS-0001</td>\n",
       "      <td>188195</td>\n",
       "      <td>signs of gallbladder problems</td>\n",
       "      <td>Direct Answer</td>\n",
       "      <td>Expert</td>\n",
       "    </tr>\n",
       "    <tr>\n",
       "      <th>1</th>\n",
       "      <td>CS-0002</td>\n",
       "      <td>177403</td>\n",
       "      <td>normal blood pressure chart</td>\n",
       "      <td>Resource</td>\n",
       "      <td>General</td>\n",
       "    </tr>\n",
       "    <tr>\n",
       "      <th>2</th>\n",
       "      <td>CS-0003</td>\n",
       "      <td>159458</td>\n",
       "      <td>what is normal bloodpressure</td>\n",
       "      <td>Direct Answer</td>\n",
       "      <td>General</td>\n",
       "    </tr>\n",
       "    <tr>\n",
       "      <th>3</th>\n",
       "      <td>CS-0004</td>\n",
       "      <td>152734</td>\n",
       "      <td>what is hyperlipidemia</td>\n",
       "      <td>Generic</td>\n",
       "      <td>Expert</td>\n",
       "    </tr>\n",
       "    <tr>\n",
       "      <th>4</th>\n",
       "      <td>CS-0005</td>\n",
       "      <td>139086</td>\n",
       "      <td>pill identifier</td>\n",
       "      <td>Generic</td>\n",
       "      <td>General</td>\n",
       "    </tr>\n",
       "    <tr>\n",
       "      <th>5</th>\n",
       "      <td>CS-0006</td>\n",
       "      <td>98502</td>\n",
       "      <td>blood clots in leg symptoms</td>\n",
       "      <td>Direct Answer</td>\n",
       "      <td>Expert</td>\n",
       "    </tr>\n",
       "    <tr>\n",
       "      <th>6</th>\n",
       "      <td>CS-0007</td>\n",
       "      <td>98115</td>\n",
       "      <td>blood pressure range chart</td>\n",
       "      <td>Resource</td>\n",
       "      <td>General</td>\n",
       "    </tr>\n",
       "    <tr>\n",
       "      <th>7</th>\n",
       "      <td>CS-0008</td>\n",
       "      <td>94122</td>\n",
       "      <td>ask webmd question</td>\n",
       "      <td>Navigational</td>\n",
       "      <td>General</td>\n",
       "    </tr>\n",
       "    <tr>\n",
       "      <th>8</th>\n",
       "      <td>CS-0009</td>\n",
       "      <td>90914</td>\n",
       "      <td>photos of bed bug bites</td>\n",
       "      <td>Resource</td>\n",
       "      <td>General</td>\n",
       "    </tr>\n",
       "    <tr>\n",
       "      <th>9</th>\n",
       "      <td>CS-0010</td>\n",
       "      <td>83756</td>\n",
       "      <td>lyme disease and symptoms</td>\n",
       "      <td>Direct Answer</td>\n",
       "      <td>Expert</td>\n",
       "    </tr>\n",
       "  </tbody>\n",
       "</table>\n",
       "</div>"
      ],
      "text/plain": [
       "    ﻿CS_ID  Keyword_ID                        Keyword       Intent_1 Authority\n",
       "0  CS-0001      188195  signs of gallbladder problems  Direct Answer    Expert\n",
       "1  CS-0002      177403    normal blood pressure chart       Resource   General\n",
       "2  CS-0003      159458   what is normal bloodpressure  Direct Answer   General\n",
       "3  CS-0004      152734         what is hyperlipidemia        Generic    Expert\n",
       "4  CS-0005      139086                pill identifier        Generic   General\n",
       "5  CS-0006       98502    blood clots in leg symptoms  Direct Answer    Expert\n",
       "6  CS-0007       98115     blood pressure range chart       Resource   General\n",
       "7  CS-0008       94122             ask webmd question   Navigational   General\n",
       "8  CS-0009       90914        photos of bed bug bites       Resource   General\n",
       "9  CS-0010       83756      lyme disease and symptoms  Direct Answer    Expert"
      ]
     },
     "execution_count": 181,
     "metadata": {},
     "output_type": "execute_result"
    }
   ],
   "source": [
    "data = pd.read_csv(\"healthy.txt\", header=0, \\\n",
    "                    delimiter=\"\\t\")\n",
    "data.head(10)"
   ]
  },
  {
   "cell_type": "code",
   "execution_count": 182,
   "metadata": {
    "collapsed": false
   },
   "outputs": [
    {
     "data": {
      "text/plain": [
       "Generic          43151\n",
       "Direct Answer    37765\n",
       "Guide             9138\n",
       "Resource          7293\n",
       "Transactional     1238\n",
       "Navigational      1196\n",
       "Name: Intent_1, dtype: int64"
      ]
     },
     "execution_count": 182,
     "metadata": {},
     "output_type": "execute_result"
    }
   ],
   "source": [
    "data.Intent_1.value_counts()"
   ]
  },
  {
   "cell_type": "code",
   "execution_count": 183,
   "metadata": {
    "collapsed": false
   },
   "outputs": [
    {
     "name": "stdout",
     "output_type": "stream",
     "text": [
      "<class 'pandas.core.frame.DataFrame'>\n",
      "Int64Index: 98140 entries, 0 to 98139\n",
      "Data columns (total 2 columns):\n",
      "Keyword     98140 non-null object\n",
      "Intent_1    98140 non-null float64\n",
      "dtypes: float64(1), object(1)\n",
      "memory usage: 2.2+ MB\n"
     ]
    },
    {
     "data": {
      "text/html": [
       "<div>\n",
       "<table border=\"1\" class=\"dataframe\">\n",
       "  <thead>\n",
       "    <tr style=\"text-align: right;\">\n",
       "      <th></th>\n",
       "      <th>Keyword</th>\n",
       "      <th>Intent_1</th>\n",
       "    </tr>\n",
       "  </thead>\n",
       "  <tbody>\n",
       "    <tr>\n",
       "      <th>0</th>\n",
       "      <td>signs of gallbladder problems</td>\n",
       "      <td>1</td>\n",
       "    </tr>\n",
       "    <tr>\n",
       "      <th>1</th>\n",
       "      <td>normal blood pressure chart</td>\n",
       "      <td>4</td>\n",
       "    </tr>\n",
       "    <tr>\n",
       "      <th>2</th>\n",
       "      <td>what is normal bloodpressure</td>\n",
       "      <td>1</td>\n",
       "    </tr>\n",
       "    <tr>\n",
       "      <th>3</th>\n",
       "      <td>what is hyperlipidemia</td>\n",
       "      <td>0</td>\n",
       "    </tr>\n",
       "    <tr>\n",
       "      <th>4</th>\n",
       "      <td>pill identifier</td>\n",
       "      <td>0</td>\n",
       "    </tr>\n",
       "    <tr>\n",
       "      <th>5</th>\n",
       "      <td>blood clots in leg symptoms</td>\n",
       "      <td>1</td>\n",
       "    </tr>\n",
       "    <tr>\n",
       "      <th>6</th>\n",
       "      <td>blood pressure range chart</td>\n",
       "      <td>4</td>\n",
       "    </tr>\n",
       "    <tr>\n",
       "      <th>7</th>\n",
       "      <td>ask webmd question</td>\n",
       "      <td>3</td>\n",
       "    </tr>\n",
       "    <tr>\n",
       "      <th>8</th>\n",
       "      <td>photos of bed bug bites</td>\n",
       "      <td>4</td>\n",
       "    </tr>\n",
       "    <tr>\n",
       "      <th>9</th>\n",
       "      <td>lyme disease and symptoms</td>\n",
       "      <td>1</td>\n",
       "    </tr>\n",
       "  </tbody>\n",
       "</table>\n",
       "</div>"
      ],
      "text/plain": [
       "                         Keyword  Intent_1\n",
       "0  signs of gallbladder problems         1\n",
       "1    normal blood pressure chart         4\n",
       "2   what is normal bloodpressure         1\n",
       "3         what is hyperlipidemia         0\n",
       "4                pill identifier         0\n",
       "5    blood clots in leg symptoms         1\n",
       "6     blood pressure range chart         4\n",
       "7             ask webmd question         3\n",
       "8        photos of bed bug bites         4\n",
       "9      lyme disease and symptoms         1"
      ]
     },
     "execution_count": 183,
     "metadata": {},
     "output_type": "execute_result"
    }
   ],
   "source": [
    "#Change User Intent labels to numerical values\n",
    "data['Intent_1'] = data.Intent_1.map({'Generic': 0 , 'Direct Answer': 1, 'Guide': 2, 'Navigational': 3, 'Resource': 4, 'Transactional': 5 })\n",
    "\n",
    "#Drop unused columns, null rows, and reindex\n",
    "\n",
    "health_data = data.drop(['\\xef\\xbb\\xbfCS_ID', 'Keyword_ID', 'Authority'], axis=1).dropna()\n",
    "health_data = health_data.drop_duplicates('Keyword')\n",
    "health_data_reindex = health_data.reset_index(drop=True)\n",
    "health_data_reindex.info()\n",
    "health_data_reindex.head(10)"
   ]
  },
  {
   "cell_type": "code",
   "execution_count": 184,
   "metadata": {
    "collapsed": false
   },
   "outputs": [],
   "source": [
    "da_other_intents = health_data_reindex[health_data_reindex['Intent_1']>1].copy()\n",
    "da_other_intents.Intent_1.value_counts()\n",
    "\n",
    "kw_target = da_other_intents.Intent_1\n",
    "kw_features = da_other_intents.Keyword\n",
    "\n",
    "X_train, X_test, Y_train, Y_test = train_test_split(kw_features, kw_target, test_size=0.2, random_state=1) \n",
    "\n",
    "#da_other_intents.Intent_1.value_counts()\n",
    "\n",
    "#train, test = train_test_split(da_other_intents, test_size=0.2, random_state=1)"
   ]
  },
  {
   "cell_type": "code",
   "execution_count": 185,
   "metadata": {
    "collapsed": false
   },
   "outputs": [],
   "source": [
    "from sklearn.linear_model import SGDClassifier\n",
    "\n",
    "# Classifier pipeline-- CountVectorizer and TfidfTransformer vectorize the keywords and transform them into numerical values\n",
    "text_clf = Pipeline([('vect', CountVectorizer()),('tfidf', TfidfTransformer()),('clf', SGDClassifier(loss='hinge', penalty='l2', n_iter=5, random_state=42, class_weight='balanced')), ])\n",
    "\n",
    "\n",
    "#Fit and train model\n",
    "text_clf_fit = text_clf.fit(X_train, Y_train)\n",
    "\n",
    "#Output predictions\n",
    "predictions = text_clf_fit.predict(X_test)"
   ]
  },
  {
   "cell_type": "code",
   "execution_count": 186,
   "metadata": {
    "collapsed": false
   },
   "outputs": [
    {
     "name": "stdout",
     "output_type": "stream",
     "text": [
      "             precision    recall  f1-score   support\n",
      "\n",
      "        2.0       0.98      0.98      0.98      1773\n",
      "        3.0       0.84      0.95      0.89       237\n",
      "        4.0       0.97      0.96      0.97      1431\n",
      "        5.0       0.98      0.94      0.96       251\n",
      "\n",
      "avg / total       0.97      0.97      0.97      3692\n",
      "\n"
     ]
    }
   ],
   "source": [
    "#Classification report\n",
    "from sklearn.metrics import classification_report\n",
    "print(classification_report(y_test,predictions))"
   ]
  },
  {
   "cell_type": "code",
   "execution_count": 169,
   "metadata": {
    "collapsed": false
   },
   "outputs": [],
   "source": [
    "#Undersample Classes\n",
    "classes = [2,3,4,5]\n",
    "subsets = []\n",
    "for i in classes:\n",
    "    subset = train[train.Intent_1 == i].sample(921)\n",
    "    subsets.append(subset)\n",
    "    \n",
    "train_subset = pd.concat(subsets)\n",
    "\n",
    "X_train, y_train = train_subset['Keyword'], train_subset['Intent_1']\n",
    "X_test, y_test = test['Keyword'], test['Intent_1']"
   ]
  },
  {
   "cell_type": "code",
   "execution_count": 170,
   "metadata": {
    "collapsed": true
   },
   "outputs": [],
   "source": [
    "#LinearSVC\n",
    "from sklearn.svm import LinearSVC\n",
    "\n",
    "text_clf = Pipeline([('vect', CountVectorizer()),('tfidf', TfidfTransformer()),('clf', LinearSVC()), ])\n",
    "\n",
    "text_clf_fit = text_clf.fit(X_train, y_train)\n",
    "predictions = text_clf_fit.predict(X_test)"
   ]
  },
  {
   "cell_type": "code",
   "execution_count": 171,
   "metadata": {
    "collapsed": false
   },
   "outputs": [
    {
     "name": "stdout",
     "output_type": "stream",
     "text": [
      "0.947724810401\n",
      "[[1710   23   39    1]\n",
      " [   2  229    2    4]\n",
      " [  38   70 1322    1]\n",
      " [   0   13    0  238]]\n"
     ]
    },
    {
     "data": {
      "text/html": [
       "<div>\n",
       "<table border=\"1\" class=\"dataframe\">\n",
       "  <thead>\n",
       "    <tr style=\"text-align: right;\">\n",
       "      <th></th>\n",
       "      <th>Actual GUIDE (2)</th>\n",
       "      <th>Actual NAV (3)</th>\n",
       "      <th>Actual RES (4)</th>\n",
       "      <th>Actual BUY (5)</th>\n",
       "    </tr>\n",
       "  </thead>\n",
       "  <tbody>\n",
       "    <tr>\n",
       "      <th>Predicted GUIDE (2)</th>\n",
       "      <td>1710</td>\n",
       "      <td>23</td>\n",
       "      <td>39</td>\n",
       "      <td>1</td>\n",
       "    </tr>\n",
       "    <tr>\n",
       "      <th>Predicted NAV (3)</th>\n",
       "      <td>2</td>\n",
       "      <td>229</td>\n",
       "      <td>2</td>\n",
       "      <td>4</td>\n",
       "    </tr>\n",
       "    <tr>\n",
       "      <th>Predicted RES (4)</th>\n",
       "      <td>38</td>\n",
       "      <td>70</td>\n",
       "      <td>1322</td>\n",
       "      <td>1</td>\n",
       "    </tr>\n",
       "    <tr>\n",
       "      <th>Predicted BUY (5)</th>\n",
       "      <td>0</td>\n",
       "      <td>13</td>\n",
       "      <td>0</td>\n",
       "      <td>238</td>\n",
       "    </tr>\n",
       "  </tbody>\n",
       "</table>\n",
       "</div>"
      ],
      "text/plain": [
       "                     Actual GUIDE (2)  Actual NAV (3)  Actual RES (4)  \\\n",
       "Predicted GUIDE (2)              1710              23              39   \n",
       "Predicted NAV (3)                   2             229               2   \n",
       "Predicted RES (4)                  38              70            1322   \n",
       "Predicted BUY (5)                   0              13               0   \n",
       "\n",
       "                     Actual BUY (5)  \n",
       "Predicted GUIDE (2)               1  \n",
       "Predicted NAV (3)                 4  \n",
       "Predicted RES (4)                 1  \n",
       "Predicted BUY (5)               238  "
      ]
     },
     "execution_count": 171,
     "metadata": {},
     "output_type": "execute_result"
    }
   ],
   "source": [
    "#Evaluation Block\n",
    "print metrics.accuracy_score(y_test, predictions)\n",
    "print metrics.confusion_matrix(y_test, predictions)\n",
    "\n",
    "cross_val_accuracy = cross_val_score(text_clf, kw_features, kw_target, cv=5).mean()\n",
    "cross_val_accuracy\n",
    "\n",
    "cm = metrics.confusion_matrix(y_test,predictions)\n",
    "cm_df = pd.DataFrame(cm, index=['Predicted GUIDE (2)', 'Predicted NAV (3)', 'Predicted RES (4)', 'Predicted BUY (5)'], \n",
    "                     columns=['Actual GUIDE (2)', 'Actual NAV (3)', 'Actual RES (4)', 'Actual BUY (5)'])\n",
    "\n",
    "cm_df"
   ]
  },
  {
   "cell_type": "code",
   "execution_count": 172,
   "metadata": {
    "collapsed": false
   },
   "outputs": [
    {
     "name": "stdout",
     "output_type": "stream",
     "text": [
      "0.947724810401\n",
      "[[1710   23   39    1]\n",
      " [   2  229    2    4]\n",
      " [  38   70 1322    1]\n",
      " [   0   13    0  238]]\n"
     ]
    },
    {
     "data": {
      "text/html": [
       "<div>\n",
       "<table border=\"1\" class=\"dataframe\">\n",
       "  <thead>\n",
       "    <tr style=\"text-align: right;\">\n",
       "      <th></th>\n",
       "      <th>Actual GUIDE (2)</th>\n",
       "      <th>Actual NAV (3)</th>\n",
       "      <th>Actual RES (4)</th>\n",
       "      <th>Actual BUY (5)</th>\n",
       "    </tr>\n",
       "  </thead>\n",
       "  <tbody>\n",
       "    <tr>\n",
       "      <th>Predicted GUIDE (2)</th>\n",
       "      <td>1710</td>\n",
       "      <td>23</td>\n",
       "      <td>39</td>\n",
       "      <td>1</td>\n",
       "    </tr>\n",
       "    <tr>\n",
       "      <th>Predicted NAV (3)</th>\n",
       "      <td>2</td>\n",
       "      <td>229</td>\n",
       "      <td>2</td>\n",
       "      <td>4</td>\n",
       "    </tr>\n",
       "    <tr>\n",
       "      <th>Predicted RES (4)</th>\n",
       "      <td>38</td>\n",
       "      <td>70</td>\n",
       "      <td>1322</td>\n",
       "      <td>1</td>\n",
       "    </tr>\n",
       "    <tr>\n",
       "      <th>Predicted BUY (5)</th>\n",
       "      <td>0</td>\n",
       "      <td>13</td>\n",
       "      <td>0</td>\n",
       "      <td>238</td>\n",
       "    </tr>\n",
       "  </tbody>\n",
       "</table>\n",
       "</div>"
      ],
      "text/plain": [
       "                     Actual GUIDE (2)  Actual NAV (3)  Actual RES (4)  \\\n",
       "Predicted GUIDE (2)              1710              23              39   \n",
       "Predicted NAV (3)                   2             229               2   \n",
       "Predicted RES (4)                  38              70            1322   \n",
       "Predicted BUY (5)                   0              13               0   \n",
       "\n",
       "                     Actual BUY (5)  \n",
       "Predicted GUIDE (2)               1  \n",
       "Predicted NAV (3)                 4  \n",
       "Predicted RES (4)                 1  \n",
       "Predicted BUY (5)               238  "
      ]
     },
     "execution_count": 172,
     "metadata": {},
     "output_type": "execute_result"
    }
   ],
   "source": [
    "#Evaluation Block\n",
    "print metrics.accuracy_score(y_test, predictions)\n",
    "print metrics.confusion_matrix(y_test, predictions)\n",
    "\n",
    "cross_val_accuracy = cross_val_score(text_clf, kw_features, kw_target, cv=5).mean()\n",
    "cross_val_accuracy\n",
    "\n",
    "cm = metrics.confusion_matrix(y_test,predictions)\n",
    "cm_df = pd.DataFrame(cm, index=['Predicted GUIDE (2)', 'Predicted NAV (3)', 'Predicted RES (4)', 'Predicted BUY (5)'], \n",
    "                     columns=['Actual GUIDE (2)', 'Actual NAV (3)', 'Actual RES (4)', 'Actual BUY (5)'])\n",
    "\n",
    "cm_df"
   ]
  },
  {
   "cell_type": "code",
   "execution_count": 173,
   "metadata": {
    "collapsed": false
   },
   "outputs": [
    {
     "name": "stdout",
     "output_type": "stream",
     "text": [
      "             precision    recall  f1-score   support\n",
      "\n",
      "        2.0       0.98      0.96      0.97      1773\n",
      "        3.0       0.68      0.97      0.80       237\n",
      "        4.0       0.97      0.92      0.95      1431\n",
      "        5.0       0.98      0.95      0.96       251\n",
      "\n",
      "avg / total       0.96      0.95      0.95      3692\n",
      "\n"
     ]
    }
   ],
   "source": [
    "#Classification Report\n",
    "from sklearn.metrics import classification_report\n",
    "print(classification_report(y_test,predictions))"
   ]
  },
  {
   "cell_type": "markdown",
   "metadata": {
    "collapsed": false
   },
   "source": [
    "#Evaluation Block?\n",
    "classes = [2,3,4,5]\n",
    "\n",
    "with open('errors_output.txt', 'w') as w:\n",
    "    for i in classes:\n",
    "        errors = X_test[(y_test == i) & (predictions != i)]\n",
    "        w.write(errors + '\\t'+ i )\n",
    "for i in classes:\n",
    "    errors = X_test[(y_test == i) & (predictions != i)]\n",
    "    \n",
    "\n",
    "errors = X_test[(y_test == 3) & (predictions != 3)]\n",
    "\n",
    "\n",
    "with open('errors_output.txt', 'w') as w:\n",
    "    for i in incorrect_DAs:\n",
    "        w.write(i+'\\t'+'False Direct Answer'+'\\n')\n",
    "    for g in incorrect_GENs:\n",
    "        w.write(g+'\\t'+'False Generic'+'\\n')"
   ]
  },
  {
   "cell_type": "code",
   "execution_count": 158,
   "metadata": {
    "collapsed": false
   },
   "outputs": [
    {
     "data": {
      "text/plain": [
       "69557               edgepark supplies\n",
       "1535        zenni optical coupon code\n",
       "30376       coupon code zenni optical\n",
       "78774             shalom nursing home\n",
       "86922               somnapure walmart\n",
       "79566           airamid nursing homes\n",
       "63194    renaissance treatment center\n",
       "12257     crisis relief international\n",
       "5270      take a depression test free\n",
       "40037          alcohol addiction quiz\n",
       "Name: Keyword, dtype: object"
      ]
     },
     "execution_count": 158,
     "metadata": {},
     "output_type": "execute_result"
    }
   ],
   "source": [
    "errors = X_test[(y_test == 3) & (predictions != 3)]\n",
    "errors"
   ]
  },
  {
   "cell_type": "code",
   "execution_count": null,
   "metadata": {
    "collapsed": false
   },
   "outputs": [],
   "source": []
  },
  {
   "cell_type": "code",
   "execution_count": null,
   "metadata": {
    "collapsed": false
   },
   "outputs": [],
   "source": []
  },
  {
   "cell_type": "code",
   "execution_count": null,
   "metadata": {
    "collapsed": false
   },
   "outputs": [],
   "source": []
  },
  {
   "cell_type": "code",
   "execution_count": null,
   "metadata": {
    "collapsed": true
   },
   "outputs": [],
   "source": []
  }
 ],
 "metadata": {
  "kernelspec": {
   "display_name": "Python 2",
   "language": "python",
   "name": "python2"
  },
  "language_info": {
   "codemirror_mode": {
    "name": "ipython",
    "version": 2
   },
   "file_extension": ".py",
   "mimetype": "text/x-python",
   "name": "python",
   "nbconvert_exporter": "python",
   "pygments_lexer": "ipython2",
   "version": "2.7.11"
  }
 },
 "nbformat": 4,
 "nbformat_minor": 0
}
