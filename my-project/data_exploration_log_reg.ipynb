{
 "cells": [
  {
   "cell_type": "code",
   "execution_count": 1,
   "metadata": {
    "collapsed": false
   },
   "outputs": [],
   "source": [
    "import pandas as pd\n",
    "import numpy as np\n",
    "import re\n",
    "\n",
    "from sklearn.feature_extraction.text import CountVectorizer\n",
    "from sklearn.feature_extraction.text import TfidfTransformer\n",
    "from nltk.corpus import stopwords\n",
    "from sklearn.preprocessing import StandardScaler\n",
    "from sklearn.linear_model import LogisticRegression\n",
    "from sklearn.cross_validation import train_test_split\n",
    "from sklearn.cross_validation import cross_val_score\n",
    "\n",
    "from sklearn import metrics\n",
    "data = pd.read_csv(\"health_data.tsv\", header=0, \\\n",
    "                    delimiter=\"\\t\")"
   ]
  },
  {
   "cell_type": "code",
   "execution_count": 2,
   "metadata": {
    "collapsed": false
   },
   "outputs": [
    {
     "data": {
      "text/html": [
       "<div>\n",
       "<table border=\"1\" class=\"dataframe\">\n",
       "  <thead>\n",
       "    <tr style=\"text-align: right;\">\n",
       "      <th></th>\n",
       "      <th>CS_ID</th>\n",
       "      <th>Keyword_ID</th>\n",
       "      <th>Keyword</th>\n",
       "      <th>Intent_1</th>\n",
       "      <th>Authority</th>\n",
       "    </tr>\n",
       "  </thead>\n",
       "  <tbody>\n",
       "    <tr>\n",
       "      <th>0</th>\n",
       "      <td>CS_0001</td>\n",
       "      <td>3486</td>\n",
       "      <td>poison oak pictures</td>\n",
       "      <td>Resource</td>\n",
       "      <td>General</td>\n",
       "    </tr>\n",
       "    <tr>\n",
       "      <th>1</th>\n",
       "      <td>CS_0002</td>\n",
       "      <td>3486</td>\n",
       "      <td>best foods for hypothyroidism</td>\n",
       "      <td>Direct Answer</td>\n",
       "      <td>Expert</td>\n",
       "    </tr>\n",
       "    <tr>\n",
       "      <th>2</th>\n",
       "      <td>CS_0003</td>\n",
       "      <td>3486</td>\n",
       "      <td>kidney stones in women</td>\n",
       "      <td>Generic</td>\n",
       "      <td>Expert</td>\n",
       "    </tr>\n",
       "    <tr>\n",
       "      <th>3</th>\n",
       "      <td>CS_0004</td>\n",
       "      <td>3484</td>\n",
       "      <td>what spider bites look like</td>\n",
       "      <td>Resource</td>\n",
       "      <td>General</td>\n",
       "    </tr>\n",
       "    <tr>\n",
       "      <th>4</th>\n",
       "      <td>CS_0005</td>\n",
       "      <td>3484</td>\n",
       "      <td>fifths disease picture of rash</td>\n",
       "      <td>Resource</td>\n",
       "      <td>General</td>\n",
       "    </tr>\n",
       "    <tr>\n",
       "      <th>5</th>\n",
       "      <td>CS_0006</td>\n",
       "      <td>3484</td>\n",
       "      <td>multi myeloma life expectancy</td>\n",
       "      <td>Direct Answer</td>\n",
       "      <td>Expert</td>\n",
       "    </tr>\n",
       "    <tr>\n",
       "      <th>6</th>\n",
       "      <td>CS_0007</td>\n",
       "      <td>3483</td>\n",
       "      <td>pictures of impetigo</td>\n",
       "      <td>Resource</td>\n",
       "      <td>General</td>\n",
       "    </tr>\n",
       "    <tr>\n",
       "      <th>7</th>\n",
       "      <td>CS_0008</td>\n",
       "      <td>3483</td>\n",
       "      <td>how serious is spinal stenosis</td>\n",
       "      <td>Direct Answer</td>\n",
       "      <td>Expert</td>\n",
       "    </tr>\n",
       "    <tr>\n",
       "      <th>8</th>\n",
       "      <td>CS_0009</td>\n",
       "      <td>3483</td>\n",
       "      <td>how to correct hammer toe</td>\n",
       "      <td>Guide</td>\n",
       "      <td>Expert</td>\n",
       "    </tr>\n",
       "    <tr>\n",
       "      <th>9</th>\n",
       "      <td>CS_0010</td>\n",
       "      <td>3482</td>\n",
       "      <td>ear wax removal peroxide</td>\n",
       "      <td>Direct Answer</td>\n",
       "      <td>Expert</td>\n",
       "    </tr>\n",
       "  </tbody>\n",
       "</table>\n",
       "</div>"
      ],
      "text/plain": [
       "     CS_ID  Keyword_ID                         Keyword       Intent_1  \\\n",
       "0  CS_0001        3486             poison oak pictures       Resource   \n",
       "1  CS_0002        3486   best foods for hypothyroidism  Direct Answer   \n",
       "2  CS_0003        3486          kidney stones in women        Generic   \n",
       "3  CS_0004        3484     what spider bites look like       Resource   \n",
       "4  CS_0005        3484  fifths disease picture of rash       Resource   \n",
       "5  CS_0006        3484   multi myeloma life expectancy  Direct Answer   \n",
       "6  CS_0007        3483            pictures of impetigo       Resource   \n",
       "7  CS_0008        3483  how serious is spinal stenosis  Direct Answer   \n",
       "8  CS_0009        3483       how to correct hammer toe          Guide   \n",
       "9  CS_0010        3482        ear wax removal peroxide  Direct Answer   \n",
       "\n",
       "  Authority  \n",
       "0   General  \n",
       "1    Expert  \n",
       "2    Expert  \n",
       "3   General  \n",
       "4   General  \n",
       "5    Expert  \n",
       "6   General  \n",
       "7    Expert  \n",
       "8    Expert  \n",
       "9    Expert  "
      ]
     },
     "execution_count": 2,
     "metadata": {},
     "output_type": "execute_result"
    }
   ],
   "source": [
    "data.head(10)"
   ]
  },
  {
   "cell_type": "code",
   "execution_count": 3,
   "metadata": {
    "collapsed": false
   },
   "outputs": [
    {
     "data": {
      "text/plain": [
       "Direct Answer    43198\n",
       "Generic          30972\n",
       "Guide             7642\n",
       "Resource          6948\n",
       "Transactional     1137\n",
       "Navigational       938\n",
       "Name: Intent_1, dtype: int64"
      ]
     },
     "execution_count": 3,
     "metadata": {},
     "output_type": "execute_result"
    }
   ],
   "source": [
    "data.Intent_1.value_counts()"
   ]
  },
  {
   "cell_type": "code",
   "execution_count": 4,
   "metadata": {
    "collapsed": false
   },
   "outputs": [
    {
     "data": {
      "text/plain": [
       "count                         90835\n",
       "unique                        55000\n",
       "top       major depression symptoms\n",
       "freq                              4\n",
       "Name: Keyword, dtype: object"
      ]
     },
     "execution_count": 4,
     "metadata": {},
     "output_type": "execute_result"
    }
   ],
   "source": [
    "data.Keyword.describe()"
   ]
  },
  {
   "cell_type": "code",
   "execution_count": 5,
   "metadata": {
    "collapsed": false
   },
   "outputs": [
    {
     "name": "stdout",
     "output_type": "stream",
     "text": [
      "<class 'pandas.core.frame.DataFrame'>\n",
      "Int64Index: 90835 entries, 0 to 90834\n",
      "Data columns (total 2 columns):\n",
      "Keyword     90835 non-null object\n",
      "Intent_1    90835 non-null int64\n",
      "dtypes: int64(1), object(1)\n",
      "memory usage: 2.1+ MB\n"
     ]
    }
   ],
   "source": [
    "#Change User Intent labels to numerical values\n",
    "data['Intent_1'] = data.Intent_1.map({'Generic': 0 , 'Direct Answer': 1, 'Guide': 2, 'Navigational': 3, 'Resource': 4, 'Transactional': 5 })\n",
    "\n",
    "health_data = data.drop(['CS_ID', 'Keyword_ID', 'Authority'], axis=1)\n",
    "health_data.info()"
   ]
  },
  {
   "cell_type": "code",
   "execution_count": 6,
   "metadata": {
    "collapsed": false
   },
   "outputs": [
    {
     "data": {
      "text/html": [
       "<div>\n",
       "<table border=\"1\" class=\"dataframe\">\n",
       "  <thead>\n",
       "    <tr style=\"text-align: right;\">\n",
       "      <th></th>\n",
       "      <th>Keyword</th>\n",
       "      <th>Intent_1</th>\n",
       "    </tr>\n",
       "  </thead>\n",
       "  <tbody>\n",
       "    <tr>\n",
       "      <th>0</th>\n",
       "      <td>poison oak pictures</td>\n",
       "      <td>4</td>\n",
       "    </tr>\n",
       "    <tr>\n",
       "      <th>1</th>\n",
       "      <td>best foods for hypothyroidism</td>\n",
       "      <td>1</td>\n",
       "    </tr>\n",
       "    <tr>\n",
       "      <th>2</th>\n",
       "      <td>kidney stones in women</td>\n",
       "      <td>0</td>\n",
       "    </tr>\n",
       "    <tr>\n",
       "      <th>3</th>\n",
       "      <td>what spider bites look like</td>\n",
       "      <td>4</td>\n",
       "    </tr>\n",
       "    <tr>\n",
       "      <th>4</th>\n",
       "      <td>fifths disease picture of rash</td>\n",
       "      <td>4</td>\n",
       "    </tr>\n",
       "    <tr>\n",
       "      <th>5</th>\n",
       "      <td>multi myeloma life expectancy</td>\n",
       "      <td>1</td>\n",
       "    </tr>\n",
       "    <tr>\n",
       "      <th>6</th>\n",
       "      <td>pictures of impetigo</td>\n",
       "      <td>4</td>\n",
       "    </tr>\n",
       "    <tr>\n",
       "      <th>7</th>\n",
       "      <td>how serious is spinal stenosis</td>\n",
       "      <td>1</td>\n",
       "    </tr>\n",
       "    <tr>\n",
       "      <th>8</th>\n",
       "      <td>how to correct hammer toe</td>\n",
       "      <td>2</td>\n",
       "    </tr>\n",
       "    <tr>\n",
       "      <th>9</th>\n",
       "      <td>ear wax removal peroxide</td>\n",
       "      <td>1</td>\n",
       "    </tr>\n",
       "    <tr>\n",
       "      <th>10</th>\n",
       "      <td>side effects of diabetes</td>\n",
       "      <td>1</td>\n",
       "    </tr>\n",
       "    <tr>\n",
       "      <th>11</th>\n",
       "      <td>pictures of foot rashes</td>\n",
       "      <td>4</td>\n",
       "    </tr>\n",
       "    <tr>\n",
       "      <th>12</th>\n",
       "      <td>zenni optical discount code</td>\n",
       "      <td>5</td>\n",
       "    </tr>\n",
       "    <tr>\n",
       "      <th>13</th>\n",
       "      <td>where is pancreas</td>\n",
       "      <td>1</td>\n",
       "    </tr>\n",
       "    <tr>\n",
       "      <th>14</th>\n",
       "      <td>what causes blood clots</td>\n",
       "      <td>1</td>\n",
       "    </tr>\n",
       "    <tr>\n",
       "      <th>15</th>\n",
       "      <td>canker sores on the tongue</td>\n",
       "      <td>0</td>\n",
       "    </tr>\n",
       "    <tr>\n",
       "      <th>16</th>\n",
       "      <td>what is enlarged prostate</td>\n",
       "      <td>0</td>\n",
       "    </tr>\n",
       "    <tr>\n",
       "      <th>17</th>\n",
       "      <td>what is bursitis in the knee</td>\n",
       "      <td>0</td>\n",
       "    </tr>\n",
       "    <tr>\n",
       "      <th>18</th>\n",
       "      <td>what is cataract surgery</td>\n",
       "      <td>0</td>\n",
       "    </tr>\n",
       "    <tr>\n",
       "      <th>19</th>\n",
       "      <td>what is plantar fasciitis</td>\n",
       "      <td>0</td>\n",
       "    </tr>\n",
       "  </tbody>\n",
       "</table>\n",
       "</div>"
      ],
      "text/plain": [
       "                           Keyword  Intent_1\n",
       "0              poison oak pictures         4\n",
       "1    best foods for hypothyroidism         1\n",
       "2           kidney stones in women         0\n",
       "3      what spider bites look like         4\n",
       "4   fifths disease picture of rash         4\n",
       "5    multi myeloma life expectancy         1\n",
       "6             pictures of impetigo         4\n",
       "7   how serious is spinal stenosis         1\n",
       "8        how to correct hammer toe         2\n",
       "9         ear wax removal peroxide         1\n",
       "10        side effects of diabetes         1\n",
       "11         pictures of foot rashes         4\n",
       "12     zenni optical discount code         5\n",
       "13               where is pancreas         1\n",
       "14         what causes blood clots         1\n",
       "15      canker sores on the tongue         0\n",
       "16       what is enlarged prostate         0\n",
       "17    what is bursitis in the knee         0\n",
       "18        what is cataract surgery         0\n",
       "19       what is plantar fasciitis         0"
      ]
     },
     "execution_count": 6,
     "metadata": {},
     "output_type": "execute_result"
    }
   ],
   "source": [
    "#health_data['duplicates'] = health_data.duplicated('Keyword')\n",
    "health_data.head(20)"
   ]
  },
  {
   "cell_type": "code",
   "execution_count": 7,
   "metadata": {
    "collapsed": false
   },
   "outputs": [],
   "source": [
    "healthy = health_data.drop_duplicates('Keyword')\n",
    "keywords = healthy['Keyword']\n",
    "\n"
   ]
  },
  {
   "cell_type": "code",
   "execution_count": 8,
   "metadata": {
    "collapsed": false
   },
   "outputs": [
    {
     "name": "stdout",
     "output_type": "stream",
     "text": [
      "<class 'pandas.core.frame.DataFrame'>\n",
      "Int64Index: 55000 entries, 0 to 65832\n",
      "Data columns (total 2 columns):\n",
      "Keyword     55000 non-null object\n",
      "Intent_1    55000 non-null int64\n",
      "dtypes: int64(1), object(1)\n",
      "memory usage: 1.3+ MB\n"
     ]
    },
    {
     "data": {
      "text/plain": [
       "1    21958\n",
       "0    21868\n",
       "2     5280\n",
       "4     4631\n",
       "5      642\n",
       "3      621\n",
       "Name: Intent_1, dtype: int64"
      ]
     },
     "execution_count": 8,
     "metadata": {},
     "output_type": "execute_result"
    }
   ],
   "source": [
    "healthy.info()\n",
    "healthy.Intent_1.value_counts()"
   ]
  },
  {
   "cell_type": "code",
   "execution_count": 9,
   "metadata": {
    "collapsed": false
   },
   "outputs": [],
   "source": [
    "#vect = CountVectorizer(decode_error = 'ignore', stop_words = 'english')\n",
    "#vect.fit(keywords)\n",
    "#kw_features = vect.get_feature_names()\n",
    "#instantiate CountVectorizer, fit the data, get the features\n",
    "\n",
    "#kw_dtm = vect.transform(keywords)\n",
    "#kw_array = kw_dtm.toarray()\n",
    "\n",
    "\n",
    "#kw_token_counts = pd.DataFrame({'token':kw_features, 'count':np.sum(kw_array, axis=0)})\n",
    "#kw_token_counts.sort_values(by='count', ascending=False)"
   ]
  },
  {
   "cell_type": "markdown",
   "metadata": {
    "collapsed": true
   },
   "source": [
    "my_ks = range(2,16)\n",
    "silhouettes = []\n",
    "for k in my_ks:\n",
    "    temp_kn = KMeans(k)\n",
    "    temp_kn.fit(X)\n",
    "    temp_labels = temp_kn.labels_\n",
    "    new_score = silhouette_score(X,temp_labels,metric='euclidean')\n",
    "    silhouettes.append(new_score)\n",
    "silhouettes"
   ]
  },
  {
   "cell_type": "code",
   "execution_count": 10,
   "metadata": {
    "collapsed": false
   },
   "outputs": [
    {
     "name": "stdout",
     "output_type": "stream",
     "text": [
      "<class 'pandas.core.frame.DataFrame'>\n",
      "Int64Index: 43826 entries, 1 to 65832\n",
      "Data columns (total 2 columns):\n",
      "Keyword     43826 non-null object\n",
      "Intent_1    43826 non-null int64\n",
      "dtypes: int64(1), object(1)\n",
      "memory usage: 1.0+ MB\n"
     ]
    },
    {
     "data": {
      "text/plain": [
       "1    21958\n",
       "0    21868\n",
       "Name: Intent_1, dtype: int64"
      ]
     },
     "execution_count": 10,
     "metadata": {},
     "output_type": "execute_result"
    }
   ],
   "source": [
    "#da_frame= healthy[healthy['Intent_1'] == 1]\n",
    "#kws = da_frame['Keyword']\n",
    "\n",
    "da_gen_frame = healthy[healthy['Intent_1']<2].copy()\n",
    "kws = da_gen_frame['Keyword']\n",
    "\n",
    "da_gen_frame.info()\n",
    "da_gen_frame.Intent_1.value_counts()"
   ]
  },
  {
   "cell_type": "markdown",
   "metadata": {},
   "source": [
    "#Adding this tanks precision from 78 - 74%\n",
    "#Function to clean individual keyword\n",
    "def clean_keywords(keyword):\n",
    "    \n",
    "    #Remove non-letters\n",
    "    letters_only = re.sub(\"[^a-zA-Z]\", \" \", keyword)\n",
    "    \n",
    "    #Lowercase & splits the keyword on white space so we can iterate through individual words of the keyword\n",
    "    tokenized_keyword = letters_only.lower().split()\n",
    "    \n",
    "    #Stopwords are terms that occur frequently but generally do not carry much meaning within sentence/phrase (i.e. \"the\", \"her\")\n",
    "    #The NLTK toolkit has a built-in stopword list. This line grabs the list and turns it into a set for faster processing.\n",
    "    stopword = set(stopwords.words(\"english\"))\n",
    "    \n",
    "    #Removes words contain in the stopword list\n",
    "    meaningful_words = [kw for kw in tokenized_keyword if not kw in stopword]\n",
    "    \n",
    "    #Replaces the whitespace\n",
    "    return( \" \".join( meaningful_words ))\n",
    "\n",
    "#Apply function to all the keywords!\n",
    "da_gen_frame['Keyword'] = kws.apply(clean_keywords)\n",
    "kws.head(10)"
   ]
  },
  {
   "cell_type": "code",
   "execution_count": 161,
   "metadata": {
    "collapsed": false
   },
   "outputs": [
    {
     "name": "stdout",
     "output_type": "stream",
     "text": [
      "(32869,) (32869,) (10957,) (10957,)\n"
     ]
    }
   ],
   "source": [
    "#from sklearn.cross_validation import train_test_split\n",
    "#X_train, X_test, y_train, y_test = train_test_split(da_gen_frame.Keyword, da_gen_frame.Intent_1, random_state=1)\n",
    "#print X_train.shape, y_train.shape, X_test.shape, y_test.shape"
   ]
  },
  {
   "cell_type": "code",
   "execution_count": 15,
   "metadata": {
    "collapsed": false
   },
   "outputs": [],
   "source": [
    "#TFIDF vectorize and count\n",
    "from sklearn.feature_extraction.text import TfidfVectorizer\n",
    "tfidf_vectorizer = TfidfVectorizer(use_idf=True)\n",
    "\n",
    "kws_dtm = tfidf_vectorizer.fit_transform(kws) #fit the vectorizer to keywords\n",
    "kws_features = tfidf_vectorizer.get_feature_names() #list of features/vocab used in tf-idf matrix\n",
    "\n",
    "X = kws_dtm.toarray() #turn the matrix into an array\n",
    "y = da_gen_frame['Intent_1']"
   ]
  },
  {
   "cell_type": "code",
   "execution_count": null,
   "metadata": {
    "collapsed": true
   },
   "outputs": [],
   "source": [
    "#Multinomial Naive Bayes\n",
    "from sklearn.naive_bayes import MultinomialNB\n",
    "nb = MultinomialNB()\n",
    "nb.fit(train_dtm, y_train)"
   ]
  },
  {
   "cell_type": "code",
   "execution_count": 147,
   "metadata": {
    "collapsed": false
   },
   "outputs": [
    {
     "data": {
      "text/plain": [
       "array([1, 0, 0, ..., 1, 1, 0])"
      ]
     },
     "execution_count": 147,
     "metadata": {},
     "output_type": "execute_result"
    }
   ],
   "source": [
    "# make predictions on test data using test_dtm\n",
    "preds = nb.predict(test_dtm)\n",
    "preds"
   ]
  },
  {
   "cell_type": "code",
   "execution_count": 148,
   "metadata": {
    "collapsed": false
   },
   "outputs": [
    {
     "name": "stdout",
     "output_type": "stream",
     "text": [
      "0.778406498129\n",
      "[[4108 1367]\n",
      " [1061 4421]]\n"
     ]
    }
   ],
   "source": [
    "# compare predictions to true labels\n",
    "from sklearn import metrics\n",
    "\n",
    "print metrics.accuracy_score(y_test, preds)\n",
    "print metrics.confusion_matrix(y_test, preds)\n"
   ]
  },
  {
   "cell_type": "code",
   "execution_count": 149,
   "metadata": {
    "collapsed": false
   },
   "outputs": [
    {
     "data": {
      "text/html": [
       "<div>\n",
       "<table border=\"1\" class=\"dataframe\">\n",
       "  <thead>\n",
       "    <tr style=\"text-align: right;\">\n",
       "      <th></th>\n",
       "      <th>Actual Generic</th>\n",
       "      <th>Actual Direct Answer</th>\n",
       "    </tr>\n",
       "  </thead>\n",
       "  <tbody>\n",
       "    <tr>\n",
       "      <th>Predicted Generic</th>\n",
       "      <td>4108</td>\n",
       "      <td>1367</td>\n",
       "    </tr>\n",
       "    <tr>\n",
       "      <th>Predicted Direct Answer</th>\n",
       "      <td>1061</td>\n",
       "      <td>4421</td>\n",
       "    </tr>\n",
       "  </tbody>\n",
       "</table>\n",
       "</div>"
      ],
      "text/plain": [
       "                         Actual Generic  Actual Direct Answer\n",
       "Predicted Generic                  4108                  1367\n",
       "Predicted Direct Answer            1061                  4421"
      ]
     },
     "execution_count": 149,
     "metadata": {},
     "output_type": "execute_result"
    }
   ],
   "source": [
    "cm = metrics.confusion_matrix(y_test,preds)\n",
    "cm_df = pd.DataFrame(cm, index=['Predicted Generic', 'Predicted Direct Answer'], \n",
    "                     columns=['Actual Generic', 'Actual Direct Answer'])\n",
    "\n",
    "cm_df"
   ]
  },
  {
   "cell_type": "code",
   "execution_count": 150,
   "metadata": {
    "collapsed": false
   },
   "outputs": [
    {
     "data": {
      "text/plain": [
       "38831     irregular menstruation period\n",
       "19907          health benefits of cacao\n",
       "54448                 normal gfr by age\n",
       "60692          involuntary head shaking\n",
       "55379                overactive thyroid\n",
       "39287          magnesium as a sleep aid\n",
       "60077              liver detoxification\n",
       "37271            icy hot medicated roll\n",
       "17604              lithotripsy recovery\n",
       "47778         blood sugar normal ranges\n",
       "26396       foods with fiber for adults\n",
       "19757          bronchitis home remedies\n",
       "60586           types of brain seizures\n",
       "44846      denture cream zinc poisoning\n",
       "55756         what is black cohosh root\n",
       "36003                antibiotic listing\n",
       "19317                     flu shot 2014\n",
       "52211             cherry juice and gout\n",
       "3124                 lung cancer stages\n",
       "54781              severe carpal tunnel\n",
       "19798                      uvula cancer\n",
       "34769                 senokot laxatives\n",
       "33672            herbal muscle relaxers\n",
       "58991          cure for liver cirrhosis\n",
       "37406                  hiv aids summary\n",
       "16307        chemotherapy and radiation\n",
       "60068           swelling on side of jaw\n",
       "26063           life expectancy of 2014\n",
       "17259                   asthmatic cough\n",
       "18159     are grapes good for diabetics\n",
       "                      ...              \n",
       "21592               doctor office signs\n",
       "36024                         petri oil\n",
       "58978            the legal drinking age\n",
       "20871       late stages of lyme disease\n",
       "37957    heart attacks in women over 50\n",
       "57012        rheumatoid arthritis lupus\n",
       "39832              optometrists near me\n",
       "23754             list of birth defects\n",
       "64685             buffalo hump in women\n",
       "47230          ferritin levels in blood\n",
       "16045         willow bark for arthritis\n",
       "38595             can you see head lice\n",
       "60552        symptom checker from webmd\n",
       "56839                 what is dysphagia\n",
       "24548         pet scan to detect cancer\n",
       "2846          how many stages in cancer\n",
       "39193       recipes for hemochromatosis\n",
       "22918        what is echinacea good for\n",
       "43014             high cholestrol foods\n",
       "53935           excessive iron in blood\n",
       "48818       diuretic foods or beverages\n",
       "57181         what are uterine fibroids\n",
       "65302     natural herbs for pain relief\n",
       "2470               what is saw palmetto\n",
       "39636           gallstones in bile duct\n",
       "25363               what is hot flashes\n",
       "52679           cubital tunnel syndrome\n",
       "35375                what is normal hdl\n",
       "25782           what's ginseng used for\n",
       "50059           stent for kidney stones\n",
       "Name: Keyword, dtype: object"
      ]
     },
     "execution_count": 150,
     "metadata": {},
     "output_type": "execute_result"
    }
   ],
   "source": [
    "X_test[(y_test == 0) & (preds == 1)]"
   ]
  },
  {
   "cell_type": "code",
   "execution_count": null,
   "metadata": {
    "collapsed": true
   },
   "outputs": [],
   "source": []
  },
  {
   "cell_type": "code",
   "execution_count": null,
   "metadata": {
    "collapsed": true
   },
   "outputs": [],
   "source": []
  }
 ],
 "metadata": {
  "kernelspec": {
   "display_name": "Python 2",
   "language": "python",
   "name": "python2"
  },
  "language_info": {
   "codemirror_mode": {
    "name": "ipython",
    "version": 2
   },
   "file_extension": ".py",
   "mimetype": "text/x-python",
   "name": "python",
   "nbconvert_exporter": "python",
   "pygments_lexer": "ipython2",
   "version": "2.7.11"
  }
 },
 "nbformat": 4,
 "nbformat_minor": 0
}
