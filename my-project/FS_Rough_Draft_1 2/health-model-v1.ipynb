{
 "cells": [
  {
   "cell_type": "code",
   "execution_count": 11,
   "metadata": {
    "collapsed": true
   },
   "outputs": [],
   "source": [
    "#Import all the things\n",
    "import pandas as pd    \n",
    "import numpy as np\n",
    "import re\n",
    "from nltk.corpus import stopwords\n",
    "from sklearn.cross_validation import train_test_split\n",
    "from sklearn.cross_validation import cross_val_score\n",
    "from sklearn.naive_bayes import MultinomialNB\n",
    "from sklearn import metrics\n",
    "\n",
    "#Read in the data\n",
    "data = pd.read_csv(\"health_data.tsv\", header=0, \\\n",
    "                    delimiter=\"\\t\")"
   ]
  },
  {
   "cell_type": "code",
   "execution_count": 12,
   "metadata": {
    "collapsed": false
   },
   "outputs": [
    {
     "data": {
      "text/html": [
       "<div>\n",
       "<table border=\"1\" class=\"dataframe\">\n",
       "  <thead>\n",
       "    <tr style=\"text-align: right;\">\n",
       "      <th></th>\n",
       "      <th>CS_ID</th>\n",
       "      <th>Keyword_ID</th>\n",
       "      <th>Keyword</th>\n",
       "      <th>Intent_1</th>\n",
       "      <th>Authority</th>\n",
       "    </tr>\n",
       "  </thead>\n",
       "  <tbody>\n",
       "    <tr>\n",
       "      <th>0</th>\n",
       "      <td>CS_0001</td>\n",
       "      <td>3486</td>\n",
       "      <td>poison oak pictures</td>\n",
       "      <td>Resource</td>\n",
       "      <td>General</td>\n",
       "    </tr>\n",
       "    <tr>\n",
       "      <th>1</th>\n",
       "      <td>CS_0002</td>\n",
       "      <td>3486</td>\n",
       "      <td>best foods for hypothyroidism</td>\n",
       "      <td>Direct Answer</td>\n",
       "      <td>Expert</td>\n",
       "    </tr>\n",
       "    <tr>\n",
       "      <th>2</th>\n",
       "      <td>CS_0003</td>\n",
       "      <td>3486</td>\n",
       "      <td>kidney stones in women</td>\n",
       "      <td>Generic</td>\n",
       "      <td>Expert</td>\n",
       "    </tr>\n",
       "    <tr>\n",
       "      <th>3</th>\n",
       "      <td>CS_0004</td>\n",
       "      <td>3484</td>\n",
       "      <td>what spider bites look like</td>\n",
       "      <td>Resource</td>\n",
       "      <td>General</td>\n",
       "    </tr>\n",
       "    <tr>\n",
       "      <th>4</th>\n",
       "      <td>CS_0005</td>\n",
       "      <td>3484</td>\n",
       "      <td>fifths disease picture of rash</td>\n",
       "      <td>Resource</td>\n",
       "      <td>General</td>\n",
       "    </tr>\n",
       "    <tr>\n",
       "      <th>5</th>\n",
       "      <td>CS_0006</td>\n",
       "      <td>3484</td>\n",
       "      <td>multi myeloma life expectancy</td>\n",
       "      <td>Direct Answer</td>\n",
       "      <td>Expert</td>\n",
       "    </tr>\n",
       "    <tr>\n",
       "      <th>6</th>\n",
       "      <td>CS_0007</td>\n",
       "      <td>3483</td>\n",
       "      <td>pictures of impetigo</td>\n",
       "      <td>Resource</td>\n",
       "      <td>General</td>\n",
       "    </tr>\n",
       "    <tr>\n",
       "      <th>7</th>\n",
       "      <td>CS_0008</td>\n",
       "      <td>3483</td>\n",
       "      <td>how serious is spinal stenosis</td>\n",
       "      <td>Direct Answer</td>\n",
       "      <td>Expert</td>\n",
       "    </tr>\n",
       "    <tr>\n",
       "      <th>8</th>\n",
       "      <td>CS_0009</td>\n",
       "      <td>3483</td>\n",
       "      <td>how to correct hammer toe</td>\n",
       "      <td>Guide</td>\n",
       "      <td>Expert</td>\n",
       "    </tr>\n",
       "    <tr>\n",
       "      <th>9</th>\n",
       "      <td>CS_0010</td>\n",
       "      <td>3482</td>\n",
       "      <td>ear wax removal peroxide</td>\n",
       "      <td>Direct Answer</td>\n",
       "      <td>Expert</td>\n",
       "    </tr>\n",
       "  </tbody>\n",
       "</table>\n",
       "</div>"
      ],
      "text/plain": [
       "     CS_ID  Keyword_ID                         Keyword       Intent_1  \\\n",
       "0  CS_0001        3486             poison oak pictures       Resource   \n",
       "1  CS_0002        3486   best foods for hypothyroidism  Direct Answer   \n",
       "2  CS_0003        3486          kidney stones in women        Generic   \n",
       "3  CS_0004        3484     what spider bites look like       Resource   \n",
       "4  CS_0005        3484  fifths disease picture of rash       Resource   \n",
       "5  CS_0006        3484   multi myeloma life expectancy  Direct Answer   \n",
       "6  CS_0007        3483            pictures of impetigo       Resource   \n",
       "7  CS_0008        3483  how serious is spinal stenosis  Direct Answer   \n",
       "8  CS_0009        3483       how to correct hammer toe          Guide   \n",
       "9  CS_0010        3482        ear wax removal peroxide  Direct Answer   \n",
       "\n",
       "  Authority  \n",
       "0   General  \n",
       "1    Expert  \n",
       "2    Expert  \n",
       "3   General  \n",
       "4   General  \n",
       "5    Expert  \n",
       "6   General  \n",
       "7    Expert  \n",
       "8    Expert  \n",
       "9    Expert  "
      ]
     },
     "execution_count": 12,
     "metadata": {},
     "output_type": "execute_result"
    }
   ],
   "source": [
    "data.head(10)"
   ]
  },
  {
   "cell_type": "code",
   "execution_count": 6,
   "metadata": {
    "collapsed": false
   },
   "outputs": [],
   "source": [
    "#Drop columns that will not be used in the analysis\n",
    "health_data = data.drop([\"CS_ID\", \"Keyword_ID\", \"Authority\"], axis=1)\n",
    "health_data.head(10)\n",
    "\n",
    "#Change User Intent labels to numerical values\n",
    "health_data['Intent_1'] = health_data.Intent_1.map({'Generic': 0 , 'Direct Answer': 1, 'Guide': 2, 'Navigational': 3, 'Resource': 4, 'Transactional': 5 })\n",
    "\n",
    "keywords = health_data['Keyword']"
   ]
  },
  {
   "cell_type": "code",
   "execution_count": 14,
   "metadata": {
    "collapsed": false
   },
   "outputs": [
    {
     "data": {
      "text/plain": [
       "0              poison oak pictures\n",
       "1        best foods hypothyroidism\n",
       "2              kidney stones women\n",
       "3           spider bites look like\n",
       "4      fifths disease picture rash\n",
       "5    multi myeloma life expectancy\n",
       "6                pictures impetigo\n",
       "7          serious spinal stenosis\n",
       "8               correct hammer toe\n",
       "9         ear wax removal peroxide\n",
       "Name: Keyword, dtype: object"
      ]
     },
     "execution_count": 14,
     "metadata": {},
     "output_type": "execute_result"
    }
   ],
   "source": [
    "#Function to clean individual keyword\n",
    "def clean_keywords(keyword):\n",
    "    \n",
    "    #Remove non-letters\n",
    "    letters_only = re.sub(\"[^a-zA-Z]\", \" \", keyword)\n",
    "    \n",
    "    #Lowercase & splits the keyword on white space so we can iterate through individual words of the keyword\n",
    "    tokenized_keyword = letters_only.lower().split()\n",
    "    \n",
    "    #Stopwords are terms that occur frequently but generally do not carry much meaning within sentence/phrase (i.e. \"the\", \"her\")\n",
    "    #The NLTK toolkit has a built-in stopword list. This line grabs the list and turns it into a set for faster processing.\n",
    "    stopword = set(stopwords.words(\"english\"))\n",
    "    \n",
    "    #Removes words contain in the stopword list\n",
    "    meaningful_words = [kw for kw in tokenized_keyword if not kw in stopword]\n",
    "    \n",
    "    #Replaces the whitespace\n",
    "    return( \" \".join( meaningful_words ))\n",
    "\n",
    "#Apply function to all the keywords!\n",
    "health_data['Keyword'] = keywords.apply(clean_keywords)\n",
    "keywords.head(10)"
   ]
  },
  {
   "cell_type": "code",
   "execution_count": 15,
   "metadata": {
    "collapsed": false
   },
   "outputs": [
    {
     "data": {
      "text/html": [
       "<div>\n",
       "<table border=\"1\" class=\"dataframe\">\n",
       "  <thead>\n",
       "    <tr style=\"text-align: right;\">\n",
       "      <th></th>\n",
       "      <th>Keyword</th>\n",
       "      <th>Intent_1</th>\n",
       "    </tr>\n",
       "  </thead>\n",
       "  <tbody>\n",
       "    <tr>\n",
       "      <th>1</th>\n",
       "      <td>best foods hypothyroidism</td>\n",
       "      <td>1</td>\n",
       "    </tr>\n",
       "    <tr>\n",
       "      <th>2</th>\n",
       "      <td>kidney stones women</td>\n",
       "      <td>0</td>\n",
       "    </tr>\n",
       "    <tr>\n",
       "      <th>5</th>\n",
       "      <td>multi myeloma life expectancy</td>\n",
       "      <td>1</td>\n",
       "    </tr>\n",
       "    <tr>\n",
       "      <th>7</th>\n",
       "      <td>serious spinal stenosis</td>\n",
       "      <td>1</td>\n",
       "    </tr>\n",
       "    <tr>\n",
       "      <th>9</th>\n",
       "      <td>ear wax removal peroxide</td>\n",
       "      <td>1</td>\n",
       "    </tr>\n",
       "    <tr>\n",
       "      <th>10</th>\n",
       "      <td>side effects diabetes</td>\n",
       "      <td>1</td>\n",
       "    </tr>\n",
       "    <tr>\n",
       "      <th>13</th>\n",
       "      <td>pancreas</td>\n",
       "      <td>1</td>\n",
       "    </tr>\n",
       "    <tr>\n",
       "      <th>14</th>\n",
       "      <td>causes blood clots</td>\n",
       "      <td>1</td>\n",
       "    </tr>\n",
       "    <tr>\n",
       "      <th>15</th>\n",
       "      <td>canker sores tongue</td>\n",
       "      <td>0</td>\n",
       "    </tr>\n",
       "    <tr>\n",
       "      <th>16</th>\n",
       "      <td>enlarged prostate</td>\n",
       "      <td>0</td>\n",
       "    </tr>\n",
       "  </tbody>\n",
       "</table>\n",
       "</div>"
      ],
      "text/plain": [
       "                          Keyword  Intent_1\n",
       "1       best foods hypothyroidism         1\n",
       "2             kidney stones women         0\n",
       "5   multi myeloma life expectancy         1\n",
       "7         serious spinal stenosis         1\n",
       "9        ear wax removal peroxide         1\n",
       "10          side effects diabetes         1\n",
       "13                       pancreas         1\n",
       "14             causes blood clots         1\n",
       "15            canker sores tongue         0\n",
       "16              enlarged prostate         0"
      ]
     },
     "execution_count": 15,
     "metadata": {},
     "output_type": "execute_result"
    }
   ],
   "source": [
    "#Return a new dataframe with only the Generic and Direct Answer user intents\n",
    "health_data_gda = health_data[health_data.Intent_1<2] \n",
    "health_data_gda.head(10)"
   ]
  },
  {
   "cell_type": "code",
   "execution_count": 16,
   "metadata": {
    "collapsed": false
   },
   "outputs": [
    {
     "name": "stdout",
     "output_type": "stream",
     "text": [
      "(55627,) (55627,) (18543,) (18543,)\n"
     ]
    }
   ],
   "source": [
    "#Split into training and test sets\n",
    "from sklearn.cross_validation import train_test_split\n",
    "X_train, X_test, y_train, y_test = train_test_split(health_data_gda.Keyword, health_data_gda.Intent_1, random_state=1)\n",
    "print X_train.shape, y_train.shape, X_test.shape, y_test.shape"
   ]
  },
  {
   "cell_type": "code",
   "execution_count": 17,
   "metadata": {
    "collapsed": false
   },
   "outputs": [
    {
     "data": {
      "text/plain": [
       "(55627, 7798)"
      ]
     },
     "execution_count": 17,
     "metadata": {},
     "output_type": "execute_result"
    }
   ],
   "source": [
    "#Vectorize and turn into a document term matrix\n",
    "from sklearn.feature_extraction.text import CountVectorizer\n",
    "vect = CountVectorizer(decode_error = 'ignore')\n",
    "X_train_counts = vect.fit_transform(X_train)\n",
    "X_train_counts.shape"
   ]
  },
  {
   "cell_type": "code",
   "execution_count": 18,
   "metadata": {
    "collapsed": false
   },
   "outputs": [
    {
     "data": {
      "text/plain": [
       "(55627, 7798)"
      ]
     },
     "execution_count": 18,
     "metadata": {},
     "output_type": "execute_result"
    }
   ],
   "source": [
    "#\n",
    "from sklearn.feature_extraction.text import TfidfTransformer\n",
    "tfidf_transformer = TfidfTransformer()\n",
    "train_dtm = tfidf_transformer.fit_transform(X_train_counts)\n",
    "train_dtm.shape"
   ]
  },
  {
   "cell_type": "code",
   "execution_count": 19,
   "metadata": {
    "collapsed": false
   },
   "outputs": [
    {
     "data": {
      "text/plain": [
       "MultinomialNB(alpha=1.0, class_prior=None, fit_prior=True)"
      ]
     },
     "execution_count": 19,
     "metadata": {},
     "output_type": "execute_result"
    }
   ],
   "source": [
    "#Instantiate and fit model\n",
    "from sklearn.naive_bayes import MultinomialNB\n",
    "nb = MultinomialNB()\n",
    "nb.fit(train_dtm, y_train)"
   ]
  },
  {
   "cell_type": "code",
   "execution_count": 20,
   "metadata": {
    "collapsed": false
   },
   "outputs": [],
   "source": [
    "#Transform test data as we did training data\n",
    "X_test_counts = vect.transform(X_test)\n",
    "test_dtm = tfidf_transformer.transform(X_test_counts)"
   ]
  },
  {
   "cell_type": "code",
   "execution_count": 21,
   "metadata": {
    "collapsed": false
   },
   "outputs": [
    {
     "data": {
      "text/plain": [
       "array([1, 0, 0, ..., 1, 1, 0])"
      ]
     },
     "execution_count": 21,
     "metadata": {},
     "output_type": "execute_result"
    }
   ],
   "source": [
    "#Predict over test data\n",
    "preds = nb.predict(test_dtm)\n",
    "preds"
   ]
  },
  {
   "cell_type": "code",
   "execution_count": 27,
   "metadata": {
    "collapsed": false
   },
   "outputs": [
    {
     "name": "stdout",
     "output_type": "stream",
     "text": [
      "Accuracy Score: 0.761203688724\n",
      "Confusion Matrix: \n",
      "[[4495 3255]\n",
      " [1173 9620]]\n"
     ]
    }
   ],
   "source": [
    "#Let's get our accuracy score and confusion matrix\n",
    "from sklearn import metrics\n",
    "\n",
    "print(\"Accuracy Score: \" + str(metrics.accuracy_score(y_test, preds)))\n",
    "print (\"Confusion Matrix: \" + '\\n' + str(metrics.confusion_matrix(y_test, preds)))"
   ]
  },
  {
   "cell_type": "code",
   "execution_count": 28,
   "metadata": {
    "collapsed": false
   },
   "outputs": [
    {
     "data": {
      "text/plain": [
       "45002                   ct scan detect\n",
       "25300      ablation procedure recovery\n",
       "31480                liver test levels\n",
       "86166      heart transplant statistics\n",
       "45951     large red blood cells cancer\n",
       "20263                pain lung surgery\n",
       "57343            coughing clear phlegm\n",
       "9673            high white blood count\n",
       "6171          radiculopathy definition\n",
       "39314                 skin cancer hurt\n",
       "47415    bifocal vs progressive lenses\n",
       "84614               articles addiction\n",
       "34976               bone density score\n",
       "19964                  marfan syndrome\n",
       "29808          dr rachael ross married\n",
       "11796         free icd training online\n",
       "70996                       pdr online\n",
       "78053                  physician codes\n",
       "9600     free medical terminology test\n",
       "32014        prolozone therapy reviews\n",
       "76192                  surgeon ratings\n",
       "17139        ablation procedure uterus\n",
       "14055    hepatitis c antibody positive\n",
       "62485         lipid panel test results\n",
       "53052                  physician codes\n",
       "46955             laminectomy recovery\n",
       "58483         cataract surgery methods\n",
       "15903                  triam hctz used\n",
       "90594                    enema clinics\n",
       "29096                    test dyslexia\n",
       "                     ...              \n",
       "23516               disc desiccation l\n",
       "6818                 omeprazole cap mg\n",
       "37516             injections psoriasis\n",
       "34029            street names caffeine\n",
       "31529                 online pill book\n",
       "38045             sgot sgpt high level\n",
       "87166         blood sugar test results\n",
       "74602      normal thyroglobulin levels\n",
       "81488           collapsed lung surgery\n",
       "72541      spinal laminectomy recovery\n",
       "29818        lower back pain equipment\n",
       "60757      colorectal surgery recovery\n",
       "37960                 cpt fee schedule\n",
       "37214            lupus muscle weakness\n",
       "40822                    low diastolic\n",
       "19875         blood pressure solutions\n",
       "65324             eye lens replacement\n",
       "80534             hip pain replacement\n",
       "50134       procedure code lookup free\n",
       "15187              lymph swelling neck\n",
       "56385          excessive head sweating\n",
       "43974               leg pain diagnosis\n",
       "39679           colorectal examination\n",
       "34289                       drum facts\n",
       "51813             pain right lung back\n",
       "82867                  types carcinoma\n",
       "67964               laminectomy fusion\n",
       "36567             compressed disk neck\n",
       "84865               pseudoephedrine mg\n",
       "30027       advanced parkinson disease\n",
       "Name: Keyword, dtype: object"
      ]
     },
     "execution_count": 28,
     "metadata": {},
     "output_type": "execute_result"
    }
   ],
   "source": [
    "# Let's look at some errors in the model. \n",
    "X_test[(y_test == 1) & (preds == 0)]"
   ]
  },
  {
   "cell_type": "code",
   "execution_count": null,
   "metadata": {
    "collapsed": true
   },
   "outputs": [],
   "source": []
  }
 ],
 "metadata": {
  "kernelspec": {
   "display_name": "Python 2",
   "language": "python",
   "name": "python2"
  },
  "language_info": {
   "codemirror_mode": {
    "name": "ipython",
    "version": 2
   },
   "file_extension": ".py",
   "mimetype": "text/x-python",
   "name": "python",
   "nbconvert_exporter": "python",
   "pygments_lexer": "ipython2",
   "version": "2.7.11"
  }
 },
 "nbformat": 4,
 "nbformat_minor": 0
}
