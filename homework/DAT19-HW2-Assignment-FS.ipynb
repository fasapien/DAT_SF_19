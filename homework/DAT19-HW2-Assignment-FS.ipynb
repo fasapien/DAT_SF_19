{
 "cells": [
  {
   "cell_type": "markdown",
   "metadata": {},
   "source": [
    "# DAT 19: Homework 2 Assignment"
   ]
  },
  {
   "cell_type": "code",
   "execution_count": null,
   "metadata": {
    "collapsed": false
   },
   "outputs": [],
   "source": []
  },
  {
   "cell_type": "markdown",
   "metadata": {},
   "source": [
    "## Instructions\n",
    "\n",
    "For Homework 2, we will build on the work we did with the Titanic dataset in Homework 1. In this assignment, we will build a logistic regression model to predict passenger survival.\n",
    "\n",
    "Please do all your analysis to answer the questions below in this Jupyter notebook. Show your work.\n",
    "\n",
    "**Please submit your completed notebook by 6:00PM on Monday, January 11.**"
   ]
  },
  {
   "cell_type": "markdown",
   "metadata": {},
   "source": [
    "## About the Data\n",
    "\n",
    "```\n",
    "VARIABLE DESCRIPTIONS:\n",
    "survival        Survival\n",
    "                (0 = No; 1 = Yes)\n",
    "pclass          Passenger Class\n",
    "                (1 = 1st; 2 = 2nd; 3 = 3rd)\n",
    "name            Name\n",
    "sex             Sex\n",
    "age             Age\n",
    "sibsp           Number of Siblings/Spouses Aboard\n",
    "parch           Number of Parents/Children Aboard\n",
    "ticket          Ticket Number\n",
    "fare            Passenger Fare\n",
    "cabin           Cabin\n",
    "embarked        Port of Embarkation\n",
    "                (C = Cherbourg; Q = Queenstown; S = Southampton)\n",
    "\n",
    "SPECIAL NOTES:\n",
    "Pclass is a proxy for socio-economic status (SES)\n",
    " 1st ~ Upper; 2nd ~ Middle; 3rd ~ Lower\n",
    "\n",
    "Age is in Years; Fractional if Age less than One (1)\n",
    " If the Age is Estimated, it is in the form xx.5\n",
    "\n",
    "With respect to the family relation variables (i.e. sibsp and parch)\n",
    "some relations were ignored.  The following are the definitions used\n",
    "for sibsp and parch.\n",
    "\n",
    "Sibling:  Brother, Sister, Stepbrother, or Stepsister of Passenger Aboard Titanic\n",
    "Spouse:   Husband or Wife of Passenger Aboard Titanic (Mistresses and Fiances Ignored)\n",
    "Parent:   Mother or Father of Passenger Aboard Titanic\n",
    "Child:    Son, Daughter, Stepson, or Stepdaughter of Passenger Aboard Titanic\n",
    "\n",
    "Other family relatives excluded from this study include cousins,\n",
    "nephews/nieces, aunts/uncles, and in-laws.  Some children travelled\n",
    "only with a nanny, therefore parch=0 for them.  As well, some\n",
    "travelled with very close friends or neighbors in a village, however,\n",
    "the definitions do not support such relations.\n",
    "```"
   ]
  },
  {
   "cell_type": "markdown",
   "metadata": {},
   "source": [
    "## Homework Assignment"
   ]
  },
  {
   "cell_type": "markdown",
   "metadata": {},
   "source": [
    "**1) Create a logistic regression model on the Titanic dataset to predict the survival of passengers. Show your model output. Include coefficient values.**"
   ]
  },
  {
   "cell_type": "code",
   "execution_count": 131,
   "metadata": {
    "collapsed": false
   },
   "outputs": [],
   "source": [
    "import pandas as pd\n",
    "import numpy as np\n",
    "from sklearn.cross_validation import cross_val_score\n",
    "from sklearn.linear_model import LogisticRegression\n",
    "from sklearn.preprocessing import StandardScaler\n",
    "\n",
    "#Cleaning up the data\n",
    "titanic = pd.read_csv(\"titanic.csv\", header=0)\n",
    "\n",
    "\n",
    "#Changing gender to binary 0 - 1\n",
    "titanic.Sex.replace(['female', 'male'],[0,1],inplace=True)\n",
    "\n",
    "#Replacing missing ages with mean of age\n",
    "titanic.Age = titanic.Age.fillna(titanic.Age.mean())\n",
    "\n",
    "#Dropping the columns I will not use in my model, based on Homework 1 \n",
    "titanic_set = titanic.drop(['PassengerId', 'Name', 'Ticket', 'Fare', 'Cabin', 'Embarked'], axis=1) \n",
    "\n"
   ]
  },
  {
   "cell_type": "code",
   "execution_count": 132,
   "metadata": {
    "collapsed": false
   },
   "outputs": [
    {
     "name": "stdout",
     "output_type": "stream",
     "text": [
      "   PassengerId  Survived\n",
      "0            1         0\n",
      "1            2         1\n",
      "2            3         1\n",
      "3            4         1\n",
      "4            5         0\n",
      "5            6         0\n",
      "6            7         0\n",
      "7            8         0\n",
      "8            9         1\n",
      "9           10         1\n",
      "Actual Survival Rate (Training Set): 38.3838383838\n",
      "Survival Rate (Training Set): 36.9248035915\n",
      "Coefficient Values:  [[-0.96397009 -1.3062986  -0.50920669 -0.35877595 -0.06369496]]\n"
     ]
    }
   ],
   "source": [
    "#Logistic Regression Model\n",
    "\n",
    "target = titanic_set.Survived\n",
    "features = titanic_set.drop('Survived',axis=1)\n",
    "new_features = StandardScaler().fit_transform(features)\n",
    "\n",
    "model_lr = LogisticRegression(C=1).fit(new_features, target)\n",
    "\n",
    "predictions = model_lr.predict(new_features)\n",
    "train_predictions = pd.DataFrame({\n",
    "        \"PassengerId\": titanic[\"PassengerId\"],\n",
    "        \"Survived\": predictions\n",
    "    })\n",
    "\n",
    "train_survival_rate = train_predictions[\"Survived\"].mean() * 100\n",
    "actual_train_survival_rate = titanic[\"Survived\"].mean() * 100\n",
    "\n",
    "print(train_predictions.head(10))\n",
    "print \"Actual Survival Rate (Training Set): \" + str(actual_train_survival_rate)\n",
    "print \"Survival Rate (Training Set): \" + str(train_survival_rate)\n",
    "print \"Coefficient Values: \", + model_lr.coef_"
   ]
  },
  {
   "cell_type": "markdown",
   "metadata": {},
   "source": [
    "**2) Which features are predictive for this logistic regression? Explain your thinking. Do not simply cite model statistics.**"
   ]
  },
  {
   "cell_type": "markdown",
   "metadata": {
    "collapsed": false
   },
   "source": [
    "Gender (sex) and passenger class are the clearest predictive features for this model, followed by age. \n",
    "Gender seems to have the most significant relationship to survival-- in this case, a being a man on the Titanic (represented by 1 in the training data) was far less likely to survive, indicated by the inverse relationship of sex to survival. If you flip the genders (1 for female, 0 for male), the relationship flips-- being female increases the likelihood that a person will survive. Passenger class also has an inverse relationship to survival-- probability of survival decreases the higher the **value** of a person's passenger class (therefore, the lower their socioeconomic status)."
   ]
  },
  {
   "cell_type": "markdown",
   "metadata": {},
   "source": [
    "**3) Implement cross-validation for your logistic regression model. Select the number of folds. Explain your choice.**"
   ]
  },
  {
   "cell_type": "code",
   "execution_count": 133,
   "metadata": {
    "collapsed": false
   },
   "outputs": [
    {
     "data": {
      "text/plain": [
       "0.7968485415957326"
      ]
     },
     "execution_count": 133,
     "metadata": {},
     "output_type": "execute_result"
    }
   ],
   "source": [
    "cross_val_score(model_lr,features,target,cv=10).mean()"
   ]
  },
  {
   "cell_type": "markdown",
   "metadata": {},
   "source": [
    "Honestly, I read some Q&A on StackOverflow and Quora, and I'm still not entirely sure if 10 is the correct number of folds or if I should have picked something different. I need to dig into this further, but for the homework, 10 folds seems to be a \"safe\" choice."
   ]
  },
  {
   "cell_type": "markdown",
   "metadata": {},
   "source": [
    "**4) In the hw-assignments director on the class github repo, there is a file called titanic-test.csv. What does your logistic regression model predict for these previously unseen (i.e. out of sample) passengers?**"
   ]
  },
  {
   "cell_type": "code",
   "execution_count": 134,
   "metadata": {
    "collapsed": false
   },
   "outputs": [
    {
     "name": "stdout",
     "output_type": "stream",
     "text": [
      "   PassengerId  Survived\n",
      "0            1         0\n",
      "1            2         1\n",
      "2            3         1\n",
      "3            4         1\n",
      "4            5         0\n",
      "5            6         0\n",
      "6            7         0\n",
      "7            8         0\n",
      "8            9         1\n",
      "9           10         1\n",
      "Survival Rate (Test): 36.9248035915\n"
     ]
    }
   ],
   "source": [
    "titanic_test = pd.read_csv(\"titanic-test.csv\", header=0)\n",
    "\n",
    "#Clean up titanic_test the same way\n",
    "titanic_test.Sex.replace(['female', 'male'],[0,1],inplace=True)\n",
    "titanic_test.Age = titanic_test.Age.fillna(titanic.Age.mean())\n",
    "\n",
    "titanic_test_set = titanic_test.drop(['PassengerId', 'Name', 'Ticket', 'Fare', 'Cabin', 'Embarked'], axis=1)\n",
    "titanic_test_set_features = StandardScaler().fit_transform(titanic_test_set)\n",
    "\n",
    "\n",
    "model_lr = LogisticRegression(C=1).fit(new_features, target)\n",
    "\n",
    "test_predictions = model_lr.predict(titanic_test_set_features)\n",
    "test_predictions_viz = pd.DataFrame({\n",
    "        \"PassengerId\": titanic[\"PassengerId\"],\n",
    "        \"Survived\": predictions\n",
    "    })\n",
    "\n",
    "survival_rate_test = test_predictions_viz[\"Survived\"].mean() * 100\n",
    "\n",
    "print(test_predictions_viz.head(10))\n",
    "print \"Survival Rate (Test): \" + str(survival_rate_test)"
   ]
  }
 ],
 "metadata": {
  "kernelspec": {
   "display_name": "Python 2",
   "language": "python",
   "name": "python2"
  },
  "language_info": {
   "codemirror_mode": {
    "name": "ipython",
    "version": 2
   },
   "file_extension": ".py",
   "mimetype": "text/x-python",
   "name": "python",
   "nbconvert_exporter": "python",
   "pygments_lexer": "ipython2",
   "version": "2.7.11"
  }
 },
 "nbformat": 4,
 "nbformat_minor": 0
}
